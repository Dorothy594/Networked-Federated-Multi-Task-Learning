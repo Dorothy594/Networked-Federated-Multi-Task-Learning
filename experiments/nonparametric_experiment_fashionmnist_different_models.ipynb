{
 "cells": [
  {
   "cell_type": "code",
   "execution_count": null,
   "id": "3d856959",
   "metadata": {
    "id": "3d856959"
   },
   "outputs": [],
   "source": [
    "import random\n",
    "import numpy as np\n",
    "import pandas as pd\n",
    "import matplotlib\n",
    "import matplotlib.pyplot as plt\n",
    "import math\n",
    "import torch\n",
    "\n",
    "from torch import nn\n",
    "import torch.nn.functional as F\n",
    "import torch.optim as optim\n",
    "from sklearn.tree import DecisionTreeClassifier # Import Decision Tree Classifier\n",
    "from sklearn.model_selection import train_test_split # Import train_test_split function\n",
    "from sklearn import metrics #Import scikit-learn metrics module for accuracy calculation\n",
    "from torchvision import datasets\n",
    "\n"
   ]
  },
  {
   "cell_type": "code",
   "execution_count": null,
   "id": "3554b78d",
   "metadata": {
    "id": "3554b78d"
   },
   "outputs": [],
   "source": [
    "def get_fmnist_data():\n",
    "    data_dir = './data/non-parametric/'\n",
    "    train_dataset = datasets.FashionMNIST(data_dir, train=True, download=True)\n",
    "    test_dataset = datasets.FashionMNIST(data_dir, train=False, download=True)\n",
    "\n",
    "    X_train, y_train= train_dataset.train_data,train_dataset.train_labels\n",
    "    X_test, y_test = test_dataset.test_data,test_dataset.test_labels\n",
    "    \n",
    "    return np.array(X_train), np.array(y_train), np.array(X_test), np.array(y_test)"
   ]
  },
  {
   "cell_type": "code",
   "execution_count": null,
   "id": "d0999ec2-8107-4c3d-9af1-6e00369dc0aa",
   "metadata": {
    "id": "d0999ec2-8107-4c3d-9af1-6e00369dc0aa"
   },
   "outputs": [],
   "source": [
    "\n",
    "class LeNet(nn.Module):\n",
    "    def __init__(self):\n",
    "        super(LeNet, self).__init__()\n",
    "        self.conv1 = nn.Conv2d(1, 6, kernel_size=5)\n",
    "        self.conv2 = nn.Conv2d(6, 16, kernel_size=5)\n",
    "        self.fc1 = nn.Linear(16*4*4, 120)  ##本来是16*5*5，mnist改为16*4*4\n",
    "        self.fc2 = nn.Linear(120, 84)\n",
    "        self.fc3 = nn.Linear(84, 4)\n",
    "        self.sm = nn.LogSoftmax(dim=1)\n",
    "\n",
    "    def forward(self, x):\n",
    "        x = torch.Tensor(x).view(-1, 1, 28, 28).type(torch.float32)\n",
    "        x = F.relu(self.conv1(x))\n",
    "        x = F.max_pool2d(x, 2)\n",
    "        x = F.relu(self.conv2(x))\n",
    "        x = F.max_pool2d(x, 2)\n",
    "        x = x.view(x.size(0), -1)\n",
    "        x = F.relu(self.fc1(x))\n",
    "        x = F.relu(self.fc2(x))\n",
    "        x = self.fc3(x)\n",
    "        return F.log_softmax(x, dim=1)\n",
    "        # return self.sm(x)\n",
    "    \n",
    "    def predict(self, x):\n",
    "        output = self.forward(x)\n",
    "        output = output.data.max(1, keepdim=True)[1]\n",
    "        return output.reshape(-1)\n"
   ]
  },
  {
   "cell_type": "markdown",
   "id": "87e7971b",
   "metadata": {
    "id": "87e7971b"
   },
   "source": [
    "## Create the graph data"
   ]
  },
  {
   "cell_type": "markdown",
   "id": "b13b721b",
   "metadata": {
    "id": "b13b721b"
   },
   "source": [
    "Here we have a test dataset that is a comobination of the text datasets from both pima and cancer datasets mentioned above. Additionally, the features for each node of a graph is a random combination of these two datasets. For each node $i$, we first select a random number $r \\in [15, 85]$ and then we randomly select $r$% of the pima dataset and $(100-r)$% of the cancer dataset as the train dataset for the node $i$.\n",
    "\n",
    "Finally, the similarity score between nodes $i$ and $j$ is calculated based on the number of similar datapoint that they have in their training sets."
   ]
  },
  {
   "cell_type": "code",
   "execution_count": null,
   "id": "f9acb782",
   "metadata": {
    "id": "f9acb782"
   },
   "outputs": [],
   "source": [
    "def get_graph():\n",
    "    # load Pima dataset\n",
    "    X_train, y_train, X_test, y_test = get_fmnist_data()\n",
    "    X_train = X_train / 255.0\n",
    "    X_test = X_test / 255.0\n",
    "    \n",
    "    X_train = X_train.reshape(X_train.shape[0], 28*28)\n",
    "    X_test = X_test.reshape(X_test.shape[0], 28*28)\n",
    "    \n",
    "    \n",
    "    pima_train = np.where(y_train < 2)[0]\n",
    "    pima_X_train = X_train[pima_train]\n",
    "    pima_y_train = y_train[pima_train]\n",
    "    \n",
    "    cancer_train = np.where((y_train >= 2) & (y_train < 4))[0]\n",
    "    cancer_X_train = X_train[cancer_train]\n",
    "    cancer_y_train = y_train[cancer_train]\n",
    "    \n",
    "    # combine the pima and cancer test datasets\n",
    "    pima_test = np.where(y_test < 2)[0]\n",
    "    pima_X_test = X_test[pima_test]\n",
    "    pima_y_test = y_test[pima_test]\n",
    "\n",
    "    \n",
    "    cancer_test = np.where((y_test >= 2) & (y_test < 4))[0]\n",
    "    cancer_X_test = X_test[pima_test]\n",
    "    cancer_y_test = y_test[pima_test]\n",
    "    \n",
    "    X_test = np.concatenate((pima_X_test, cancer_X_test))\n",
    "    y_test = np.concatenate((pima_y_test, cancer_y_test))\n",
    "    \n",
    "    # \n",
    "    data_len = len(pima_X_train)\n",
    "    datapoints = {}\n",
    "    N = 20\n",
    "    node_indices = []\n",
    "    for n in range(N):\n",
    "        # select a random number  0.25 < r < 0.75\n",
    "        r = random.random()\n",
    "        while r < 0.15 or r > 0.85:\n",
    "            r = random.random()\n",
    "            \n",
    "        # uniformly select r% of the data from pima dataset\n",
    "        node_idx1 = random.sample([i for i in range(data_len)], int(data_len*r)) \n",
    "        node_pima_x = pima_X_train[node_idx1]\n",
    "        node_pima_y = pima_y_train[node_idx1]\n",
    "        \n",
    "        # uniformly select (1-r)% of the data from cancer dataset\n",
    "        node_idx2 = random.sample([i for i in range(data_len)], int(data_len*(1-r))) \n",
    "        node_cancer_x = cancer_X_train[node_idx2]\n",
    "        node_cancer_y = cancer_y_train[node_idx2]\n",
    "        \n",
    "        node_x = np.concatenate((node_pima_x, node_cancer_x))\n",
    "        node_y = np.concatenate((node_pima_y, node_cancer_y))\n",
    "        node_idx = random.sample([i for i in range(len(node_x))], int(len(node_x)*0.4))\n",
    "        node_x = node_x[node_idx]\n",
    "        node_y = node_y[node_idx]\n",
    "        \n",
    "        # model = LogisticRegression(multi_class='multinomial')\n",
    "        if n < N//2:\n",
    "            model = DecisionTreeClassifier()\n",
    "            model_type = 'DT'\n",
    "            optimizer = None\n",
    "            loss = None\n",
    "        else:\n",
    "            model = LeNet()\n",
    "            model_type = 'NN'\n",
    "            optimizer = optim.SGD(model.parameters(), lr=0.1, momentum=0.9)\n",
    "            loss = nn.NLLLoss()\n",
    "        \n",
    "        node_indices.append((node_idx1, node_idx2))\n",
    "        datapoints[n] = {\n",
    "            'features': node_x,\n",
    "            'all_features': node_x,\n",
    "            'labels': node_y,\n",
    "            'all_labels': node_y,\n",
    "            'sample_weights': np.ones(len(node_idx)),\n",
    "            'model': model,\n",
    "            'optimizer': optimizer,\n",
    "            'model_type': model_type,\n",
    "            'loss': loss,\n",
    "        }\n",
    "\n",
    "        \n",
    "    # calculate the similarities between nodes\n",
    "    E = N * (N-1)//2\n",
    "    B = np.zeros((E, N))\n",
    "    weight_vec = np.zeros(E)\n",
    "    cnt = 0\n",
    "    for i in range(N):\n",
    "        for j in range(N):\n",
    "            if j <= i:\n",
    "                continue\n",
    "            data_len = len(node_indices[i][0]) + len(node_indices[i][1])            \n",
    "            w1 = min(len(node_indices[i][0]), len(node_indices[j][0]))\n",
    "            w2 = min(len(node_indices[i][1]), len(node_indices[j][1]))\n",
    "            weight_vec[cnt] = (w1 + w2)/data_len\n",
    "            B[cnt, i] = 1\n",
    "            B[cnt, j] = -1\n",
    "            cnt += 1\n",
    "            \n",
    "    return B, weight_vec, datapoints, X_test, y_test\n",
    "\n",
    "            \n"
   ]
  },
  {
   "cell_type": "markdown",
   "id": "de565cd9",
   "metadata": {
    "id": "de565cd9"
   },
   "source": [
    "## Algorithm\n"
   ]
  },
  {
   "cell_type": "code",
   "execution_count": null,
   "id": "a51b1ea5",
   "metadata": {
    "id": "a51b1ea5"
   },
   "outputs": [],
   "source": [
    "def algorithm(B, weight_vec, datapoints, X_test, y_test, lambda_lasso=1.0, K=100):\n",
    "    test_len = len(X_test)\n",
    "    train_batch_size = 500\n",
    "    \n",
    "    iter_scores = []\n",
    "    for k in range(K):\n",
    "        print(k)\n",
    "        \n",
    "        # fit the model for each node\n",
    "        for node in datapoints:\n",
    "            if datapoints[node]['model_type'] == 'DT':\n",
    "                clf = datapoints[node]['model']\n",
    "                clf = clf.fit(datapoints[node]['all_features'], datapoints[node]['all_labels'], \n",
    "                              sample_weight=datapoints[node]['sample_weights'])\n",
    "                datapoints[node]['model'] = clf\n",
    "            elif datapoints[node]['model_type'] == 'NN':\n",
    "                network = datapoints[node]['model']\n",
    "                optimizer = datapoints[node]['optimizer']\n",
    "                n_data = len(datapoints[node]['all_features'])\n",
    "                for batch_idx in range(n_data//train_batch_size):\n",
    "                    optimizer.zero_grad()\n",
    "\n",
    "                    splited_data = np.array(datapoints[node]['all_features'][batch_idx*train_batch_size:(batch_idx+1)*train_batch_size])\n",
    "                    splited_target = np.array(datapoints[node]['all_labels'][batch_idx*train_batch_size:(batch_idx+1)*train_batch_size])\n",
    "                    splited_target = torch.Tensor(splited_target).type(torch.LongTensor)\n",
    "                    \n",
    "                    output = network(splited_data)\n",
    "                    loss = nn.NLLLoss()(output, splited_target)\n",
    "                    loss.backward()\n",
    "                    optimizer.step()\n",
    "                    \n",
    "        # calculate the accuracy for each node\n",
    "        accs = []\n",
    "        for node in datapoints:\n",
    "            clf = datapoints[node]['model']\n",
    "            y_pred = clf.predict(X_test)\n",
    "            accs.append(metrics.accuracy_score(y_test, y_pred))\n",
    "            # y_pred = clf.predict(datapoints[node]['features'])\n",
    "            # accs.append(metrics.accuracy_score(datapoints[node]['labels'], y_pred))\n",
    "        iter_scores.append(accs)\n",
    "\n",
    "        # combine the test predictions for the adjancents node of each node\n",
    "        for node in datapoints:\n",
    "            datapoints[node]['all_features'] = [datapoints[node]['features']]\n",
    "            datapoints[node]['all_labels'] = datapoints[node]['labels']\n",
    "            datapoints[node]['sample_weights'] = np.ones(len(datapoints[node]['labels']))\n",
    "            for B_neigh in np.where(B[:, node] != 0)[0]:\n",
    "                w = weight_vec[B_neigh]\n",
    "                for neigh in np.where(B[B_neigh, :] != 0)[0]:\n",
    "                    if neigh == node:\n",
    "                        continue\n",
    "                    # data_idx = random.sample([i for i in range(test_len)], int(test_len*w)) \n",
    "                    data_idx = random.sample([i for i in range(test_len)], int(test_len*w*0.3)) \n",
    "                    selected_x_test = X_test[data_idx]\n",
    "                    datapoints[node]['all_features'].append(selected_x_test)\n",
    "                    y_pred = datapoints[neigh]['model'].predict(selected_x_test)\n",
    "                    datapoints[node]['all_labels'] = np.concatenate(\n",
    "                        (datapoints[node]['all_labels'], y_pred))\n",
    "                    _sample_weights = [lambda_lasso/2.0 for _ in range(len(y_pred))]\n",
    "                    datapoints[node]['sample_weights'] = np.concatenate(\n",
    "                        (datapoints[node]['sample_weights'], _sample_weights))\n",
    "\n",
    "            datapoints[node]['all_features'] = np.concatenate(datapoints[node]['all_features'])\n",
    "            shuffled = [i for i in range(len(datapoints[node]['all_features']))]\n",
    "            random.shuffle(shuffled)\n",
    "            datapoints[node]['all_features'] = datapoints[node]['all_features'][shuffled]\n",
    "            datapoints[node]['all_labels'] = datapoints[node]['all_labels'][shuffled]\n",
    "            datapoints[node]['sample_weights'] = datapoints[node]['sample_weights'][shuffled]\n",
    "\n",
    "\n",
    "    iter_scores = np.array(iter_scores)\n",
    "    \n",
    "    return iter_scores"
   ]
  },
  {
   "cell_type": "code",
   "execution_count": null,
   "id": "21cc6f23",
   "metadata": {
    "colab": {
     "background_save": true,
     "base_uri": "https://localhost:8080/",
     "height": 1000,
     "referenced_widgets": [
      "33ab3f22f09b42ab97fb41e5b4955c2f",
      "0216e15143924f0cac98f144a28e04d0",
      "2e4fcfcdd1c84716a547c170ad6ca116",
      "6c9f4058256b478f920792088f7f6765"
     ]
    },
    "id": "21cc6f23",
    "outputId": "3c0ee6c0-831c-44d6-acab-6b47e3b2054e"
   },
   "outputs": [
    {
     "name": "stdout",
     "output_type": "stream",
     "text": [
      "Downloading http://fashion-mnist.s3-website.eu-central-1.amazonaws.com/train-images-idx3-ubyte.gz\n",
      "Downloading http://fashion-mnist.s3-website.eu-central-1.amazonaws.com/train-images-idx3-ubyte.gz to ./data/non-parametric/FashionMNIST/raw/train-images-idx3-ubyte.gz\n"
     ]
    },
    {
     "data": {
      "application/vnd.jupyter.widget-view+json": {
       "model_id": "33ab3f22f09b42ab97fb41e5b4955c2f",
       "version_major": 2,
       "version_minor": 0
      },
      "text/plain": [
       "  0%|          | 0/26421880 [00:00<?, ?it/s]"
      ]
     },
     "metadata": {},
     "output_type": "display_data"
    },
    {
     "name": "stdout",
     "output_type": "stream",
     "text": [
      "Extracting ./data/non-parametric/FashionMNIST/raw/train-images-idx3-ubyte.gz to ./data/non-parametric/FashionMNIST/raw\n",
      "\n",
      "Downloading http://fashion-mnist.s3-website.eu-central-1.amazonaws.com/train-labels-idx1-ubyte.gz\n",
      "Downloading http://fashion-mnist.s3-website.eu-central-1.amazonaws.com/train-labels-idx1-ubyte.gz to ./data/non-parametric/FashionMNIST/raw/train-labels-idx1-ubyte.gz\n"
     ]
    },
    {
     "data": {
      "application/vnd.jupyter.widget-view+json": {
       "model_id": "0216e15143924f0cac98f144a28e04d0",
       "version_major": 2,
       "version_minor": 0
      },
      "text/plain": [
       "  0%|          | 0/29515 [00:00<?, ?it/s]"
      ]
     },
     "metadata": {},
     "output_type": "display_data"
    },
    {
     "name": "stdout",
     "output_type": "stream",
     "text": [
      "Extracting ./data/non-parametric/FashionMNIST/raw/train-labels-idx1-ubyte.gz to ./data/non-parametric/FashionMNIST/raw\n",
      "\n",
      "Downloading http://fashion-mnist.s3-website.eu-central-1.amazonaws.com/t10k-images-idx3-ubyte.gz\n",
      "Downloading http://fashion-mnist.s3-website.eu-central-1.amazonaws.com/t10k-images-idx3-ubyte.gz to ./data/non-parametric/FashionMNIST/raw/t10k-images-idx3-ubyte.gz\n"
     ]
    },
    {
     "data": {
      "application/vnd.jupyter.widget-view+json": {
       "model_id": "2e4fcfcdd1c84716a547c170ad6ca116",
       "version_major": 2,
       "version_minor": 0
      },
      "text/plain": [
       "  0%|          | 0/4422102 [00:00<?, ?it/s]"
      ]
     },
     "metadata": {},
     "output_type": "display_data"
    },
    {
     "name": "stdout",
     "output_type": "stream",
     "text": [
      "Extracting ./data/non-parametric/FashionMNIST/raw/t10k-images-idx3-ubyte.gz to ./data/non-parametric/FashionMNIST/raw\n",
      "\n",
      "Downloading http://fashion-mnist.s3-website.eu-central-1.amazonaws.com/t10k-labels-idx1-ubyte.gz\n",
      "Downloading http://fashion-mnist.s3-website.eu-central-1.amazonaws.com/t10k-labels-idx1-ubyte.gz to ./data/non-parametric/FashionMNIST/raw/t10k-labels-idx1-ubyte.gz\n"
     ]
    },
    {
     "data": {
      "application/vnd.jupyter.widget-view+json": {
       "model_id": "6c9f4058256b478f920792088f7f6765",
       "version_major": 2,
       "version_minor": 0
      },
      "text/plain": [
       "  0%|          | 0/5148 [00:00<?, ?it/s]"
      ]
     },
     "metadata": {},
     "output_type": "display_data"
    },
    {
     "name": "stdout",
     "output_type": "stream",
     "text": [
      "Extracting ./data/non-parametric/FashionMNIST/raw/t10k-labels-idx1-ubyte.gz to ./data/non-parametric/FashionMNIST/raw\n",
      "\n"
     ]
    },
    {
     "name": "stderr",
     "output_type": "stream",
     "text": [
      "/usr/local/lib/python3.8/dist-packages/torchvision/datasets/mnist.py:75: UserWarning: train_data has been renamed data\n",
      "  warnings.warn(\"train_data has been renamed data\")\n",
      "/usr/local/lib/python3.8/dist-packages/torchvision/datasets/mnist.py:65: UserWarning: train_labels has been renamed targets\n",
      "  warnings.warn(\"train_labels has been renamed targets\")\n",
      "/usr/local/lib/python3.8/dist-packages/torchvision/datasets/mnist.py:80: UserWarning: test_data has been renamed data\n",
      "  warnings.warn(\"test_data has been renamed data\")\n",
      "/usr/local/lib/python3.8/dist-packages/torchvision/datasets/mnist.py:70: UserWarning: test_labels has been renamed targets\n",
      "  warnings.warn(\"test_labels has been renamed targets\")\n"
     ]
    },
    {
     "name": "stdout",
     "output_type": "stream",
     "text": [
      "0\n",
      "1\n",
      "2\n",
      "3\n",
      "4\n",
      "5\n",
      "6\n",
      "7\n",
      "8\n",
      "9\n",
      "10\n",
      "11\n",
      "12\n",
      "13\n",
      "14\n",
      "15\n",
      "16\n",
      "17\n",
      "18\n",
      "19\n",
      "20\n",
      "21\n",
      "22\n",
      "23\n",
      "24\n",
      "25\n",
      "26\n",
      "27\n",
      "28\n",
      "29\n",
      "30\n",
      "31\n",
      "32\n",
      "33\n",
      "34\n",
      "35\n",
      "36\n",
      "37\n",
      "38\n",
      "39\n",
      "40\n",
      "41\n",
      "42\n",
      "43\n",
      "44\n",
      "45\n",
      "46\n",
      "47\n",
      "48\n",
      "49\n",
      "50\n",
      "51\n",
      "52\n",
      "53\n",
      "54\n",
      "55\n",
      "56\n",
      "57\n",
      "58\n",
      "59\n",
      "60\n",
      "61\n",
      "62\n",
      "63\n",
      "64\n",
      "65\n",
      "66\n",
      "67\n",
      "68\n",
      "69\n",
      "70\n",
      "71\n",
      "72\n",
      "73\n",
      "74\n",
      "75\n",
      "76\n",
      "77\n",
      "78\n",
      "79\n",
      "80\n",
      "81\n",
      "82\n",
      "83\n",
      "84\n",
      "85\n",
      "86\n",
      "87\n",
      "88\n",
      "89\n",
      "90\n",
      "91\n",
      "92\n",
      "93\n",
      "94\n",
      "95\n",
      "96\n",
      "97\n",
      "98\n",
      "99\n",
      "pass alg1\n",
      "0\n",
      "1\n",
      "2\n",
      "3\n",
      "4\n",
      "5\n",
      "6\n",
      "7\n",
      "8\n",
      "9\n",
      "10\n",
      "11\n",
      "12\n",
      "13\n",
      "14\n",
      "15\n",
      "16\n",
      "17\n",
      "18\n",
      "19\n",
      "20\n",
      "21\n",
      "22\n",
      "23\n",
      "24\n",
      "25\n",
      "26\n",
      "27\n",
      "28\n",
      "29\n",
      "30\n",
      "31\n",
      "32\n",
      "33\n",
      "34\n",
      "35\n",
      "36\n",
      "37\n",
      "38\n",
      "39\n",
      "40\n",
      "41\n",
      "42\n",
      "43\n",
      "44\n",
      "45\n",
      "46\n",
      "47\n",
      "48\n",
      "49\n",
      "50\n",
      "51\n",
      "52\n",
      "53\n",
      "54\n",
      "55\n",
      "56\n",
      "57\n",
      "58\n",
      "59\n",
      "60\n",
      "61\n",
      "62\n",
      "63\n",
      "64\n",
      "65\n",
      "66\n",
      "67\n",
      "68\n",
      "69\n",
      "70\n",
      "71\n",
      "72\n",
      "73\n",
      "74\n",
      "75\n",
      "76\n",
      "77\n",
      "78\n",
      "79\n",
      "80\n",
      "81\n",
      "82\n",
      "83\n",
      "84\n",
      "85\n",
      "86\n",
      "87\n",
      "88\n",
      "89\n",
      "90\n",
      "91\n",
      "92\n",
      "93\n",
      "94\n",
      "95\n",
      "96\n",
      "97\n",
      "98\n",
      "99\n"
     ]
    }
   ],
   "source": [
    "B, weight_vec, datapoints, X_test, y_test = get_graph()\n",
    "\n",
    "K = 100\n",
    "# K=5\n",
    "# # federated learning accuracies\n",
    "iter_scores = algorithm(B, weight_vec, datapoints, X_test, y_test, lambda_lasso=2.0, K=K)\n",
    "print('pass alg1')\n",
    "\n",
    "N = len(datapoints)\n",
    "train_batch_size = 500\n",
    "# Individual accuracies\n",
    "for node in datapoints:\n",
    "    model = LeNet()\n",
    "    model_type = 'NN'\n",
    "    optimizer = optim.SGD(model.parameters(), lr=0.1)\n",
    "    if node < N//2:\n",
    "        model = DecisionTreeClassifier()\n",
    "        model_type = 'DT'\n",
    "        optimizer = None\n",
    "    datapoints[node]['model'] = model\n",
    "    datapoints[node]['model_type'] = model_type\n",
    "    datapoints[node]['optimizer'] = optimizer\n",
    "\n",
    "single_iter_scores = []\n",
    "for k in range(K):\n",
    "    print(k)\n",
    "    for node in datapoints:\n",
    "        if datapoints[node]['model_type'] == 'DT':\n",
    "                clf = datapoints[node]['model']\n",
    "                clf = clf.fit(datapoints[node]['features'], datapoints[node]['labels'])\n",
    "                datapoints[node]['model'] = clf\n",
    "        elif datapoints[node]['model_type'] == 'NN':\n",
    "          network = datapoints[node]['model']\n",
    "          optimizer = datapoints[node]['optimizer']\n",
    "          # loss_func = datapoints[node]['loss']\n",
    "          # network.train()\n",
    "          n_data = len(datapoints[node]['features'])\n",
    "          for batch_idx in range(n_data//train_batch_size):\n",
    "              optimizer.zero_grad()\n",
    "\n",
    "              splited_data = np.array(datapoints[node]['features'][batch_idx*train_batch_size:(batch_idx+1)*train_batch_size])\n",
    "              splited_target = np.array(datapoints[node]['labels'][batch_idx*train_batch_size:(batch_idx+1)*train_batch_size])\n",
    "              splited_target = torch.Tensor(splited_target).type(torch.LongTensor)\n",
    "              \n",
    "              output = network(splited_data)\n",
    "              # loss = loss_func(output, splited_target)\n",
    "              loss = nn.NLLLoss()(output, splited_target)\n",
    "              loss.backward()\n",
    "              optimizer.step()\n",
    "            \n",
    "    accs = []\n",
    "    for node in datapoints:\n",
    "        clf = datapoints[node]['model']\n",
    "        y_pred1 = clf.predict(X_test)\n",
    "        accs.append(metrics.accuracy_score(y_test, y_pred1))\n",
    "        # y_pred = clf.predict(datapoints[node]['features'])\n",
    "        # accs.append(metrics.accuracy_score(datapoints[node]['labels'], y_pred))\n",
    "    single_iter_scores.append(accs)\n",
    "    \n",
    "    \n",
    "single_iter_scores = np.array(single_iter_scores)\n"
   ]
  },
  {
   "cell_type": "code",
   "execution_count": 1,
   "id": "36d31ee2-9081-4cc3-b805-d1606167d134",
   "metadata": {
    "colab": {
     "background_save": true,
     "base_uri": "https://localhost:8080/",
     "height": 295
    },
    "id": "36d31ee2-9081-4cc3-b805-d1606167d134",
    "outputId": "d59d11bb-9deb-4322-9c6a-d55ae7e37597"
   },
   "outputs": [],
   "source": [
    "# f = plt.figure()\n",
    "# x = [i for i in range(K)]\n",
    "# # x = [i for i in range(15)]\n",
    "# for node in [0, 19]:\n",
    "#     plt.plot(x, iter_scores[:, node][:len(x)], label='FL, node=' + str(node))\n",
    "#     plt.plot(x, single_iter_scores[:, node][:len(x)], label='individual, node=' + str(node))\n",
    "# plt.title('Accuracy for each node')\n",
    "# plt.xlabel('iteration')\n",
    "# plt.ylabel('test accuracy')\n",
    "# # plt.yscale(\"log\")\n",
    "# plt.legend()\n",
    "# plt.show()\n",
    "# plt.close()"
   ]
  },
  {
   "cell_type": "code",
   "execution_count": null,
   "id": "8a16dc0f-f90c-4632-8a9b-7f6843032d50",
   "metadata": {
    "colab": {
     "background_save": true,
     "base_uri": "https://localhost:8080/",
     "height": 279
    },
    "id": "8a16dc0f-f90c-4632-8a9b-7f6843032d50",
    "outputId": "b65a7240-2900-49c4-bc6d-94a5d0e5e6b1"
   },
   "outputs": [
    {
     "data": {
      "image/png": "[encoded data removed]",
      "text/plain": [
       "<Figure size 432x288 with 1 Axes>"
      ]
     },
     "metadata": {},
     "output_type": "display_data"
    }
   ],
   "source": [
    "f = plt.figure()\n",
    "x = [i for i in range(K)]\n",
    "# x = [i for i in range(15)]\n",
    "fl_mean_acc = np.mean(iter_scores, axis=1)[:len(x)]\n",
    "single_mean_acc = np.mean(single_iter_scores, axis=1)[:len(x)]\n",
    "plt.plot(x, fl_mean_acc, label='average FL')\n",
    "plt.plot(x, single_mean_acc, label='average individuals')\n",
    "\n",
    "# plt.title('Mean accuracy for all the nodes')\n",
    "plt.xlabel('iteration')\n",
    "plt.ylabel('test accuracy')\n",
    "# plt.yscale(\"log\")\n",
    "plt.legend()\n",
    "plt.show()\n",
    "f.savefig(\"./data/non-parametric/fmnist_fl_vs_individual_different.pdf\", bbox_inches='tight')\n",
    "plt.close()"
   ]
  },
  {
   "cell_type": "code",
   "execution_count": null,
   "id": "17dfaa81",
   "metadata": {
    "id": "17dfaa81"
   },
   "outputs": [],
   "source": []
  },
  {
   "cell_type": "code",
   "execution_count": null,
   "id": "63428bd0",
   "metadata": {
    "id": "63428bd0"
   },
   "outputs": [],
   "source": [
    "import json\n",
    "\n",
    "fl_vs_individual_data = {\n",
    "    'fl_mean_acc': list(fl_mean_acc),\n",
    "    'individual_mean_acc': list(single_mean_acc),\n",
    "}\n",
    "\n",
    "import pandas as pd\n",
    "  \n",
    "data = [[i, fl_mean_acc[i], single_mean_acc[i]] for i in range(15)]\n",
    "  \n",
    "# Create the pandas DataFrame\n",
    "df = pd.DataFrame(data, columns=['iter', 'fl_mean', 'individual_mean'])\n",
    "\n",
    "with open('./data/non-parametric/fmnist_fl_vs_individual.json', 'w') as f:\n",
    "    f.write(json.dumps(fl_vs_individual_data))\n",
    "    \n",
    "df.to_csv('./data/non-parametric/fmnist_fl_vs_individual.csv')"
   ]
  },
  {
   "cell_type": "code",
   "execution_count": null,
   "id": "08d8aa89",
   "metadata": {
    "id": "08d8aa89"
   },
   "outputs": [],
   "source": []
  },
  {
   "cell_type": "code",
   "execution_count": null,
   "id": "5c502430",
   "metadata": {
    "id": "5c502430"
   },
   "outputs": [],
   "source": []
  }
 ],
 "metadata": {
  "colab": {
   "provenance": []
  },
  "kernelspec": {
   "display_name": "Python 3 (ipykernel)",
   "language": "python",
   "name": "python3"
  },
  "language_info": {
   "codemirror_mode": {
    "name": "ipython",
    "version": 3
   },
   "file_extension": ".py",
   "mimetype": "text/x-python",
   "name": "python",
   "nbconvert_exporter": "python",
   "pygments_lexer": "ipython3",
   "version": "3.9.13"
  },
  "widgets": {
   "application/vnd.jupyter.widget-state+json": {}
  }
 },
 "nbformat": 4,
 "nbformat_minor": 5
}
