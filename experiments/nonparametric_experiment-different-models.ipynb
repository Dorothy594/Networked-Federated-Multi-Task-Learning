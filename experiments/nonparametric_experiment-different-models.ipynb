{
 "cells": [
  {
   "cell_type": "code",
   "execution_count": 30,
   "id": "3d856959",
   "metadata": {},
   "outputs": [],
   "source": [
    "import random\n",
    "import numpy as np\n",
    "import pandas as pd\n",
    "import matplotlib\n",
    "import matplotlib.pyplot as plt\n",
    "\n",
    "from sklearn.tree import DecisionTreeClassifier # Import Decision Tree Classifier\n",
    "from sklearn.linear_model import LogisticRegression\n",
    "from sklearn.model_selection import train_test_split # Import train_test_split function\n",
    "from sklearn import metrics #Import scikit-learn metrics module for accuracy calculation"
   ]
  },
  {
   "cell_type": "code",
   "execution_count": 107,
   "id": "a6f9ed6e",
   "metadata": {},
   "outputs": [],
   "source": [
    "import warnings; warnings.simplefilter('ignore')"
   ]
  },
  {
   "cell_type": "markdown",
   "id": "56b80407",
   "metadata": {},
   "source": [
    "## Pima dataset\n"
   ]
  },
  {
   "cell_type": "markdown",
   "id": "2f3cb08a",
   "metadata": {},
   "source": [
    "In this dataset in-total we have been given 9 features out of which, given to us are 8 independent variables and “outcome” attribute is our dependent variable. Among these 8 independent variables, 7 of them has been selected for predicting the outcome. The outcome value as 0 indicates that, person is NOT diabetic AND the outcome value as 1 indicates that, person is very well diabetic. So, the “outcome” for us is a categorical (i.e. Binary) type of variable. "
   ]
  },
  {
   "cell_type": "code",
   "execution_count": 31,
   "id": "78871747",
   "metadata": {},
   "outputs": [],
   "source": [
    "def get_pima_data():\n",
    "    col_names = ['pregnant', 'glucose', 'bp', 'skin', 'insulin', 'bmi', 'pedigree', 'age', 'label']\n",
    "    pima = pd.read_csv(\"data/diabetes.csv\", header=None, names=col_names)\n",
    "    pima.dropna()\n",
    "    pima = pima.iloc[1:]\n",
    "    pima.head()\n",
    "\n",
    "    feature_cols = ['pregnant', 'insulin', 'bmi', 'age','glucose','bp','pedigree']\n",
    "    pima_X = pima[feature_cols].astype(float) # Features\n",
    "    pima_y = pima.label.astype(float)\n",
    "    pima_X.rename(columns = {'pregnant':'f1', 'insulin':'f2', 'bmi':'f3', 'age': 'f4',\n",
    "                            'glucose': 'f5', 'bp': 'f6', 'pedigree': 'f7'}, inplace = True)\n",
    "    pima_X = pima_X.head(550)\n",
    "    pima_y = pima_y.head(550)\n",
    "    pima_X = pima_X.apply(lambda iterator: ((iterator.max() - iterator)/(iterator.max() - iterator.min())).round(2))\n",
    "\n",
    "    return pima_X, pima_y"
   ]
  },
  {
   "cell_type": "markdown",
   "id": "0fe78837",
   "metadata": {},
   "source": [
    "Also, let’s check the same aforesaid data in terms of percentages of users have Diabetes. Below data indicates that around 35% of users have diabetes and 65% don’t have diabetes."
   ]
  },
  {
   "cell_type": "code",
   "execution_count": 32,
   "id": "68642637",
   "metadata": {},
   "outputs": [
    {
     "name": "stdout",
     "output_type": "stream",
     "text": [
      "0.0    64.545455\n",
      "1.0    35.454545\n",
      "Name: label, dtype: float64\n"
     ]
    }
   ],
   "source": [
    "pima_X, pima_y = get_pima_data()\n",
    "print(pima_y.value_counts(normalize=True)*100)"
   ]
  },
  {
   "cell_type": "markdown",
   "id": "8708b4c8",
   "metadata": {},
   "source": [
    "## Breast cancer dataset"
   ]
  },
  {
   "cell_type": "markdown",
   "id": "2dd4ff75",
   "metadata": {},
   "source": [
    "The breast cancer dataset is a classic and very easy binary classification dataset. Features are computed from a digitized image of a fine needle aspirate (FNA) of a breast mass. They describe characteristics of the cell nuclei present in the image. There are many features but the ten real-valued features are computed for each cell nucleus are: \n",
    "a) radius (mean of distances from center to points on the perimeter) \n",
    "b) texture (standard deviation of gray-scale values) \n",
    "c) perimeter \n",
    "d) area \n",
    "e) smoothness (local variation in radius lengths) \n",
    "f) compactness (perimeter^2 / area - 1.0) \n",
    "g) concavity (severity of concave portions of the contour) \n",
    "h) concave points (number of concave portions of the contour) \n",
    "i) symmetry \n",
    "j) fractal dimension (\"coastline approximation\" - 1)\n",
    "\n",
    "among these features, seven of them have been selected and the target value is Diagnosis (M = malignant, B = benign).\n",
    "\n",
    "\n",
    "\n",
    "\n"
   ]
  },
  {
   "cell_type": "code",
   "execution_count": 33,
   "id": "b6862e55",
   "metadata": {},
   "outputs": [],
   "source": [
    "from sklearn.datasets import load_breast_cancer\n",
    "\n",
    "def get_cancer_data():\n",
    "    cancer = load_breast_cancer()\n",
    "    data = np.c_[cancer.data, cancer.target]\n",
    "    columns = np.append(cancer.feature_names, [\"class\"])\n",
    "    sizeMeasurements = pd.DataFrame(data, columns=columns)\n",
    "    feature_cols = ['mean radius', 'mean texture', 'mean perimeter', 'mean area',\n",
    "                    'mean smoothness','mean compactness','mean symmetry']\n",
    "    cancer_X = sizeMeasurements[feature_cols].astype(float)\n",
    "    cancer_y = sizeMeasurements['class'].astype(float)\n",
    "    cancer_X.rename(columns = {'mean radius':'f1', 'mean texture':'f2', 'mean perimeter':'f3', 'mean area': 'f4',\n",
    "                            'mean smoothness': 'f5', 'mean compactness': 'f6', 'mean symmetry': 'f7'}, inplace = True)\n",
    "\n",
    "    cancer_X = cancer_X.head(550)\n",
    "    cancer_y = cancer_y.head(550)\n",
    "    cancer_X = cancer_X.apply(lambda iterator: ((iterator.max() - iterator)/(iterator.max() - iterator.min())).round(2))\n",
    "    \n",
    "    return cancer_X, cancer_y"
   ]
  },
  {
   "cell_type": "markdown",
   "id": "fabcc427",
   "metadata": {},
   "source": [
    "Also, let’s check the same aforesaid data in terms of percentages of users in each class. Below data indicates that around 37% of users are in class 0 and 63% are in class 1."
   ]
  },
  {
   "cell_type": "code",
   "execution_count": 34,
   "id": "1d87ad49",
   "metadata": {},
   "outputs": [
    {
     "name": "stdout",
     "output_type": "stream",
     "text": [
      "1.0    62.545455\n",
      "0.0    37.454545\n",
      "Name: class, dtype: float64\n"
     ]
    }
   ],
   "source": [
    "cancer_X, cancer_y = get_cancer_data()\n",
    "print(cancer_y.value_counts(normalize=True)*100)"
   ]
  },
  {
   "cell_type": "markdown",
   "id": "87e7971b",
   "metadata": {},
   "source": [
    "## Create the graph data"
   ]
  },
  {
   "cell_type": "markdown",
   "id": "b13b721b",
   "metadata": {},
   "source": [
    "Here we have a test dataset that is a comobination of the text datasets from both pima and cancer datasets mentioned above. Additionally, the features for each node of a graph is a random combination of these two datasets. For each node $i$, we first select a random number $r \\in [15, 85]$ and then we randomly select $r$% of the pima dataset and $(100-r)$% of the cancer dataset as the train dataset for the node $i$.\n",
    "\n",
    "Finally, the similarity score between nodes $i$ and $j$ is calculated based on the number of similar datapoint that they have in their training sets."
   ]
  },
  {
   "cell_type": "code",
   "execution_count": 181,
   "id": "f9acb782",
   "metadata": {},
   "outputs": [],
   "source": [
    "def get_graph():\n",
    "    # load Pima dataset\n",
    "    pima_X, pima_y = get_pima_data()\n",
    "    \n",
    "    # load cancer dataset\n",
    "    cancer_X, cancer_y = get_cancer_data()\n",
    "    cancer_y = cancer_y.replace(0, 2)\n",
    "    cancer_y = cancer_y.replace(1, 3)\n",
    "    \n",
    "    # split the pima dataset to train and test datasets\n",
    "    pima_X_train, pima_X_test, pima_y_train, pima_y_test = train_test_split(\n",
    "        pima_X, pima_y, test_size=0.3, random_state=1) # 70% training and 30% test\n",
    "\n",
    "    # split the cancer dataset to train and test datasets\n",
    "    cancer_X_train, cancer_X_test, cancer_y_train, cancer_y_test = train_test_split(\n",
    "        cancer_X, cancer_y, test_size=0.3, random_state=1) # 70% training and 30% test    \n",
    "    \n",
    "    \n",
    "    # combine the pima and cancer test datasets\n",
    "    X_test = pd.concat((pima_X_test, cancer_X_test))\n",
    "    y_test = pd.concat((pima_y_test, cancer_y_test))\n",
    "    \n",
    "\n",
    "    # \n",
    "    data_len = len(pima_X_train)\n",
    "    datapoints = {}\n",
    "    N = 20\n",
    "    node_indices = []\n",
    "    for n in range(N):\n",
    "        # select a random number  0.25 < r < 0.75\n",
    "        r = random.random()\n",
    "        while r < 0.15 or r > 0.85:\n",
    "            r = random.random()\n",
    "            \n",
    "        # uniformly select r% of the data from pima dataset\n",
    "        node_idx1 = random.sample([i for i in range(data_len)], int(data_len*r)) \n",
    "        node_pima_x = pima_X_train.iloc[node_idx1]\n",
    "        node_pima_y = pima_y_train.iloc[node_idx1].values\n",
    "        \n",
    "        # uniformly select (1-r)% of the data from cancer dataset\n",
    "        node_idx2 = random.sample([i for i in range(data_len)], int(data_len*(1-r))) \n",
    "        node_cancer_x = cancer_X_train.iloc[node_idx2]\n",
    "        node_cancer_y = cancer_y_train.iloc[node_idx2].values\n",
    "        \n",
    "        model = LogisticRegression(multi_class='multinomial')\n",
    "        if n < N//2:\n",
    "            model = DecisionTreeClassifier()\n",
    "        \n",
    "        node_indices.append((node_idx1, node_idx2))\n",
    "        datapoints[n] = {\n",
    "            'features': pd.concat((node_pima_x, node_cancer_x)),\n",
    "            'all_features': pd.concat((node_pima_x, node_cancer_x)),\n",
    "            'labels': np.concatenate((node_pima_y, node_cancer_y)),\n",
    "            'all_labels': np.concatenate((node_pima_y, node_cancer_y)),\n",
    "            'sample_weights': np.ones(len(node_idx1)+len(node_idx2)),\n",
    "            'model': model,\n",
    "        }\n",
    "\n",
    "        \n",
    "    # calculate the similarities between nodes\n",
    "    E = N * (N-1)//2\n",
    "    B = np.zeros((E, N))\n",
    "    weight_vec = np.zeros(E)\n",
    "    cnt = 0\n",
    "    for i in range(N):\n",
    "        for j in range(N):\n",
    "            if j <= i:\n",
    "                continue\n",
    "            data_len = len(node_indices[i][0]) + len(node_indices[i][1])\n",
    "#             w1 = len(node_indices[i][0]) - len(set(node_indices[i][0]) - set(node_indices[j][0]))\n",
    "#             w2 = len(node_indices[i][1]) - len(set(node_indices[i][1]) - set(node_indices[j][1]))\n",
    "            w1 = min(len(node_indices[i][0]), len(node_indices[j][0]))\n",
    "            w2 = min(len(node_indices[i][1]), len(node_indices[j][1]))\n",
    "            weight_vec[cnt] = (w1 + w2)/data_len\n",
    "            B[cnt, i] = 1\n",
    "            B[cnt, j] = -1\n",
    "            cnt += 1\n",
    "            \n",
    "    return B, weight_vec, datapoints, X_test, y_test\n",
    "\n",
    "            \n"
   ]
  },
  {
   "cell_type": "markdown",
   "id": "de565cd9",
   "metadata": {},
   "source": [
    "## Algorithm\n"
   ]
  },
  {
   "cell_type": "code",
   "execution_count": 182,
   "id": "a51b1ea5",
   "metadata": {},
   "outputs": [],
   "source": [
    "def algorithm(B, weight_vec, datapoints, X_test, y_test, lambda_lasso=1.0, K=100):\n",
    "    test_len = len(X_test)\n",
    "    \n",
    "    iter_scores = []\n",
    "    for k in range(K):\n",
    "        \n",
    "        # fit the model for each node\n",
    "        for node in datapoints:\n",
    "            clf = datapoints[node]['model']\n",
    "            clf = clf.fit(datapoints[node]['all_features'], datapoints[node]['all_labels'], \n",
    "#                           sample_weight=datapoints[node]['sample_weights']\n",
    "                         )\n",
    "            datapoints[node]['model'] = clf\n",
    "\n",
    "        # calculate the accuracy for each node\n",
    "        accs = []\n",
    "        for node in datapoints:\n",
    "            clf = datapoints[node]['model']\n",
    "            y_pred = clf.predict(X_test)\n",
    "            accs.append(metrics.accuracy_score(y_test, y_pred))\n",
    "        iter_scores.append(accs)\n",
    "\n",
    "        # combine the test predictions for the adjancents node of each node\n",
    "        for node in datapoints:\n",
    "            datapoints[node]['all_features'] = [datapoints[node]['features']]\n",
    "            datapoints[node]['all_labels'] = datapoints[node]['labels']\n",
    "            datapoints[node]['sample_weights'] = np.ones(len(datapoints[node]['labels']))\n",
    "            for B_neigh in np.where(B[:, node] != 0)[0]:\n",
    "                w = weight_vec[B_neigh]\n",
    "                for neigh in np.where(B[B_neigh, :] != 0)[0]:\n",
    "                    if neigh == node:\n",
    "                        continue\n",
    "                    data_idx = random.sample([i for i in range(test_len)], int(test_len*w)) \n",
    "                    selected_x_test = X_test.iloc[data_idx]\n",
    "                    datapoints[node]['all_features'].append(selected_x_test)\n",
    "                    y_pred = datapoints[neigh]['model'].predict(selected_x_test)\n",
    "                    datapoints[node]['all_labels'] = np.concatenate(\n",
    "                        (datapoints[node]['all_labels'], y_pred))\n",
    "                    _sample_weights = [lambda_lasso/2.0 for _ in range(len(y_pred))]\n",
    "                    datapoints[node]['sample_weights'] = np.concatenate(\n",
    "                        (datapoints[node]['sample_weights'], _sample_weights))\n",
    "\n",
    "            datapoints[node]['all_features'] = pd.concat(datapoints[node]['all_features'])\n",
    "\n",
    "    iter_scores = np.array(iter_scores)\n",
    "    \n",
    "    return iter_scores"
   ]
  },
  {
   "cell_type": "code",
   "execution_count": 210,
   "id": "1626d9b7",
   "metadata": {},
   "outputs": [],
   "source": [
    "B, weight_vec, datapoints, X_test, y_test = get_graph()\n",
    "\n",
    "E, N = B.shape\n",
    "\n",
    "K = 50\n",
    "# federated learning accuracies\n",
    "iter_scores = algorithm(B, weight_vec, datapoints, X_test, y_test, K=K)\n",
    "\n",
    "# Individual accuracies\n",
    "for node in datapoints:\n",
    "    model = LogisticRegression(multi_class='multinomial')\n",
    "    if node < N//2:\n",
    "        model = DecisionTreeClassifier()\n",
    "    datapoints[node]['model'] = model\n",
    "\n",
    "single_iter_scores = []\n",
    "for k in range(K):\n",
    "    for node in datapoints:\n",
    "        clf = datapoints[node]['model']\n",
    "        clf = clf.fit(datapoints[node]['features'], datapoints[node]['labels'])\n",
    "        datapoints[node]['model'] = clf\n",
    "        \n",
    "    accs = []\n",
    "    for node in datapoints:\n",
    "        clf = datapoints[node]['model']\n",
    "        y_pred = clf.predict(X_test)\n",
    "        accs.append(metrics.accuracy_score(y_test, y_pred))\n",
    "    single_iter_scores.append(accs)\n",
    "    \n",
    "    \n",
    "single_iter_scores = np.array(single_iter_scores)\n"
   ]
  },
  {
   "cell_type": "code",
   "execution_count": 211,
   "id": "947bc849",
   "metadata": {},
   "outputs": [
    {
     "data": {
      "image/png": "[encoded data removed]",
      "text/plain": [
       "<Figure size 640x480 with 1 Axes>"
      ]
     },
     "metadata": {},
     "output_type": "display_data"
    }
   ],
   "source": [
    "f = plt.figure()\n",
    "x = [i for i in range(K)]\n",
    "x = [i for i in range(15)]\n",
    "for node in [0, 19]:\n",
    "    plt.plot(x, iter_scores[:, node][:len(x)], label='FL, node=' + str(node))\n",
    "    plt.plot(x, single_iter_scores[:, node][:len(x)], label='individual, node=' + str(node))\n",
    "\n",
    "plt.title('Accuracy for each node')\n",
    "plt.xlabel('iteration')\n",
    "plt.ylabel('test accuracy')\n",
    "# plt.yscale(\"log\")\n",
    "plt.legend()\n",
    "plt.show()\n",
    "plt.close()"
   ]
  },
  {
   "cell_type": "code",
   "execution_count": 214,
   "id": "71f9ac8c",
   "metadata": {},
   "outputs": [
    {
     "data": {
      "image/png": "[encoded data removed]",
      "text/plain": [
       "<Figure size 640x480 with 1 Axes>"
      ]
     },
     "metadata": {},
     "output_type": "display_data"
    }
   ],
   "source": [
    "f = plt.figure()\n",
    "x = [i for i in range(K)]\n",
    "x = [i for i in range(15)]\n",
    "fl_mean_acc = np.mean(iter_scores, axis=1)[:len(x)]\n",
    "single_mean_acc = np.mean(single_iter_scores, axis=1)[:len(x)]\n",
    "plt.plot(x, fl_mean_acc, label='average FL')\n",
    "plt.plot(x, single_mean_acc, label='average individuals')\n",
    "\n",
    "# plt.title('Mean accuracy for all the nodes')\n",
    "plt.xlabel('iteration')\n",
    "plt.ylabel('test accuracy')\n",
    "# plt.yscale(\"log\")\n",
    "plt.legend()\n",
    "plt.show()\n",
    "f.savefig(\"./data/non-parametric/different_fl_vs_individual.pdf\", bbox_inches='tight')\n",
    "plt.close()"
   ]
  },
  {
   "cell_type": "code",
   "execution_count": 217,
   "id": "5fbf50c4",
   "metadata": {},
   "outputs": [],
   "source": [
    "import json\n",
    "\n",
    "fl_vs_individual_data = {\n",
    "    'fl_mean_acc': list(fl_mean_acc),\n",
    "    'individual_mean_acc': list(single_mean_acc),\n",
    "}\n",
    "\n",
    "import pandas as pd\n",
    "  \n",
    "data = [[i, fl_mean_acc[i], single_mean_acc[i]] for i in range(15)]\n",
    "  \n",
    "# Create the pandas DataFrame\n",
    "df = pd.DataFrame(data, columns=['iter', 'fl_mean', 'individual_mean'])\n",
    "\n",
    "with open('./data/non-parametric/different_fl_vs_individual.json', 'w') as f:\n",
    "    f.write(json.dumps(fl_vs_individual_data))\n",
    "    \n",
    "df.to_csv('./data/non-parametric/different_fl_vs_individual.csv')"
   ]
  }
 ],
 "metadata": {
  "kernelspec": {
   "display_name": "Python 3 (ipykernel)",
   "language": "python",
   "name": "python3"
  },
  "language_info": {
   "codemirror_mode": {
    "name": "ipython",
    "version": 3
   },
   "file_extension": ".py",
   "mimetype": "text/x-python",
   "name": "python",
   "nbconvert_exporter": "python",
   "pygments_lexer": "ipython3",
   "version": "3.9.13"
  }
 },
 "nbformat": 4,
 "nbformat_minor": 5
}
