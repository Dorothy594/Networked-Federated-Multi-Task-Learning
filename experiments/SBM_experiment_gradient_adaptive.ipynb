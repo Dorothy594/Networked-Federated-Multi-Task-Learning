{
 "cells": [
  {
   "cell_type": "code",
   "execution_count": 33,
   "metadata": {},
   "outputs": [
    {
     "name": "stdout",
     "output_type": "stream",
     "text": [
      "/Users/sarchey1/paper\n"
     ]
    }
   ],
   "source": [
    "%cd ../"
   ]
  },
  {
   "cell_type": "code",
   "execution_count": 2,
   "metadata": {},
   "outputs": [],
   "source": [
    "import warnings\n",
    "warnings.simplefilter('ignore')"
   ]
  },
  {
   "cell_type": "markdown",
   "metadata": {},
   "source": [
    "## Stochastic Block Model Experiment"
   ]
  },
  {
   "cell_type": "markdown",
   "metadata": {},
   "source": [
    "Before geting into the experiment details, let's review algorithm 1 and the primal and dual updates."
   ]
  },
  {
   "cell_type": "markdown",
   "metadata": {},
   "source": [
    "### Algorithm 1"
   ]
  },
  {
   "cell_type": "markdown",
   "metadata": {},
   "source": [
    "![title](../gradient_federated.png)"
   ]
  },
  {
   "cell_type": "code",
   "execution_count": 145,
   "metadata": {},
   "outputs": [],
   "source": [
    "# %load algorithm/main.py\n",
    "from sklearn.metrics import mean_squared_error\n",
    "\n",
    "\n",
    "def algorithm_1(K, D, weight_vec, features, true_labels, samplingset, lambda_lasso, calculate_score=True,\n",
    "               train_seed=1):\n",
    "    '''\n",
    "    :param K: the number of iterations\n",
    "    :param D: the block incidence matrix\n",
    "    :param weight_vec: a list containing the edges's weights of the graph\n",
    "    :param features: a list containing the local datapints of the nodes\n",
    "    :param true_labels: a list containing the true labels of the nodes\n",
    "    :param samplingset: the sampling set\n",
    "    :param lambda_lasso: the parameter lambda\n",
    "\n",
    "    :return iteration_scores: the mean squared error of the predicted weight vectors in each iteration\n",
    "    :return new_w: the predicted weigh vectors for each node\n",
    "    '''\n",
    "\n",
    "    np.random.seed(train_seed)\n",
    "    E, N = D.shape\n",
    "    m, n = features[0].shape\n",
    "    \n",
    "    iterations = K\n",
    "    \n",
    "    L = D.T * weight_vec @ D\n",
    "    ub_L = lambda_lasso*2*np.diag(L).max()\n",
    "#     if prints:\n",
    "#         print(\"ub for lambda * L\", ub_L)\n",
    "\n",
    "    # starting algorithm 1\n",
    "\n",
    "    new_w = np.array([np.zeros(n) for i in range(N)])\n",
    "    '''\n",
    "    new_w: the primal variable of the algorithm 1\n",
    "    '''\n",
    "\n",
    "    iteration_scores = []\n",
    "    for iterk in range(K):\n",
    "        prev_w = np.copy(new_w)\n",
    "        # line 2 of Gradient descent for networked FL\n",
    "        new_w = np.array([np.zeros(n) for i in range(N)])\n",
    "\n",
    "        # line 3 of Gradient descent for networked FL\n",
    "        for i in range(N):\n",
    "            if i in samplingset:  \n",
    "                # line 4 of Gradient descent for networked FL\n",
    "#                 optimizer = datapoints[i]['optimizer']\n",
    "#                 new_w[i] = 1/m * optimizer.optimize(datapoints[i]['features'], datapoints[i]['label'], prev_w[i], datapoints[i]['degree'])\n",
    "                \n",
    "                # line 4 of Gradient descent for networked FL\n",
    "                var = np.dot(features[i], prev_w[i]) - true_labels[i]\n",
    "                new_w[i] = 1/m * np.dot(features[i].T, var)\n",
    "\n",
    "\n",
    "        # line 6 of Gradient descent for networked FL\n",
    "        for e in range(E):\n",
    "            i = np.where(D[e]==1)[0]\n",
    "            j = np.where(D[e]==-1)[0]\n",
    "            \n",
    "            # line 7 of Gradient descent for networked FL\n",
    "            tilde_w = lambda_lasso * weight_vec[e] * (prev_w[j] - prev_w[i])\n",
    "            \n",
    "            # line 8 of Gradient descent for networked FL\n",
    "            new_w[i] = new_w[i] - tilde_w\n",
    "            \n",
    "            # line 9 of Gradient descent for networked FL\n",
    "            new_w[j] = new_w[j] + tilde_w\n",
    "            \n",
    "\n",
    "        # line 11 of Gradient descent for networked FL\n",
    "        alpha = []\n",
    "        for i in range(N):\n",
    "            ub = lambda_lasso * L[i,i]\n",
    "            if i in samplingset:\n",
    "                x = features[i]\n",
    "                c = 1/m * x.T @ x\n",
    "                ub += np.sum(np.abs(c), axis=1).max()\n",
    "            lr = 1 / ub\n",
    "            alpha.append([lr for i in range(n)])\n",
    "        alpha = np.array(alpha)\n",
    "#         print(new_w.shape, alpha.shape)\n",
    "        \n",
    "        \n",
    "        new_w = prev_w - alpha * new_w\n",
    "#         print(new_w.shape)\n",
    "\n",
    "        # calculate the MSE of the predicted weight vectors\n",
    "        if calculate_score:\n",
    "            Y_pred = []\n",
    "            for i in range(N):\n",
    "                Y_pred.append(np.dot(features[i], new_w[i]))\n",
    "\n",
    "            iteration_scores.append(mean_squared_error(true_labels.reshape(N, m), Y_pred))\n",
    "            \n",
    "#             if iterk > 1:\n",
    "#                 print(iteration_scores[-2] - iteration_scores[-1], iteration_scores[-1], iteration_scores[-2])\n",
    "            if iterk > 1 and iteration_scores[-2] - iteration_scores[-1] < 0.001:\n",
    "                iterations = iterk\n",
    "                break\n",
    "\n",
    "    # print (np.max(abs(new_w - prev_w)))\n",
    "\n",
    "    return iteration_scores, new_w, iterations\n"
   ]
  },
  {
   "cell_type": "markdown",
   "metadata": {},
   "source": [
    "### Joona's implementation"
   ]
  },
  {
   "cell_type": "code",
   "execution_count": 62,
   "metadata": {},
   "outputs": [],
   "source": [
    "# %load algorithm/main.py\n",
    "from sklearn.metrics import mean_squared_error\n",
    "import torch.nn.functional as F\n",
    "\n",
    "\n",
    "import torch\n",
    "\n",
    "class TorchLinearModel(torch.nn.Module):\n",
    "    def __init__(self, n, lr, ifca_init=True):\n",
    "        super(TorchLinearModel, self).__init__()\n",
    "        self.lr = lr\n",
    "        self.linear = torch.nn.Linear(n, 1, bias=False)\n",
    "        if ifca_init:\n",
    "            self.linear.weight.data = torch.tensor(np.random.binomial(1, 0.5, size=(1, n)).astype(np.float32))*1.0\n",
    "        \n",
    "    def forward(self, x):\n",
    "        y_pred = self.linear(x)\n",
    "        return y_pred\n",
    "    \n",
    "    def weight(self):\n",
    "        return self.linear.weight\n",
    "    \n",
    "    def update_weights(self):\n",
    "        with torch.no_grad():\n",
    "            self.linear.weight.data -= self.lr * self.linear.weight.grad.clone()\n",
    "        self.zero_grad()\n",
    "\n",
    "\n",
    "def joonas_algorithm_1(K, D, weight_vec, features, true_labels, samplingset, lambda_lasso, calculate_score=False, \n",
    "                      train_seed=1, ifca_init=True):\n",
    "    '''\n",
    "    :param K: the number of iterations\n",
    "    :param D: the block incidence matrix\n",
    "    :param weight_vec: a list containing the edges's weights of the graph\n",
    "    :param features: a list containing the local datapints of the nodes\n",
    "    :param true_labels: a list containing the true labels of the nodes\n",
    "    :param samplingset: the sampling set\n",
    "    :param lambda_lasso: the parameter lambda\n",
    "\n",
    "    :return iteration_scores: the mean squared error of the predicted weight vectors in each iteration\n",
    "    :return new_w: the predicted weigh vectors for each node\n",
    "    '''\n",
    "\n",
    "    np.random.seed(train_seed)\n",
    "    \n",
    "    E, N = D.shape\n",
    "    m, n = features[0].shape\n",
    "\n",
    "    # starting algorithm 1\n",
    "\n",
    "    # step size, 0.0001\n",
    "    # last 0.05\n",
    "    \n",
    "    D = torch.Tensor(D)\n",
    "    weight_vec = torch.Tensor(weight_vec)\n",
    "    \n",
    "         \n",
    "    L = D.T * weight_vec @ D\n",
    "    ub_L = lambda_lasso*2*np.diag(L).max()\n",
    "#     if prints:\n",
    "#         print(\"ub for lambda * L\", ub_L)\n",
    "    \n",
    "    iteration_scores = []\n",
    "    \n",
    "    model_params = list()\n",
    "    models = []\n",
    "    for i in range(N):\n",
    "        ub = lambda_lasso * L[i,i]\n",
    "        if i in samplingset:\n",
    "            x = features[i]\n",
    "            m, n = x.shape\n",
    "            c = 1/m * x.T @ x\n",
    "            ub += np.sum(np.abs(c), axis=1).max()\n",
    "        lr = 1 / ub\n",
    "        model = TorchLinearModel(n, lr, ifca_init)\n",
    "        models.append(model)\n",
    "        model_params += list(model.parameters())\n",
    "    \n",
    "    prev_loss = 0\n",
    "    iterations = K\n",
    "                    \n",
    "    for iterk in range(K):\n",
    "        # Shared loss over all nodes\n",
    "        loss = 0\n",
    "        # f(w) (training error/loss)\n",
    "        for i in samplingset:\n",
    "            x_i = torch.Tensor(features[i])\n",
    "            y_i = torch.Tensor(true_labels[i]).reshape(-1, 1)\n",
    "            y_pred = models[i](x_i)\n",
    "            loss1 = F.mse_loss(y_pred, y_i)\n",
    "            loss += loss1\n",
    "                \n",
    "        # GTV\n",
    "        # weight_vec is A (edge weights)\n",
    "        # D is sort of adjacency matrix? +1 on j and -1 on i\n",
    "        # new_w has the current weights\n",
    "        new_w = torch.cat([models[i].linear.weight for i in range(N)])\n",
    "        # w_j - w_i = D @ new_w\n",
    "        norm_squared = torch.square(torch.linalg.norm(D @ new_w, dim=1))\n",
    "        loss2 = lambda_lasso * torch.dot(weight_vec, norm_squared)\n",
    "        loss += loss2\n",
    "        loss *= 0.5\n",
    "        \n",
    "#         print(\"epoch:\", iterk)\n",
    "#         print(\"loss\", loss.item())\n",
    "        if prev_loss - loss < 0.0005 and prev_loss - loss >= 0:\n",
    "            iterations = iterk\n",
    "            break\n",
    "        else:\n",
    "            prev_loss = loss\n",
    "        \n",
    "        loss.backward()\n",
    "        for i in range(N):\n",
    "            models[i].update_weights()\n",
    "        \n",
    "\n",
    "        # calculate the MSE of the predicted weight vectors\n",
    "        if calculate_score:\n",
    "            score = get_algorithm1_w_MSE(new_w[i], samplingset.copy(), datapoints.copy())['total']\n",
    "            iteration_scores.append(score)\n",
    "    \n",
    "    new_w = np.array([models[i].linear.weight.data.numpy() for i in range(N)]).reshape((N, -1))\n",
    "\n",
    "    return iteration_scores, new_w, iterations\n",
    "\n"
   ]
  },
  {
   "cell_type": "markdown",
   "metadata": {},
   "source": [
    "As the result we compare the MSE of Algorithm 1 with plain linear regression \n",
    "and decision tree regression"
   ]
  },
  {
   "cell_type": "code",
   "execution_count": 5,
   "metadata": {},
   "outputs": [],
   "source": [
    "# %load results/compare_results.py\n",
    "import numpy as np\n",
    "from sklearn.linear_model import LinearRegression\n",
    "from sklearn.tree import DecisionTreeRegressor\n",
    "from sklearn.metrics import mean_squared_error\n",
    "\n",
    "\n",
    "def get_algorithm1_MSE(all_features, labels, predicted_w, samplingset):\n",
    "    '''\n",
    "    :param datapoints:  a dictionary containing the data of each node in the graph needed for the algorithm 1\n",
    "    :param predicted_w: the predicted weigh vectors for each node\n",
    "    :param samplingset: the sampling set for the algorithm 1\n",
    "\n",
    "    :return alg1_MSE: the MSE of the algorithm 1 for all the nodes, the samplingset and other nodes (test set)\n",
    "    '''\n",
    "    not_samplingset = [i for i in range(len(all_features)) if i not in samplingset]\n",
    "\n",
    "    true_labels = []\n",
    "    pred_labels = []\n",
    "    for i in range(len(all_features)):\n",
    "        features = np.array(all_features[i])\n",
    "        label = np.array(labels[i])\n",
    "        true_labels.append(label)\n",
    "\n",
    "        pred_labels.append(np.dot(features, predicted_w[i]))\n",
    "\n",
    "    pred_labels = np.array(pred_labels)\n",
    "    true_labels = np.array(true_labels)\n",
    "\n",
    "    alg1_MSE = {'total': mean_squared_error(true_labels, pred_labels),\n",
    "                'train': mean_squared_error(true_labels[samplingset], pred_labels[samplingset]),\n",
    "                'test': mean_squared_error(true_labels[not_samplingset], pred_labels[not_samplingset])}\n",
    "\n",
    "    return alg1_MSE\n",
    "\n",
    "def get_algorithm1_w_MSE(predicted_w, samplingset, datapoints):\n",
    "    '''\n",
    "    :param datapoints:  a dictionary containing the data of each node in the graph needed for the algorithm 1\n",
    "    :param predicted_w: the predicted weigh vectors for each node\n",
    "    :param samplingset: the sampling set for the algorithm 1\n",
    "\n",
    "    :return alg1_MSE: the MSE of the algorithm 1 for all the nodes, the samplingset and other nodes (test set)\n",
    "    '''\n",
    "    not_samplingset = [i for i in range(len(datapoints)) if i not in samplingset]\n",
    "    true_w = []\n",
    "    for i in datapoints:\n",
    "        true_w.append(datapoints[i]['w'])\n",
    "    \n",
    "    predicted_w = np.array(predicted_w)\n",
    "    true_w = np.array(true_w)\n",
    "\n",
    "    alg1_MSE = {'total': mean_squared_error(true_w, predicted_w),\n",
    "                'train': mean_squared_error(true_w[samplingset], predicted_w[samplingset]),\n",
    "                'test': mean_squared_error(true_w[not_samplingset], predicted_w[not_samplingset])}\n",
    "\n",
    "    return alg1_MSE\n",
    "\n",
    "\n",
    "def get_linear_regression_MSE(x, y, samplingset, not_samplingset):\n",
    "    '''\n",
    "    :param x: a list containing the features of the nodes\n",
    "    :param y: a list containing the labels of the nodes\n",
    "    :param samplingset: the training dataset\n",
    "    :param not_samplingset: the test dataset\n",
    "    :return linear_regression_MSE : the MSE of linear regression for all the nodes, the samplingset and other nodes (test set)\n",
    "    '''\n",
    "\n",
    "    model = LinearRegression().fit(x[samplingset], y[samplingset])\n",
    "    pred_y = model.predict(x)\n",
    "\n",
    "    linear_regression_MSE = {'total': mean_squared_error(y, pred_y),\n",
    "                             'train': mean_squared_error(y[samplingset],\n",
    "                                                         pred_y[samplingset]),\n",
    "                             'test': mean_squared_error(y[not_samplingset],\n",
    "                                                        pred_y[not_samplingset])}\n",
    "\n",
    "    return linear_regression_MSE\n",
    "\n",
    "\n",
    "def get_decision_tree_MSE(x, y, samplingset, not_samplingset):\n",
    "    '''\n",
    "    :param x: a list containing the features of the nodes\n",
    "    :param y: a list containing the labels of the nodes\n",
    "    :param samplingset: the training dataset\n",
    "    :param not_samplingset: the test dataset\n",
    "    :return decision_tree_MSE : the MSE of decision tree for all the nodes, the samplingset and other nodes (test set)\n",
    "    '''\n",
    "\n",
    "    max_depth = 2\n",
    "\n",
    "    regressor = DecisionTreeRegressor(max_depth=max_depth)\n",
    "    regressor.fit(x[samplingset], y[samplingset])\n",
    "    pred_y = regressor.predict(x)\n",
    "\n",
    "    decision_tree_MSE = {'total': mean_squared_error(y, pred_y),\n",
    "                         'train': mean_squared_error(y[samplingset],\n",
    "                                                     pred_y[samplingset]),\n",
    "                         'test': mean_squared_error(y[not_samplingset],\n",
    "                                                    pred_y[not_samplingset])}\n",
    "    return decision_tree_MSE\n",
    "\n",
    "\n",
    "def get_scores(features, labels, primal_dual_w, predicted_w, joona_w, fl_w, samplingset, others=True):\n",
    "    N = len(features)\n",
    "    '''\n",
    "    N : the total number of nodes\n",
    "    '''\n",
    "\n",
    "    # calculate algorithm1 MSE\n",
    "    alg_1_score = get_algorithm1_MSE(features, labels, predicted_w, samplingset)\n",
    "    primal_dual_score = get_algorithm1_MSE(features, labels, primal_dual_w, samplingset)\n",
    "    joonas_score = get_algorithm1_MSE(features, labels, joona_w, samplingset)\n",
    "    fl_score = get_algorithm1_MSE(features, labels, fl_w, samplingset)\n",
    "    \n",
    "    linear_regression_score = None\n",
    "    decision_tree_score = None\n",
    "\n",
    "    if others:\n",
    "        # prepare the data for calculating the linear regression and decision tree regression MSEs\n",
    "        X = []\n",
    "        '''\n",
    "        X: an array containing the features of all the nodes\n",
    "        '''\n",
    "        true_labels = []\n",
    "        '''\n",
    "        true_labels: an array containing the labels of all the nodes\n",
    "        '''\n",
    "        for i in range(len(datapoints)):\n",
    "            X.append(np.array(datapoints[i]['features']))\n",
    "            true_labels.append(np.array(datapoints[i]['label']))\n",
    "\n",
    "        X = np.array(X)\n",
    "        true_labels = np.array(true_labels)\n",
    "        m, n = X[0].shape\n",
    "\n",
    "        x = X.reshape(-1, n)\n",
    "        y = true_labels.reshape(-1, 1)\n",
    "\n",
    "        reformated_samplingset = []\n",
    "        for item in samplingset:\n",
    "            for i in range(m):\n",
    "                reformated_samplingset.append(m * item + i)\n",
    "        reformated_not_samplingset = [i for i in range(m * N) if i not in reformated_samplingset]\n",
    "        \n",
    "        # calculate linear regression MSE\n",
    "        linear_regression_score = get_linear_regression_MSE(x, y, reformated_samplingset, reformated_not_samplingset)\n",
    "\n",
    "        # calculate decision tree MSE\n",
    "        decision_tree_score = get_decision_tree_MSE(x, y, reformated_samplingset, reformated_not_samplingset)\n",
    "\n",
    "    return alg_1_score, joonas_score, primal_dual_score, fl_score, linear_regression_score, decision_tree_score\n",
    "\n"
   ]
  },
  {
   "cell_type": "markdown",
   "metadata": {},
   "source": [
    "### SBM with Two Clusters"
   ]
  },
  {
   "cell_type": "markdown",
   "metadata": {},
   "source": [
    "This SBM has two clusters $|C_1| = |C_2| = 100$.\n",
    "Two nodes within the same cluster are connected by an edge with probability `pin=0.5`, \n",
    "and two nodes from different clusters are connected by an edge with probability `pout=0.01`. \n",
    "Each node $i \\in V$ represents a local dataset consisting of feature vectors $x^{(i,1)}, ... , x^{(i,5)} \\in R^2$.\n",
    "The feature vectors are i.i.d. realizations of a standard Gaussian random vector x ~ N(0,I).\n",
    "The labels $y_1^{(i)}, . . . , y_5^{(i)} \\in R$ for each node $i \\in V$\n",
    "are generated according to the linear model $y_r^{(i)} = (x^{(i, r)})^T w^{(i)} + \\epsilon$, with $\\epsilon = 0$. \n",
    "The tuning parameter $\\lambda$ in algorithm1 \n",
    "is manually chosen, guided by the resulting MSE, as $\\lambda=0.01$ for norm1 and norm2 and also $\\lambda=0.05$ for mocha penalty function. \n",
    "To learn the weight $w^{(i)}$ ,we apply Algorithm 1 to a training set M obtained by randomly selecting 40% of the nodes and use the rest as test set. As the result we compare the mean MSE of Algorithm 1 with plain linear regression and decision tree regression with respect to the different random sampling sets."
   ]
  },
  {
   "cell_type": "code",
   "execution_count": 9,
   "metadata": {},
   "outputs": [],
   "source": [
    "def get_sbm(c=2, p1 = 0.4, p2 = 0.1, n_nodes = 10, n_data = 100, d_data = 1):\n",
    "    N_c = n_nodes\n",
    "    N = N_c * c\n",
    "    B = []\n",
    "    weight_vec = []\n",
    "    \n",
    "    for i in range(c):\n",
    "        for idx1 in range(n_nodes * i, n_nodes * (i + 1)):\n",
    "            for idx2 in range(idx1 + 1, n_nodes * (i + 1)):\n",
    "                if p1 > np.random.random():\n",
    "                    b = np.zeros(N)\n",
    "                    if idx1 < idx2:\n",
    "                        b[idx1] = 1\n",
    "                        b[idx2] = -1\n",
    "                    else:\n",
    "                        b[idx1] = -1\n",
    "                        b[idx2] = 1\n",
    "                    weight_vec.append(1)\n",
    "                    B.append(b)\n",
    "                \n",
    "    # Add edges between components (intercomponent edges)\n",
    "    for i in range(c):\n",
    "        for idx1 in range(n_nodes * i, n_nodes * (i + 1)):\n",
    "            for i2 in range(i+1, c):\n",
    "                for idx2 in range(n_nodes * i2, n_nodes * (i2 + 1)):\n",
    "                    if p2 > np.random.random():\n",
    "                        b = np.zeros(N)\n",
    "                        if idx1 < idx2:\n",
    "                            b[idx1] = 1\n",
    "                            b[idx2] = -1\n",
    "                        else:\n",
    "                            b[idx1] = -1\n",
    "                            b[idx2] = 1\n",
    "                        weight_vec.append(1)\n",
    "                        B.append(b)\n",
    "     \n",
    "    B = np.array(B)\n",
    "    weight_vec = np.array(weight_vec)\n",
    "    node_degrees = np.array((1.0 / (np.sum(abs(B), 0)))).ravel()\n",
    "    \n",
    "    datapoints = {}\n",
    "    true_labels = []\n",
    "    all_features = []\n",
    "    # weights to generate labels from data\n",
    "    ws = np.arange(1,c+1) * 10\n",
    "    ws = [[w for i in range(d_data)] for w in ws]\n",
    "    \n",
    "    for i in range(c):\n",
    "        w = ws[i]\n",
    "        for idx in range(n_nodes * i, n_nodes * (i + 1)):\n",
    "            # x sim N(0, I)\n",
    "            features = np.random.normal(loc=0.0, scale=1.0, size=(n_data, d_data))\n",
    "#             features = np.random.normal(scale=np.ones(n_data, d_data))\n",
    "            # y = w x + noise\n",
    "            # w is same for all nodes in a component\n",
    "            # noise sim N(0, 0.4)\n",
    "            noise = np.random.normal(scale=np.ones(n_data) * 0.4)\n",
    "#             label = w * features + noise\n",
    "            label = np.dot(features, w)  + noise\n",
    "            true_labels.append(label)       \n",
    "\n",
    "            datapoints[idx] = {\n",
    "                'features': features,\n",
    "                'label': label,\n",
    "                'w': w,\n",
    "                'degree': node_degrees[i],\n",
    "            }\n",
    "            \n",
    "            all_features.append(features)\n",
    "            \n",
    "    return B, weight_vec, np.array(all_features), np.array(true_labels), datapoints"
   ]
  },
  {
   "cell_type": "markdown",
   "metadata": {},
   "source": [
    "Plot the MSE with respect to the different random sampling sets for each penalty function, the plots are in the log scale"
   ]
  },
  {
   "cell_type": "markdown",
   "metadata": {},
   "source": [
    "## Results \n",
    "\n",
    "### Number of features: 2   \n",
    "### Number of datapoints per node: 5"
   ]
  },
  {
   "cell_type": "code",
   "execution_count": 146,
   "metadata": {},
   "outputs": [],
   "source": [
    "import random \n",
    "import matplotlib.pyplot as plt\n",
    "\n",
    "from collections import defaultdict\n",
    "\n",
    "\n",
    "K = 1000\n",
    "\n",
    "# B, weight_vec, features, true_labels, datapoints = get_sbm_2blocks_data(pin=1.0, pout=0.01)\n",
    "B, weight_vec, features, true_labels, datapoints = get_sbm(c=2, p1=1.0, p2=0.0, n_nodes=10, n_data=5, d_data=2)\n",
    "\n",
    "\n",
    "num_tries = 5\n",
    "\n",
    "from joblib import Parallel, delayed\n",
    "import multiprocessing\n",
    "def fun(K, B, weight_vec, features, datapoints, true_labels):\n",
    "    E, N = B.shape\n",
    "    samplingset = random.sample([j for j in range(N)], k=int(0.5* N)) \n",
    "    _, predicted_w, alg1_iters = algorithm_1(K, B.copy(), weight_vec.copy(), \n",
    "                                 features.copy(), \n",
    "                                 true_labels.copy(), \n",
    "                                 samplingset.copy(), \n",
    "                                 lambda_lasso=0.1)\n",
    "    _, joona_w, joona_iters = joonas_algorithm_1(K, B.copy(), weight_vec.copy(), \n",
    "                                       features.copy(), \n",
    "                                       true_labels.copy(), \n",
    "                                       samplingset, \n",
    "                                       lambda_lasso=0.1)\n",
    "    \n",
    "    alg1_score = get_algorithm1_w_MSE(predicted_w, samplingset.copy(), datapoints.copy())\n",
    "    joona_score = get_algorithm1_w_MSE(joona_w, samplingset.copy(), datapoints.copy())\n",
    "\n",
    "    return alg1_score, joona_score, alg1_iters, joona_iters\n",
    "\n",
    "\n",
    "# results = Parallel(n_jobs=4)(delayed(fun)() \n",
    "#                                          for i in range(num_tries))\n",
    "\n",
    "alg1_scores = []\n",
    "alg1_iters = []\n",
    "joonas_scores = []\n",
    "joona_iters = []\n",
    "for i in range(num_tries):\n",
    "    alg1_score, joonas_score, alg1_iter, joona_iter = fun(K, B, weight_vec, features, datapoints, true_labels)\n",
    "    alg1_scores.append(alg1_score)\n",
    "    joonas_scores.append(joonas_score)\n",
    "    alg1_iters.append(alg1_iter)\n",
    "    joona_iters.append(joona_iter)\n",
    "\n"
   ]
  },
  {
   "cell_type": "code",
   "execution_count": 147,
   "metadata": {},
   "outputs": [
    {
     "name": "stdout",
     "output_type": "stream",
     "text": [
      "algorithm 1: \n",
      " mean train MSE: 0.014789629520173795 \n",
      " mean test MSE: 0.007866757990061053\n",
      "\n",
      "joonas algorithm 1: \n",
      " mean train MSE: 0.01634290708898334 \n",
      " mean test MSE: 0.014247811515779174\n",
      "\n"
     ]
    },
    {
     "data": {
      "image/png": "[encoded data removed]",
      "text/plain": [
       "<Figure size 432x288 with 1 Axes>"
      ]
     },
     "metadata": {
      "needs_background": "light"
     },
     "output_type": "display_data"
    }
   ],
   "source": [
    "labels = ['alg1', 'joonas']\n",
    "x_pos = np.arange(len(labels))\n",
    "    \n",
    "    \n",
    "print('algorithm 1:', \n",
    "      '\\n mean train MSE:', np.mean([item['train'] for item in alg1_scores]),\n",
    "      '\\n mean test MSE:', np.mean([item['test'] for item in alg1_scores]))\n",
    "print()\n",
    "\n",
    "\n",
    "print('joonas algorithm 1:', \n",
    "      '\\n mean train MSE:', np.mean([item['train'] for item in joonas_scores]),\n",
    "      '\\n mean test MSE:', np.mean([item['test'] for item in joonas_scores]))\n",
    "print()\n",
    "\n",
    "    \n",
    "alg1_norm1_score = [item['total'] for item in alg1_scores]\n",
    "joonas_score = [item['total'] for item in joonas_scores]\n",
    "\n",
    "mean_MSEs = [\n",
    "    np.mean(alg1_norm1_score), \n",
    "    np.mean(joonas_score), \n",
    "]\n",
    "\n",
    "std_MSEs = [\n",
    "    np.std(alg1_norm1_score), \n",
    "    np.std(joonas_score), \n",
    "]\n",
    "\n",
    "\n",
    "fig, ax = plt.subplots()\n",
    "ax.bar(x_pos, mean_MSEs,\n",
    "   yerr=std_MSEs,\n",
    "   align='center',\n",
    "   alpha=0.5,\n",
    "   ecolor='black',\n",
    "   capsize=20)\n",
    "ax.set_ylabel('MSE')\n",
    "ax.set_xticks(x_pos)\n",
    "ax.set_xticklabels(labels)\n",
    "# ax.set_yscale('log')\n",
    "ax.set_title('error bars plot')\n",
    "plt.show()\n",
    "plt.close()\n",
    "    "
   ]
  },
  {
   "cell_type": "markdown",
   "metadata": {},
   "source": [
    "## Joona's implementation accuracy"
   ]
  },
  {
   "cell_type": "code",
   "execution_count": 129,
   "metadata": {},
   "outputs": [],
   "source": [
    "p1s = np.linspace(0.1, 0.9, 9)\n",
    "p2s = np.linspace(0.1, 0.7, 7)\n",
    "\n",
    "def experiment(iterk = 5, c = 2):\n",
    "    K = 400\n",
    "    \n",
    "    alg1_scores = defaultdict(list)\n",
    "    n_nodes = 50\n",
    "    scores_test = np.zeros((9,7,iterk))\n",
    "    scores_total = np.zeros((9,7,iterk))\n",
    "    pred_ws = defaultdict(list)\n",
    "    n_iters = np.zeros((9,7,iterk))\n",
    "    \n",
    "    \n",
    "    lambda_lasso = 0.05\n",
    "\n",
    "    for k in range(iterk):\n",
    "        for p1i in range(len(p1s)):\n",
    "            p1 = p1s[p1i]\n",
    "            print(p1)\n",
    "            for p2i in range(len(p2s)):\n",
    "                p2 = p2s[p2i]\n",
    "                \n",
    "                B, weight_vec, all_features, true_labels, datapoints = get_sbm(c, p1=p1, p2=p2, n_nodes=n_nodes)\n",
    "                E, N = B.shape\n",
    "\n",
    "                samplingset = random.sample([i for i in range(N)], k=int(0.5 * N))\n",
    "            \n",
    "                _, predicted_w, iters = joonas_algorithm_1(K, B, weight_vec, all_features, true_labels, samplingset, lambda_lasso)\n",
    "        \n",
    "\n",
    "                pred_ws[p1,p2].append(predicted_w)\n",
    "            \n",
    "                alg1_score = get_algorithm1_w_MSE(predicted_w, samplingset.copy(), datapoints.copy())\n",
    "                alg1_scores[f'{p1}{p2}'].append(alg1_score)\n",
    "\n",
    "                scores_test[p1i,p2i,k] = alg1_score['test']\n",
    "                scores_total[p1i,p2i,k] = alg1_score['total']\n",
    "                n_iters[p1i,p2i,k] = iters\n",
    "    return alg1_scores, scores_test, scores_total, n_iters, pred_ws\n"
   ]
  },
  {
   "cell_type": "code",
   "execution_count": 130,
   "metadata": {},
   "outputs": [],
   "source": [
    "expc2 = experiment(c = 2)\n"
   ]
  },
  {
   "cell_type": "code",
   "execution_count": 124,
   "metadata": {},
   "outputs": [
    {
     "data": {
      "image/png": "[encoded data removed]",
      "text/plain": [
       "<Figure size 432x288 with 2 Axes>"
      ]
     },
     "metadata": {
      "needs_background": "light"
     },
     "output_type": "display_data"
    }
   ],
   "source": [
    "\n",
    "import seaborn as sns\n",
    "sns.heatmap(expc2[1].mean(-1), xticklabels=p2s, yticklabels=np.round(p1s,2), cmap=\"BuPu\")\n",
    "plt.xlabel(\"p_out\")\n",
    "plt.ylabel(\"p_in\")\n",
    "plt.title(\"Test MSE, c = 2\")\n",
    "plt.show()"
   ]
  },
  {
   "cell_type": "code",
   "execution_count": 125,
   "metadata": {},
   "outputs": [
    {
     "data": {
      "image/png": "[encoded data removed]",
      "text/plain": [
       "<Figure size 432x288 with 2 Axes>"
      ]
     },
     "metadata": {
      "needs_background": "light"
     },
     "output_type": "display_data"
    }
   ],
   "source": [
    "sns.heatmap(expc2[2].mean(-1), xticklabels=p2s, yticklabels=np.round(p1s,2), robust=False, cmap=\"BuPu\")\n",
    "plt.xlabel(\"p_out\")\n",
    "plt.ylabel(\"p_in\")\n",
    "plt.title(\"Total MSE, c = 2\")\n",
    "plt.show()"
   ]
  },
  {
   "cell_type": "markdown",
   "metadata": {},
   "source": [
    "## Convergence speed w.r.t p1, p2\n"
   ]
  },
  {
   "cell_type": "markdown",
   "metadata": {},
   "source": [
    "We measure the convergence speed of the networked algorithm with the number of iterations it takes to converge w.r.t $p1$, $p2$.\n",
    "Convergence is reached when the train MSE difference of two subsequent iterations is less than $\\epsilon = 0.005$.\n",
    "It is worth noting that the number of clusters affects the convergence speed as well as it adds $n_{nodes}$ more nodes to the graph.\n",
    "However, the number of iterations it takes to converge is not universal as it also depends on the optimizer of choice and the learning rate.\n",
    "Yet, the results should give idea relative to the settings about the convergence speed.\n",
    "\n",
    "Should also analyze big O for iteration time?"
   ]
  },
  {
   "cell_type": "code",
   "execution_count": 153,
   "metadata": {},
   "outputs": [
    {
     "data": {
      "image/png": "[encoded data removed]",
      "text/plain": [
       "<Figure size 432x288 with 2 Axes>"
      ]
     },
     "metadata": {
      "needs_background": "light"
     },
     "output_type": "display_data"
    }
   ],
   "source": [
    "sns.heatmap(expc2[3].mean(-1), xticklabels=p2s, yticklabels=np.round(p1s,2), cmap=\"BuPu\")\n",
    "plt.xlabel(\"p_out\")\n",
    "plt.ylabel(\"p_in\")\n",
    "plt.title(\"Number of iterations to converge, c = 2, lr = 0.05\")\n",
    "plt.show()"
   ]
  },
  {
   "cell_type": "markdown",
   "metadata": {},
   "source": [
    "## My implementation accuracy"
   ]
  },
  {
   "cell_type": "code",
   "execution_count": 158,
   "metadata": {},
   "outputs": [],
   "source": [
    "p1s = np.linspace(0.1, 0.9, 9)\n",
    "# p1s = np.linspace(0.1, 0.9, 3)\n",
    "p2s = np.linspace(0.1, 0.7, 7)\n",
    "# p2s = np.linspace(0.1, 0.7, 3)\n",
    "lambda_lasso = 0.1\n",
    "\n",
    "def my_experiment(iterk = 5, c = 2):\n",
    "    K = 400\n",
    "    lambda_lasso = 0.2\n",
    "    \n",
    "    alg1_scores = defaultdict(list)\n",
    "    n_nodes = 50\n",
    "    pred_ws = defaultdict(list)\n",
    "    scores_test = np.zeros((9,7,iterk))\n",
    "    scores_total = np.zeros((9,7,iterk))\n",
    "    n_iters = np.zeros((9,7,iterk))\n",
    "\n",
    "    for k in range(iterk):\n",
    "        for p1i in range(len(p1s)):\n",
    "            p1 = p1s[p1i]\n",
    "            print(p1)\n",
    "            for p2i in range(len(p2s)):\n",
    "                p2 = p2s[p2i]\n",
    "                \n",
    "                B, weight_vec, all_features, true_labels, datapoints = get_sbm(c, p1=p1, p2=p2, n_nodes=n_nodes)\n",
    "                E, N = B.shape\n",
    "\n",
    "                samplingset = random.sample([i for i in range(N)], k=int(0.3 * N))\n",
    "            \n",
    "                _, predicted_w, iters = algorithm_1(K, B, weight_vec, all_features, true_labels, samplingset, lambda_lasso)\n",
    "        \n",
    "#                 alg1_score, torch_linear_score, linear_regression_score, decision_tree_score = get_scores(datapoints, predicted_w, samplingset, c, n_nodes)\n",
    "                pred_ws[p1,p2].append(predicted_w)\n",
    "                alg1_score = get_algorithm1_MSE(all_features, true_labels, predicted_w, samplingset)\n",
    "                alg1_scores[f'{p1}{p2}'].append(alg1_score)\n",
    "\n",
    "                scores_test[p1i,p2i,k] = alg1_score['test']\n",
    "                scores_total[p1i,p2i,k] = alg1_score['total']\n",
    "                n_iters[p1i,p2i,k] = iters\n",
    "    return alg1_scores, scores_test, scores_total, n_iters, pred_ws\n",
    "\n",
    "my_expc2 = my_experiment(c = 2)\n",
    "# new_my_expc2 = my_experiment(c = 2)\n",
    "\n"
   ]
  },
  {
   "cell_type": "code",
   "execution_count": 155,
   "metadata": {},
   "outputs": [
    {
     "data": {
      "image/png": "[encoded data removed]",
      "text/plain": [
       "<Figure size 432x288 with 2 Axes>"
      ]
     },
     "metadata": {
      "needs_background": "light"
     },
     "output_type": "display_data"
    }
   ],
   "source": [
    "sns.heatmap(my_expc2[1].mean(-1), xticklabels=p2s, yticklabels=np.round(p1s,2), cmap=\"BuPu\")\n",
    "plt.xlabel(\"p_out\")\n",
    "plt.ylabel(\"p_in\")\n",
    "plt.title(\"Test MSE, c = 2\")\n",
    "plt.show()"
   ]
  },
  {
   "cell_type": "code",
   "execution_count": 156,
   "metadata": {},
   "outputs": [
    {
     "data": {
      "image/png": "[encoded data removed]",
      "text/plain": [
       "<Figure size 432x288 with 2 Axes>"
      ]
     },
     "metadata": {
      "needs_background": "light"
     },
     "output_type": "display_data"
    }
   ],
   "source": [
    "sns.heatmap(my_expc2[2].mean(-1), xticklabels=p2s, yticklabels=np.round(p1s,2), robust=False, cmap=\"BuPu\")\n",
    "plt.xlabel(\"p_out\")\n",
    "plt.ylabel(\"p_in\")\n",
    "plt.title(\"Total MSE, c = 2\")\n",
    "plt.show()"
   ]
  },
  {
   "cell_type": "markdown",
   "metadata": {},
   "source": [
    "## Convergence speed w.r.t p1, p2"
   ]
  },
  {
   "cell_type": "markdown",
   "metadata": {},
   "source": [
    "We measure the convergence speed of the networked algorithm with the number of iterations it takes to converge w.r.t $p1$, $p2$.\n",
    "Convergence is reached when the train MSE difference of two subsequent iterations is less than $\\epsilon = 0.005$.\n",
    "It is worth noting that the number of clusters affects the convergence speed as well as it adds $n_{nodes}$ more nodes to the graph.\n",
    "However, the number of iterations it takes to converge is not universal as it also depends on the optimizer of choice and the learning rate.\n",
    "Yet, the results should give idea relative to the settings about the convergence speed.\n",
    "\n",
    "Should also analyze big O for iteration time?"
   ]
  },
  {
   "cell_type": "code",
   "execution_count": 157,
   "metadata": {},
   "outputs": [
    {
     "data": {
      "image/png": "[encoded data removed]",
      "text/plain": [
       "<Figure size 432x288 with 2 Axes>"
      ]
     },
     "metadata": {
      "needs_background": "light"
     },
     "output_type": "display_data"
    }
   ],
   "source": [
    "sns.heatmap(my_expc2[3].mean(-1), xticklabels=p2s, yticklabels=np.round(p1s,2), cmap=\"BuPu\")\n",
    "plt.xlabel(\"p_out\")\n",
    "plt.ylabel(\"p_in\")\n",
    "plt.title(\"Number of iterations to converge, c = 2, lr = 0.05\")\n",
    "plt.show()"
   ]
  },
  {
   "cell_type": "code",
   "execution_count": null,
   "metadata": {},
   "outputs": [],
   "source": []
  }
 ],
 "metadata": {
  "kernelspec": {
   "display_name": "Python 3 (ipykernel)",
   "language": "python",
   "name": "python3"
  },
  "language_info": {
   "codemirror_mode": {
    "name": "ipython",
    "version": 3
   },
   "file_extension": ".py",
   "mimetype": "text/x-python",
   "name": "python",
   "nbconvert_exporter": "python",
   "pygments_lexer": "ipython3",
   "version": "3.7.11"
  }
 },
 "nbformat": 4,
 "nbformat_minor": 4
}
