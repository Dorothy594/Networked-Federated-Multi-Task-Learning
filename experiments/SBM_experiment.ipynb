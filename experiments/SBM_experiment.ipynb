{
 "cells": [
  {
   "cell_type": "code",
   "execution_count": 1,
   "metadata": {},
   "outputs": [
    {
     "name": "stdout",
     "output_type": "stream",
     "text": [
      "/Users/sahel/papers/FederatedLearning\n"
     ]
    }
   ],
   "source": [
    "%cd ../"
   ]
  },
  {
   "cell_type": "markdown",
   "metadata": {},
   "source": [
    "## Stochastic Block Model Experiment"
   ]
  },
  {
   "cell_type": "markdown",
   "metadata": {},
   "source": [
    "Before geting into the experiment details, let's review algorithm 1 and the primal and dual updates."
   ]
  },
  {
   "cell_type": "markdown",
   "metadata": {},
   "source": [
    "### Algorithm 1"
   ]
  },
  {
   "cell_type": "markdown",
   "metadata": {},
   "source": [
    "![title](../algorithm1.png)"
   ]
  },
  {
   "cell_type": "code",
   "execution_count": 2,
   "metadata": {},
   "outputs": [],
   "source": [
    "# %load algorithm/main.py\n",
    "from sklearn.metrics import mean_squared_error\n",
    "\n",
    "from algorithm.penalty import *\n",
    "\n",
    "\n",
    "def algorithm_1(K, D, weight_vec, datapoints, true_labels, samplingset, lambda_lasso, penalty_func_name='norm1', calculate_score=False):\n",
    "    '''\n",
    "    :param K: the number of iterations\n",
    "    :param D: the block incidence matrix\n",
    "    :param weight_vec: a list containing the edges's weights of the graph\n",
    "    :param datapoints: a dictionary containing the data of each node in the graph needed for the algorithm 1\n",
    "    :param true_labels: a list containing the true labels of the nodes\n",
    "    :param samplingset: the sampling set\n",
    "    :param lambda_lasso: the parameter lambda\n",
    "    :param penalty_func_name: the name of the penalty function used in the algorithm\n",
    "\n",
    "    :return iteration_scores: the mean squared error of the predicted weight vectors in each iteration\n",
    "    :return new_w: the predicted weigh vectors for each node\n",
    "    '''\n",
    "\n",
    "    Sigma = np.diag(np.full(weight_vec.shape, 0.9 / 2))\n",
    "    '''\n",
    "    Sigma: the block diagonal matrix Sigma\n",
    "    '''\n",
    "    T_matrix = np.diag(np.array((1.0 / (np.sum(abs(D), 0)))).ravel())\n",
    "    '''\n",
    "    T_matrix: the block diagonal matrix T\n",
    "    '''\n",
    "\n",
    "    if np.linalg.norm(np.dot(Sigma ** 0.5, D).dot(T_matrix ** 0.5), 2) > 1:\n",
    "        print ('product norm', np.linalg.norm(np.dot(Sigma ** 0.5, D).dot(T_matrix ** 0.5), 2))\n",
    "\n",
    "    E, N = D.shape\n",
    "    m, n = datapoints[0]['features'].shape\n",
    "\n",
    "    # define the penalty function\n",
    "    if penalty_func_name == 'norm1':\n",
    "        penalty_func = Norm1Pelanty(lambda_lasso, weight_vec, Sigma, n)\n",
    "\n",
    "    elif penalty_func_name == 'norm2':\n",
    "        penalty_func = Norm2Pelanty(lambda_lasso, weight_vec, Sigma, n)\n",
    "\n",
    "    elif penalty_func_name == 'mocha':\n",
    "        penalty_func = MOCHAPelanty(lambda_lasso, weight_vec, Sigma, n)\n",
    "\n",
    "    else:\n",
    "        raise Exception('Invalid penalty name')\n",
    "\n",
    "    # starting algorithm 1\n",
    "\n",
    "    new_w = np.array([np.zeros(n) for i in range(N)])\n",
    "    '''\n",
    "    new_w: the primal variable of the algorithm 1\n",
    "    '''\n",
    "    new_u = np.array([np.zeros(n) for i in range(E)])\n",
    "    '''\n",
    "    new_u: the dual variable of the algorithm 1\n",
    "    '''\n",
    "\n",
    "    iteration_scores = []\n",
    "    for iterk in range(K):\n",
    "        # if iterk % 100 == 0:\n",
    "        #     print ('iter:', iterk)\n",
    "        prev_w = np.copy(new_w)\n",
    "\n",
    "        # algorithm 1, line 2\n",
    "        hat_w = new_w - np.dot(T_matrix, np.dot(D.T, new_u))\n",
    "\n",
    "        for i in range(N):\n",
    "            if i in samplingset:  # algorithm 1, line 6\n",
    "\n",
    "                optimizer = datapoints[i]['optimizer']\n",
    "                new_w[i] = optimizer.optimize(datapoints[i]['features'], datapoints[i]['label'], hat_w[i], datapoints[i]['degree'])\n",
    "\n",
    "            else:\n",
    "                new_w[i] = hat_w[i]\n",
    "\n",
    "        # algorithm 1, line 9\n",
    "        tilde_w = 2 * new_w - prev_w\n",
    "        new_u = new_u + np.dot(Sigma, np.dot(D, tilde_w))\n",
    "\n",
    "        # algorithm 1, line 10\n",
    "        new_u = penalty_func.update(new_u)\n",
    "\n",
    "        # calculate the MSE of the predicted weight vectors\n",
    "        if calculate_score:\n",
    "            Y_pred = []\n",
    "            for i in range(N):\n",
    "                Y_pred.append(np.dot(datapoints[i]['features'], new_w[i]))\n",
    "\n",
    "            iteration_scores.append(mean_squared_error(true_labels.reshape(N, m), Y_pred))\n",
    "\n",
    "    # print (np.max(abs(new_w - prev_w)))\n",
    "\n",
    "    return iteration_scores, new_w\n"
   ]
  },
  {
   "cell_type": "markdown",
   "metadata": {},
   "source": [
    "### Primal Update "
   ]
  },
  {
   "cell_type": "markdown",
   "metadata": {},
   "source": [
    "As you see in the algorithm picture, the primal update needs a optimizer operator for the sampling set (line 6). We have implemented the optimizers discussed in the paper, both the logistic loss and squared error loss optimizers implementations with pytorch is available, also we have implemented the squared error loss optimizer using the fixed point equation in the `Networked Linear Regression` section of the paper.  "
   ]
  },
  {
   "cell_type": "code",
   "execution_count": 3,
   "metadata": {},
   "outputs": [],
   "source": [
    "# %load algorithm/optimizer.py \n",
    "import torch\n",
    "import abc\n",
    "import numpy as np\n",
    "\n",
    "from abc import ABC\n",
    "\n",
    "\n",
    "# The linear model which is implemented by pytorch\n",
    "class TorchLinearModel(torch.nn.Module):\n",
    "    def __init__(self, n):\n",
    "        super(TorchLinearModel, self).__init__()\n",
    "        self.linear = torch.nn.Linear(n, 1, bias=False)\n",
    "\n",
    "    def forward(self, x):\n",
    "        y_pred = self.linear(x)\n",
    "        return y_pred\n",
    "\n",
    "\n",
    "# The abstract optimizer model which should have model, optimizer, and criterion as the input\n",
    "class Optimizer(ABC):\n",
    "    def __init__(self, model, optimizer, criterion):\n",
    "        self.model = model\n",
    "        self.optimizer = optimizer\n",
    "        self.criterion = criterion\n",
    "\n",
    "    @abc.abstractmethod\n",
    "    def optimize(self, x_data, y_data, old_weight, regularizer_term):\n",
    "        torch_old_weight = torch.from_numpy(np.array(old_weight, dtype=np.float32))\n",
    "        self.model.linear.weight.data = torch_old_weight\n",
    "        for iterinner in range(40):\n",
    "            self.optimizer.zero_grad()\n",
    "            y_pred = self.model(x_data)\n",
    "            loss1 = self.criterion(y_pred, y_data)\n",
    "            loss2 = 1 / (2 * regularizer_term) * torch.mean((self.model.linear.weight - torch_old_weight) ** 2)  # + 10000*torch.mean((model.linear.bias+0.5)**2)#model.linear.weight.norm(2)\n",
    "            loss = loss1 + loss2\n",
    "            loss.backward()\n",
    "            self.optimizer.step()\n",
    "\n",
    "        return self.model.linear.weight.data.numpy()\n",
    "\n",
    "\n",
    "# The linear model in Networked Linear Regression section of the paper\n",
    "class LinearModel:\n",
    "    def __init__(self, degree, features, label):\n",
    "        mtx1 = 2 * degree * np.dot(features.T, features).astype('float64')\n",
    "        mtx1 += 1 * np.eye(mtx1.shape[0])\n",
    "        mtx1_inv = np.linalg.inv(mtx1)\n",
    "\n",
    "        mtx2 = 2 * degree * np.dot(features.T, label).T\n",
    "\n",
    "        self.mtx1_inv = mtx1_inv\n",
    "        self.mtx2 = mtx2\n",
    "\n",
    "    def forward(self, x):\n",
    "        mtx2 = x + self.mtx2\n",
    "        mtx_inv = self.mtx1_inv\n",
    "\n",
    "        return np.dot(mtx_inv, mtx2)\n",
    "\n",
    "\n",
    "# The Linear optimizer in Networked Linear Regression section of the paper\n",
    "class LinearOptimizer(Optimizer):\n",
    "\n",
    "    def __init__(self, model):\n",
    "        super(LinearOptimizer, self).__init__(model, None, None)\n",
    "\n",
    "    def optimize(self, x_data, y_data, old_weight, regularizer_term):\n",
    "        return self.model.forward(old_weight)\n",
    "\n",
    "\n",
    "# The Linear optimizer model which is implemented by pytorch\n",
    "class TorchLinearOptimizer(Optimizer):\n",
    "    def __init__(self, model):\n",
    "        criterion = torch.nn.MSELoss(reduction='mean')\n",
    "        optimizer = torch.optim.RMSprop(model.parameters())\n",
    "        super(TorchLinearOptimizer, self).__init__(model, optimizer, criterion)\n",
    "\n",
    "    def optimize(self, x_data, y_data, old_weight, regularizer_term):\n",
    "        return super(TorchLinearOptimizer, self).optimize(x_data, y_data, old_weight, regularizer_term)\n",
    "\n",
    "\n",
    "# The Logistic optimizer model which is implemented by pytorch\n",
    "class TorchLogisticOptimizer(Optimizer):\n",
    "    def __init__(self, model):\n",
    "        criterion = torch.nn.BCELoss(reduction='mean')\n",
    "        optimizer = torch.optim.RMSprop(model.parameters())\n",
    "        super(TorchLogisticOptimizer, self).__init__(model, optimizer, criterion)\n",
    "\n",
    "    def optimize(self, x_data, y_data, old_weight, regularizer_term):\n",
    "        return super(TorchLogisticOptimizer, self).optimize(x_data, y_data, old_weight, regularizer_term)\n"
   ]
  },
  {
   "cell_type": "markdown",
   "metadata": {},
   "source": [
    "### Dual Update "
   ]
  },
  {
   "cell_type": "markdown",
   "metadata": {},
   "source": [
    "As mentioned in the paper, the dual update has a penalty function(line 10) which is either norm1, norm2, or mocha."
   ]
  },
  {
   "cell_type": "code",
   "execution_count": 4,
   "metadata": {},
   "outputs": [],
   "source": [
    "# %load algorithm/penalty.py\n",
    "import abc\n",
    "import numpy as np\n",
    "\n",
    "from abc import ABC\n",
    "\n",
    "\n",
    "# The abstract penalty function which has a function update\n",
    "class Penalty(ABC):\n",
    "    def __init__(self, lambda_lasso, weight_vec, Sigma, n):\n",
    "        self.lambda_lasso = lambda_lasso\n",
    "        self.weight_vec = weight_vec\n",
    "        self.Sigma = Sigma\n",
    "\n",
    "    @abc.abstractmethod\n",
    "    def update(self, new_u):\n",
    "        pass\n",
    "\n",
    "\n",
    "# The norm2 penalty function\n",
    "class Norm2Pelanty(Penalty):\n",
    "    def __init__(self, lambda_lasso, weight_vec, Sigma, n):\n",
    "        super(Norm2Pelanty, self).__init__(lambda_lasso, weight_vec, Sigma, n)\n",
    "        self.limit = np.array(lambda_lasso * weight_vec)\n",
    "\n",
    "    def update(self, new_u):\n",
    "        normalized_u = np.where(np.linalg.norm(new_u, axis=1) >= self.limit)\n",
    "        new_u[normalized_u] = (new_u[normalized_u].T * self.limit[normalized_u] / np.linalg.norm(new_u[normalized_u], axis=1)).T\n",
    "        return new_u\n",
    "\n",
    "\n",
    "# The MOCHA penalty function\n",
    "class MOCHAPelanty(Penalty):\n",
    "    def __init__(self, lambda_lasso, weight_vec, Sigma, n):\n",
    "        super(MOCHAPelanty, self).__init__(lambda_lasso, weight_vec, Sigma, n)\n",
    "        self.normalize_factor = 1 + np.dot(2 * self.Sigma, 1/(self.lambda_lasso * self.weight_vec))\n",
    "\n",
    "    def update(self, new_u):\n",
    "        for i in range(new_u.shape[1]):\n",
    "            new_u[:, i] /= self.normalize_factor\n",
    "\n",
    "        return new_u\n",
    "\n",
    "\n",
    "# The norm1 penalty function\n",
    "class Norm1Pelanty(Penalty):\n",
    "    def __init__(self, lambda_lasso, weight_vec, Sigma, n):\n",
    "        super(Norm1Pelanty, self).__init__(lambda_lasso, weight_vec, Sigma, n)\n",
    "        self.limit = np.array([np.zeros(n) for i in range(len(weight_vec))])\n",
    "        for i in range(n):\n",
    "            self.limit[:, i] = lambda_lasso * weight_vec\n",
    "\n",
    "    def update(self, new_u):\n",
    "        normalized_u = np.where(abs(new_u) >= self.limit)\n",
    "        new_u[normalized_u] = self.limit[normalized_u] * new_u[normalized_u] / abs(new_u[normalized_u])\n",
    "        return new_u\n"
   ]
  },
  {
   "cell_type": "markdown",
   "metadata": {},
   "source": [
    "## Create SBM Graph"
   ]
  },
  {
   "cell_type": "markdown",
   "metadata": {},
   "source": [
    "The stochastic block model is a generative model for random graphs with some clusters structure. Two nodes within the same cluster of the empirical graph are connected by an edge with probability pin, two nodes from different clusters are connected by an edge with probability pout. Each node $i \\in V$ represents a local dataset consisting of $m$ feature vectors $x^{(i,1)}, ... , x^{(i,m)} \\in R^n$. The feature vectors are i.i.d. realizations of a standard Gaussian random vector x ∼ N(0,I). The labels $y_1^{(i)}, . . . , y_m^{(i)} \\in R$ of the nodes $i \\in V$ are generated according to the linear model $y_r^{(i)} = (x^{(i, r)})^T w^{(i)} + \\epsilon$, with $\\epsilon ∼ N(0,\\sigma)$. To learn the weight $w^{(i)}$ ,we apply Algorithm 1 to a training set M obtained by randomly selecting 40% of the nodes."
   ]
  },
  {
   "cell_type": "code",
   "execution_count": 5,
   "metadata": {},
   "outputs": [],
   "source": [
    "from algorithm.optimizer import *\n",
    "from torch.autograd import Variable\n",
    "from graspy.simulations import sbm\n",
    "\n",
    "\n",
    "def get_sbm_data(cluster_sizes, G, W, m=5, n=2, noise_sd=0, is_torch_model=True):\n",
    "    '''\n",
    "    :param cluster_sizes: a list containing the size of each cluster\n",
    "    :param G: generated SBM graph with defined clusters using graspy.simulations\n",
    "    :param W: a list containing the weight vectors for each cluster\n",
    "    :param m, n: shape of features vector for each node\n",
    "    :param pin: the probability of edges inside each cluster\n",
    "    :param pout: the probability of edges between the clusters\n",
    "    :param noise_sd: the standard deviation of the noise for calculating the labels\n",
    "    \n",
    "    :return B: adjacency matrix of the graph\n",
    "    :return weight_vec: a list containing the edges's weights of the graph\n",
    "    :return true_labels: a list containing the true labels of the nodes\n",
    "    :return datapoints: a dictionary containing the data of each node in the graph needed for the algorithm 1 \n",
    "    '''\n",
    "\n",
    "    N = len(G)\n",
    "    E = int(len(np.argwhere(G > 0))/2)\n",
    "    '''\n",
    "    N: total number of nodes\n",
    "    E: total number of edges\n",
    "    '''\n",
    "    \n",
    "    \n",
    "    # create B(adjacency matrix) and edges's weights vector(weight_vec) based on the graph G\n",
    "    B = np.zeros((E, N))\n",
    "    '''\n",
    "    B: adjacency matrix of the graph with the shape of E*N\n",
    "    '''\n",
    "    weight_vec = np.zeros(E)\n",
    "    '''\n",
    "    weight_vec: a list containing the edges's weights of the graph with the shape of E\n",
    "    '''\n",
    "    \n",
    "    cnt = 0\n",
    "    for i, j in np.argwhere(G > 0):\n",
    "        if i > j:\n",
    "            continue\n",
    "        B[cnt, i] = 1\n",
    "        B[cnt, j] = -1\n",
    "\n",
    "        weight_vec[cnt] = 1\n",
    "        cnt += 1\n",
    "    \n",
    "    \n",
    "    # create the data of each node needed for the algorithm 1 \n",
    "    \n",
    "    node_degrees = np.array((1.0 / (np.sum(abs(B), 0)))).ravel()\n",
    "    '''\n",
    "    node_degrees: a list containing the nodes degree for the alg1 (1/N_i)\n",
    "    '''\n",
    "    \n",
    "    datapoints = {}\n",
    "    '''\n",
    "    datapoints: a dictionary containing the data of each node in the graph needed for the algorithm 1,\n",
    "    which are features, label, degree, and also the optimizer model for each node\n",
    "    '''\n",
    "    true_labels = []\n",
    "    '''\n",
    "    true_labels: the true labels for the nodes of the graph\n",
    "    '''\n",
    "    cnt = 0\n",
    "    for i, cluster_size in enumerate(cluster_sizes):\n",
    "        for j in range(cluster_size):\n",
    "            features = np.random.normal(loc=0.0, scale=1.0, size=(m, n))\n",
    "            '''\n",
    "            features: the feature vector of node i which are i.i.d. realizations of a standard Gaussian random vector x~N(0,I)\n",
    "            '''\n",
    "            label = np.dot(features, W[i]) + np.random.normal(0,noise_sd)\n",
    "            '''\n",
    "            label: the label of the node i that is generated according to the linear model y = x^T w + e\n",
    "            '''\n",
    "            \n",
    "            true_labels.append(label)\n",
    "\n",
    "            if is_torch_model:\n",
    "                model = TorchLinearModel(n)\n",
    "                optimizer = TorchLinearOptimizer(model)\n",
    "                features = Variable(torch.from_numpy(features)).to(torch.float32)\n",
    "                label = Variable(torch.from_numpy(label)).to(torch.float32) \n",
    "\n",
    "            else:\n",
    "\n",
    "                model = LinearModel(node_degrees[i], features, label)\n",
    "                optimizer = LinearOptimizer(model)            \n",
    "            '''\n",
    "            model : the linear model for the node i \n",
    "            optimizer : the optimizer model for the node i \n",
    "            ''' \n",
    "            \n",
    "            datapoints[cnt] = {\n",
    "                'features': features,\n",
    "                'degree': node_degrees[i],\n",
    "                'label': label,\n",
    "                'optimizer': optimizer\n",
    "            }\n",
    "            cnt += 1\n",
    "        \n",
    "\n",
    "    return B, weight_vec, np.array(true_labels), datapoints\n",
    "\n",
    "\n"
   ]
  },
  {
   "cell_type": "markdown",
   "metadata": {},
   "source": [
    "### Compare Results"
   ]
  },
  {
   "cell_type": "markdown",
   "metadata": {},
   "source": [
    "As the result we compare the MSE of Algorithm 1 with plain linear regression \n",
    "and decision tree regression"
   ]
  },
  {
   "cell_type": "code",
   "execution_count": 6,
   "metadata": {},
   "outputs": [],
   "source": [
    "# %load results/compare_results.py\n",
    "import numpy as np\n",
    "from sklearn.linear_model import LinearRegression\n",
    "from sklearn.tree import DecisionTreeRegressor\n",
    "from sklearn.metrics import mean_squared_error\n",
    "\n",
    "\n",
    "def get_algorithm1_MSE(datapoints, predicted_w, samplingset):\n",
    "    '''\n",
    "    :param datapoints:  a dictionary containing the data of each node in the graph needed for the algorithm 1\n",
    "    :param predicted_w: the predicted weigh vectors for each node\n",
    "    :param samplingset: the sampling set for the algorithm 1\n",
    "\n",
    "    :return alg1_MSE: the MSE of the algorithm 1 for all the nodes, the samplingset and other nodes (test set)\n",
    "    '''\n",
    "    not_samplingset = [i for i in range(len(datapoints)) if i not in samplingset]\n",
    "\n",
    "    true_labels = []\n",
    "    pred_labels = []\n",
    "    for i in range(len(datapoints)):\n",
    "        features = np.array(datapoints[i]['features'])\n",
    "        label = np.array(datapoints[i]['label'])\n",
    "        true_labels.append(label)\n",
    "\n",
    "        pred_labels.append(np.dot(features, predicted_w[i]))\n",
    "\n",
    "    pred_labels = np.array(pred_labels)\n",
    "    true_labels = np.array(true_labels)\n",
    "\n",
    "    alg1_MSE = {'total': mean_squared_error(true_labels, pred_labels),\n",
    "                'train': mean_squared_error(true_labels[samplingset], pred_labels[samplingset]),\n",
    "                'test': mean_squared_error(true_labels[not_samplingset], pred_labels[not_samplingset])}\n",
    "\n",
    "    return alg1_MSE\n",
    "\n",
    "\n",
    "def get_linear_regression_MSE(x, y, samplingset, not_samplingset):\n",
    "    '''\n",
    "    :param x: a list containing the features of the nodes\n",
    "    :param y: a list containing the labels of the nodes\n",
    "    :param samplingset: the training dataset\n",
    "    :param not_samplingset: the test dataset\n",
    "    :return linear_regression_MSE : the MSE of linear regression for all the nodes, the samplingset and other nodes (test set)\n",
    "    '''\n",
    "\n",
    "    model = LinearRegression().fit(x[samplingset], y[samplingset])\n",
    "    pred_y = model.predict(x)\n",
    "\n",
    "    linear_regression_MSE = {'total': mean_squared_error(y, pred_y),\n",
    "                             'train': mean_squared_error(y[samplingset],\n",
    "                                                         pred_y[samplingset]),\n",
    "                             'test': mean_squared_error(y[not_samplingset],\n",
    "                                                        pred_y[not_samplingset])}\n",
    "\n",
    "    return linear_regression_MSE\n",
    "\n",
    "\n",
    "def get_decision_tree_MSE(x, y, samplingset, not_samplingset):\n",
    "    '''\n",
    "    :param x: a list containing the features of the nodes\n",
    "    :param y: a list containing the labels of the nodes\n",
    "    :param samplingset: the training dataset\n",
    "    :param not_samplingset: the test dataset\n",
    "    :return decision_tree_MSE : the MSE of decision tree for all the nodes, the samplingset and other nodes (test set)\n",
    "    '''\n",
    "\n",
    "    max_depth = 2\n",
    "\n",
    "    regressor = DecisionTreeRegressor(max_depth=max_depth)\n",
    "    regressor.fit(x[samplingset], y[samplingset])\n",
    "    pred_y = regressor.predict(x)\n",
    "\n",
    "    decision_tree_MSE = {'total': mean_squared_error(y, pred_y),\n",
    "                         'train': mean_squared_error(y[samplingset],\n",
    "                                                     pred_y[samplingset]),\n",
    "                         'test': mean_squared_error(y[not_samplingset],\n",
    "                                                    pred_y[not_samplingset])}\n",
    "    return decision_tree_MSE\n",
    "\n",
    "\n",
    "def get_scores(datapoints, predicted_w, samplingset):\n",
    "    N = len(datapoints)\n",
    "    '''\n",
    "    N : the total number of nodes\n",
    "    '''\n",
    "\n",
    "    # calculate algorithm1 MSE\n",
    "    alg_1_score = get_algorithm1_MSE(datapoints, predicted_w, samplingset)\n",
    "\n",
    "    # prepare the data for calculating the linear regression and decision tree regression MSEs\n",
    "    X = []\n",
    "    '''\n",
    "    X: an array containing the features of all the nodes\n",
    "    '''\n",
    "    true_labels = []\n",
    "    '''\n",
    "    true_labels: an array containing the labels of all the nodes\n",
    "    '''\n",
    "    for i in range(len(datapoints)):\n",
    "        X.append(np.array(datapoints[i]['features']))\n",
    "        true_labels.append(np.array(datapoints[i]['label']))\n",
    "\n",
    "    X = np.array(X)\n",
    "    true_labels = np.array(true_labels)\n",
    "    m, n = X[0].shape\n",
    "\n",
    "    x = X.reshape(-1, n)\n",
    "    y = true_labels.reshape(-1, 1)\n",
    "\n",
    "    reformated_samplingset = []\n",
    "    for item in samplingset:\n",
    "        for i in range(m):\n",
    "            reformated_samplingset.append(m * item + i)\n",
    "    reformated_not_samplingset = [i for i in range(m * N) if i not in reformated_samplingset]\n",
    "\n",
    "    # calculate linear regression MSE\n",
    "    linear_regression_score = get_linear_regression_MSE(x, y, reformated_samplingset, reformated_not_samplingset)\n",
    "\n",
    "    # calculate decision tree MSE\n",
    "    decision_tree_score = get_decision_tree_MSE(x, y, reformated_samplingset, reformated_not_samplingset)\n",
    "\n",
    "    return alg_1_score, linear_regression_score, decision_tree_score\n"
   ]
  },
  {
   "cell_type": "markdown",
   "metadata": {},
   "source": [
    "### SBM with Two Clusters"
   ]
  },
  {
   "cell_type": "markdown",
   "metadata": {},
   "source": [
    "This SBM has two clusters $|C_1| = |C_2| = 100$.\n",
    "Two nodes within the same cluster are connected by an edge with probability `pin=0.5`, \n",
    "and two nodes from different clusters are connected by an edge with probability `pout=0.01`. \n",
    "Each node $i \\in V$ represents a local dataset consisting of feature vectors $x^{(i,1)}, ... , x^{(i,5)} \\in R^2$.\n",
    "The feature vectors are i.i.d. realizations of a standard Gaussian random vector x ~ N(0,I).\n",
    "The labels $y_1^{(i)}, . . . , y_5^{(i)} \\in R$ for each node $i \\in V$\n",
    "are generated according to the linear model $y_r^{(i)} = (x^{(i, r)})^T w^{(i)} + \\epsilon$, with $\\epsilon = 0$. To learn the weight $w^{(i)}$ ,we apply Algorithm 1 to a training set M obtained by randomly selecting 40% of the nodes. As the result we compare the MSE of Algorithm 1 with plain linear regression \n",
    "and decision tree regression, please run"
   ]
  },
  {
   "cell_type": "code",
   "execution_count": 7,
   "metadata": {},
   "outputs": [],
   "source": [
    "from graspy.simulations import sbm\n",
    "\n",
    "\n",
    "def get_sbm_2blocks_data(m=5, n=2, pin=0.5, pout=0.01, noise_sd=0, is_torch_model=True):\n",
    "    '''\n",
    "    :param m, n: shape of features vector for each node\n",
    "    :param pin: the probability of edges inside each cluster\n",
    "    :param pout: the probability of edges between the clusters\n",
    "    :param noise_sd: the standard deviation of the noise for calculating the labels\n",
    "    \n",
    "    :return B: adjacency matrix of the graph\n",
    "    :return weight_vec: a list containing the edges's weights of the graph\n",
    "    :return true_labels: a list containing the true labels of the nodes\n",
    "    :return datapoints: a dictionary containing the data of each node in the graph needed for the algorithm 1 \n",
    "    '''\n",
    "    cluster_sizes = [100, 100]\n",
    "\n",
    "    # generate graph G which is a SBM wich 2 clusters\n",
    "    G = sbm(n=cluster_sizes, p=[[pin, pout],[pout, pin]])\n",
    "    '''\n",
    "    G: generated SBM graph with 2 clusters\n",
    "    ''' \n",
    "    \n",
    "    # define weight vectors for each cluster of the graph\n",
    "    \n",
    "    W1 = np.array([2, 2])\n",
    "    '''\n",
    "    W1: the weigh vector for the first cluster\n",
    "    '''\n",
    "    W2 = np.array([-2, 2])\n",
    "    '''\n",
    "    W2: the weigh vector for the second cluster\n",
    "    '''\n",
    "    \n",
    "    W = [W1, W2]\n",
    "    \n",
    "    \n",
    "    return get_sbm_data(cluster_sizes, G, W, m, n, noise_sd, is_torch_model)\n",
    "\n"
   ]
  },
  {
   "cell_type": "markdown",
   "metadata": {},
   "source": [
    "Plot the MSE with respect to the different random sampling sets for each penalty function, the plots are in the log scale"
   ]
  },
  {
   "cell_type": "code",
   "execution_count": 47,
   "metadata": {},
   "outputs": [
    {
     "name": "stdout",
     "output_type": "stream",
     "text": [
      "penalty function: norm1\n",
      "algorithm 1: \n",
      " mean train MSE: 3.765698746500083e-06 \n",
      " mean test MSE: 3.647801420764941e-06\n",
      "linear regression: \n",
      " mean train MSE: 3.991291652739541 \n",
      " mean test MSE: 3.853839343441879\n",
      "decision tree: \n",
      " mean train MSE: 4.171532731639859 \n",
      " mean test MSE: 4.464056159197585\n"
     ]
    },
    {
     "data": {
      "image/png": "[encoded data removed]",
      "text/plain": [
       "<Figure size 432x288 with 1 Axes>"
      ]
     },
     "metadata": {
      "needs_background": "light"
     },
     "output_type": "display_data"
    },
    {
     "name": "stdout",
     "output_type": "stream",
     "text": [
      "penalty function: norm2\n",
      "algorithm 1: \n",
      " mean train MSE: 3.768705392160616e-06 \n",
      " mean test MSE: 3.6601421136149693e-06\n",
      "linear regression: \n",
      " mean train MSE: 3.991291652739541 \n",
      " mean test MSE: 3.853839343441879\n",
      "decision tree: \n",
      " mean train MSE: 4.171532731639859 \n",
      " mean test MSE: 4.464056159197585\n"
     ]
    },
    {
     "data": {
      "image/png": "[encoded data removed]",
      "text/plain": [
       "<Figure size 432x288 with 1 Axes>"
      ]
     },
     "metadata": {
      "needs_background": "light"
     },
     "output_type": "display_data"
    },
    {
     "name": "stdout",
     "output_type": "stream",
     "text": [
      "penalty function: mocha\n",
      "algorithm 1: \n",
      " mean train MSE: 0.00012649893779460882 \n",
      " mean test MSE: 0.25919617331070227\n",
      "linear regression: \n",
      " mean train MSE: 3.991291652739541 \n",
      " mean test MSE: 3.853839343441879\n",
      "decision tree: \n",
      " mean train MSE: 4.171532731639859 \n",
      " mean test MSE: 4.464056159197585\n"
     ]
    },
    {
     "data": {
      "image/png": "[encoded data removed]",
      "text/plain": [
       "<Figure size 432x288 with 1 Axes>"
      ]
     },
     "metadata": {
      "needs_background": "light"
     },
     "output_type": "display_data"
    }
   ],
   "source": [
    "import random \n",
    "import matplotlib.pyplot as plt\n",
    "\n",
    "from collections import defaultdict\n",
    "\n",
    "\n",
    "PENALTY_FUNCS = ['norm1', 'norm2', 'mocha']\n",
    "\n",
    "lambda_lasso = 0.01\n",
    "\n",
    "K = 1000\n",
    "\n",
    "B, weight_vec, true_labels, datapoints = get_sbm_2blocks_data(pin=0.5, pout=0.01, is_torch_model=False)\n",
    "E, N = B.shape\n",
    "\n",
    "alg1_scores = defaultdict(list)\n",
    "linear_regression_scores = defaultdict(list)\n",
    "decision_tree_scores = defaultdict(list)\n",
    "\n",
    "num_tries = 5\n",
    "for i in range(num_tries):\n",
    "    samplingset = random.sample([i for i in range(N)], k=int(0.4* N))\n",
    "\n",
    "    for penalty_func in PENALTY_FUNCS:\n",
    "\n",
    "        _, predicted_w = algorithm_1(K, B, weight_vec, datapoints, true_labels, samplingset, lambda_lasso, penalty_func)\n",
    "\n",
    "        alg1_score, linear_regression_score, decision_tree_score = get_scores(datapoints, predicted_w, samplingset)\n",
    "        \n",
    "        alg1_scores[penalty_func].append(alg1_score)\n",
    "        linear_regression_scores[penalty_func].append(linear_regression_score)\n",
    "        decision_tree_scores[penalty_func].append(decision_tree_score)\n",
    "\n",
    "        \n",
    "colors = ['steelblue', 'darkorange', 'green']\n",
    "x = [i for i in range(num_tries)]\n",
    "for penalty_func in PENALTY_FUNCS:\n",
    "    \n",
    "    print('penalty function:', penalty_func)\n",
    "    \n",
    "    print('algorithm 1:', \n",
    "          '\\n mean train MSE:', np.mean([item['train'] for item in alg1_scores[penalty_func]]),\n",
    "          '\\n mean test MSE:', np.mean([item['test'] for item in alg1_scores[penalty_func]]))\n",
    "    \n",
    "    print('linear regression:', \n",
    "          '\\n mean train MSE:', np.mean([item['train'] for item in linear_regression_scores[penalty_func]]),\n",
    "          '\\n mean test MSE:', np.mean([item['test'] for item in linear_regression_scores[penalty_func]]))\n",
    "    \n",
    "    print('decision tree:', \n",
    "          '\\n mean train MSE:', np.mean([item['train'] for item in decision_tree_scores[penalty_func]]),\n",
    "          '\\n mean test MSE:', np.mean([item['test'] for item in decision_tree_scores[penalty_func]]))\n",
    "\n",
    "    plt.plot(x, [item['total'] for item in alg1_scores[penalty_func]], label='alg1', c=colors[0])\n",
    "    plt.plot(x, [item['total'] for item in linear_regression_scores[penalty_func]], label='linear reg', c=colors[1])\n",
    "    plt.plot(x, [item['total'] for item in decision_tree_scores[penalty_func]], label='decision tree', c=colors[2])\n",
    "    \n",
    "    \n",
    "    plt.xlabel('counter')\n",
    "    plt.ylabel('MSE')\n",
    "    plt.legend(loc='best')\n",
    "    plt.yscale(\"log\") \n",
    "    plt.title('Penalty function : %s' % penalty_func)\n",
    "    plt.show()\n",
    "    plt.close()"
   ]
  },
  {
   "cell_type": "markdown",
   "metadata": {},
   "source": [
    "Plot the MSE with respect to the different noise standard deviations (0.01, 0.1, 1.0) for each penalty function"
   ]
  },
  {
   "cell_type": "code",
   "execution_count": 49,
   "metadata": {},
   "outputs": [
    {
     "name": "stdout",
     "output_type": "stream",
     "text": [
      "penalty_func: norm1\n",
      "noise 0.01\n",
      " MSEs: {0.01: 0.00010446079606213207, 0.1: 0.0004136859851371596, 0.2: 0.13423525941892883, 0.4: 1.7780979730843705, 0.6: 1.7970991610150122}\n",
      "noise 0.1\n",
      " MSEs: {0.01: 0.009514271962054647, 0.1: 0.009069687552311597, 0.2: 0.25188428213307634, 0.4: 1.6944465992956488, 0.6: 1.6466163044291775}\n",
      "noise 1.0\n",
      " MSEs: {0.01: 0.812694878915827, 0.1: 0.7552418042782298, 0.2: 1.0122169524960651, 0.4: 2.4317105060759676, 0.6: 2.5243536368235087}\n"
     ]
    },
    {
     "data": {
      "image/png": "[encoded data removed]",
      "text/plain": [
       "<Figure size 432x288 with 1 Axes>"
      ]
     },
     "metadata": {
      "needs_background": "light"
     },
     "output_type": "display_data"
    },
    {
     "name": "stdout",
     "output_type": "stream",
     "text": [
      "penalty_func: norm2\n",
      "noise 0.01\n",
      " MSEs: {0.01: 8.852951925575336e-05, 0.1: 0.00039431064709075987, 0.2: 0.33540448526828187, 0.4: 1.697706400444692, 0.6: 1.6124836978929813}\n",
      "noise 0.1\n",
      " MSEs: {0.01: 0.00984184629690409, 0.1: 0.008852300040641147, 0.2: 0.3382572405661616, 0.4: 1.7468589931857976, 0.6: 1.5540142838732336}\n",
      "noise 1.0\n",
      " MSEs: {0.01: 0.8908107493078223, 0.1: 0.8900129669604467, 0.2: 1.4992930882090103, 0.4: 2.5588391718724193, 0.6: 2.4071193540203675}\n"
     ]
    },
    {
     "data": {
      "image/png": "[encoded data removed]",
      "text/plain": [
       "<Figure size 432x288 with 1 Axes>"
      ]
     },
     "metadata": {
      "needs_background": "light"
     },
     "output_type": "display_data"
    },
    {
     "name": "stdout",
     "output_type": "stream",
     "text": [
      "penalty_func: mocha\n",
      "noise 0.01\n",
      " MSEs: {0.01: 0.03099544975112268, 0.1: 0.3999066252954883, 0.2: 0.8958652343590581, 0.4: 1.3873985588175546, 0.6: 1.8607361126365938}\n",
      "noise 0.1\n",
      " MSEs: {0.01: 0.036721993694049875, 0.1: 0.3791268748681792, 0.2: 0.8482675503522247, 0.4: 1.2338114410377319, 0.6: 1.8448889626873601}\n",
      "noise 1.0\n",
      " MSEs: {0.01: 0.7706275897990444, 0.1: 1.068816092578577, 0.2: 1.6355405296455188, 0.4: 2.17334340320473, 0.6: 3.160691237066973}\n"
     ]
    },
    {
     "data": {
      "image/png": "[encoded data removed]",
      "text/plain": [
       "<Figure size 432x288 with 1 Axes>"
      ]
     },
     "metadata": {
      "needs_background": "light"
     },
     "output_type": "display_data"
    }
   ],
   "source": [
    "lambda_lasso = 0.01\n",
    "sampling_ratio = 0.6\n",
    "pouts = [0.01, 0.1, 0.2, 0.4, 0.6]\n",
    "colors = ['steelblue', 'darkorange', 'green']\n",
    "\n",
    "for penalty_func in PENALTY_FUNCS:\n",
    "    print('penalty_func:', penalty_func)\n",
    "\n",
    "    for i, noise in enumerate([0.01, 0.1, 1.0]):\n",
    "        MSEs = {}\n",
    "        \n",
    "        for pout in pouts:\n",
    "\n",
    "            B, weight_vec, true_labels, datapoints = get_sbm_2blocks_data(pin=0.5, pout=pout, noise_sd=noise, is_torch_model=False)\n",
    "            E, N = B.shape\n",
    "\n",
    "            samplingset = random.sample([i for i in range(N)], k=int(sampling_ratio * N))\n",
    "\n",
    "            _, predicted_w = algorithm_1(K, B, weight_vec, datapoints, true_labels, samplingset, lambda_lasso, penalty_func)\n",
    "\n",
    "            alg1_score, _, _ = get_scores(datapoints, predicted_w, samplingset)\n",
    "            MSEs[pout] = alg1_score['total']\n",
    "\n",
    "        plt.plot(list(MSEs.keys()), list(MSEs.values()), label='noise=' + str(noise), c=colors[i])\n",
    "\n",
    "        print('noise', noise)\n",
    "        print(' MSEs:', MSEs)\n",
    "\n",
    "    plt.xlabel('p_out')\n",
    "    plt.ylabel('MSE')\n",
    "    plt.legend(loc='best')\n",
    "    plt.title('Penalty function : %s' % penalty_func)\n",
    "    plt.show()\n",
    "    plt.close()"
   ]
  },
  {
   "cell_type": "markdown",
   "metadata": {},
   "source": [
    "Plot the MSE with respect to the different sampling ratios (0.2, 0.4, 0.6) for each penalty function"
   ]
  },
  {
   "cell_type": "code",
   "execution_count": 50,
   "metadata": {},
   "outputs": [
    {
     "name": "stdout",
     "output_type": "stream",
     "text": [
      "penalty_func: norm1\n",
      "M: 0.2\n",
      "MSE: {0.01: 0.08817483457716782, 0.1: 3.2333361958561886, 0.2: 2.9964642936393635, 0.4: 3.341538569570705, 0.6: 3.512400889249914}\n",
      "M: 0.4\n",
      "MSE: {0.01: 6.969388780714365e-06, 0.1: 0.09418007837773919, 0.2: 2.6110262071524306, 0.4: 2.5761426092581416, 0.6: 2.4783432439992183}\n",
      "M: 0.6\n",
      "MSE: {0.01: 2.7450821008731292e-06, 0.1: 0.00037251152669965905, 0.2: 0.1627736540283068, 0.4: 1.5880900516771355, 0.6: 1.8377818371707666}\n"
     ]
    },
    {
     "data": {
      "image/png": "[encoded data removed]",
      "text/plain": [
       "<Figure size 432x288 with 1 Axes>"
      ]
     },
     "metadata": {
      "needs_background": "light"
     },
     "output_type": "display_data"
    },
    {
     "name": "stdout",
     "output_type": "stream",
     "text": [
      "penalty_func: norm2\n",
      "M: 0.2\n",
      "MSE: {0.01: 0.759291450630424, 0.1: 3.7453345419201733, 0.2: 4.227589354361104, 0.4: 3.9163036369810387, 0.6: 3.8426062338180538}\n",
      "M: 0.4\n",
      "MSE: {0.01: 8.677840624528721e-06, 0.1: 0.35977408019457285, 0.2: 2.259892502176516, 0.4: 2.418814645477652, 0.6: 2.5239011341649027}\n",
      "M: 0.6\n",
      "MSE: {0.01: 3.2546787751211136e-06, 0.1: 0.00023747001905297425, 0.2: 0.2590667125646978, 0.4: 1.744914291928336, 0.6: 1.7683381703683718}\n"
     ]
    },
    {
     "data": {
      "image/png": "[encoded data removed]",
      "text/plain": [
       "<Figure size 432x288 with 1 Axes>"
      ]
     },
     "metadata": {
      "needs_background": "light"
     },
     "output_type": "display_data"
    },
    {
     "name": "stdout",
     "output_type": "stream",
     "text": [
      "penalty_func: mocha\n",
      "M: 0.2\n",
      "MSE: {0.01: 1.069138666814887, 0.1: 2.307271287000825, 0.2: 2.9870202163553783, 0.4: 3.6401021671305713, 0.6: 4.197825032678631}\n",
      "M: 0.4\n",
      "MSE: {0.01: 0.1660842917127419, 0.1: 0.8704837393953474, 0.2: 1.7114373324763377, 0.4: 2.4194277766654486, 0.6: 2.889420356078662}\n",
      "M: 0.6\n",
      "MSE: {0.01: 0.026685040068707845, 0.1: 0.3717133467741436, 0.2: 0.756089811585894, 0.4: 1.2791841101604455, 0.6: 1.943967348721649}\n"
     ]
    },
    {
     "data": {
      "image/png": "[encoded data removed]",
      "text/plain": [
       "<Figure size 432x288 with 1 Axes>"
      ]
     },
     "metadata": {
      "needs_background": "light"
     },
     "output_type": "display_data"
    }
   ],
   "source": [
    "lambda_lasso = 0.01\n",
    "pouts = [0.01, 0.1, 0.2, 0.4, 0.6]\n",
    "colors = ['steelblue', 'darkorange', 'green']\n",
    "\n",
    "for penalty_func in PENALTY_FUNCS:\n",
    "    print('penalty_func:', penalty_func)\n",
    "\n",
    "    for i, sampling_ratio in enumerate([0.2, 0.4, 0.6]):\n",
    "        MSEs = {}\n",
    "        for pout in pouts:\n",
    "        \n",
    "            B, weight_vec, true_labels, datapoints = get_sbm_2blocks_data(pin=0.5, pout=pout, is_torch_model=False)\n",
    "            E, N = B.shape\n",
    "        \n",
    "            samplingset = random.sample([i for i in range(N)], k=int(sampling_ratio * N))\n",
    "\n",
    "            _, predicted_w = algorithm_1(K, B, weight_vec, datapoints, true_labels, samplingset, lambda_lasso, penalty_func)\n",
    "\n",
    "            alg1_score, _, _ = get_scores(datapoints, predicted_w, samplingset)\n",
    "            MSEs[pout] = alg1_score['total']\n",
    "        \n",
    "        plt.plot(list(MSEs.keys()), list(MSEs.values()), label='M=' + str(sampling_ratio), c=colors[i])\n",
    "\n",
    "        print('M:', sampling_ratio)\n",
    "        print('MSE:', MSEs)\n",
    "    \n",
    "    plt.xlabel('p_out')\n",
    "    plt.ylabel('MSE')\n",
    "    plt.legend(loc='best')\n",
    "    plt.title('Penalty function : %s' % penalty_func)\n",
    "    plt.show()\n",
    "    plt.close()\n",
    "    "
   ]
  },
  {
   "cell_type": "markdown",
   "metadata": {},
   "source": [
    "### SBM with Five Clusters"
   ]
  },
  {
   "cell_type": "markdown",
   "metadata": {},
   "source": [
    "The size of the clusters are {70, 10, 50, 100, 150} \n",
    "with random weight vectors $\\in R^2$ selected uniformly from $[0,1)$. \n",
    "We run Algorithm 1 with a fixed `pin = 0.5` and `pout = 0.001`, \n",
    "and a fixed number of 1000 iterations. Each node $i \\in V$ represents a local dataset consisting of feature vectors $x^{(i,1)}, ... , x^{(i,5)} \\in R^2$.\n",
    "The feature vectors are i.i.d. realizations of a standard Gaussian random vector x ~ N(0,I).\n",
    "The labels $y_1^{(i)}, . . . , y_5^{(i)} \\in R$ for each node $i \\in V$\n",
    "are generated according to the linear model $y_r^{(i)} = (x^{(i, r)})^T w^{(i)} + \\epsilon$, with $\\epsilon = 0$. The tuning parameter $\\lambda$ in algorithm1 \n",
    "is manually chosen, guided by the resulting MSE, as $\\lambda=0.01$ . \n",
    "We assume that labels $y^{(i)}$ are available for 20% of the graph nodes.\n",
    "as the result we compare the MSE of Algorithm 1 with plain linear regression \n",
    "and decision tree regression, please run "
   ]
  },
  {
   "cell_type": "code",
   "execution_count": 51,
   "metadata": {},
   "outputs": [],
   "source": [
    "from graspy.simulations import sbm\n",
    "\n",
    "\n",
    "def get_sbm_5blocks_data(m=5, n=2, pin=0.5, pout=0.01, noise_sd=0, is_torch_model=True):\n",
    "    '''\n",
    "    :param m, n: shape of features vector for each node\n",
    "    :param pin: the probability of edges inside each cluster\n",
    "    :param pout: the probability of edges between the clusters\n",
    "    :param noise_sd: the standard deviation of the noise for calculating the labels\n",
    "    \n",
    "    :return B: adjacency matrix of the graph\n",
    "    :return weight_vec: a list containing the edges's weights of the graph\n",
    "    :return true_labels: a list containing the true labels of the nodes\n",
    "    :return datapoints: a dictionary containing the data of each node in the graph needed for the algorithm 1 \n",
    "    '''\n",
    "    cluster_sizes = [70, 10, 50, 100, 150]\n",
    "    \n",
    "    p = [[pin if i==j else pout for i in range(len(cluster_sizes))] for j in range(len(cluster_sizes))]\n",
    "\n",
    "    # generate graph G which is a SBM wich 2 clusters\n",
    "    G = sbm(n=cluster_sizes, p=p)\n",
    "    '''\n",
    "    G: generated SBM graph with 2 clusters\n",
    "    ''' \n",
    "    \n",
    "    # define weight vectors for each cluster of the graph\n",
    "    W = []\n",
    "    for i in range(len(cluster_sizes)):\n",
    "        # the weigh vector for the ith cluster\n",
    "        W.append(np.random.random(n))\n",
    "         \n",
    "    \n",
    "    \n",
    "    return get_sbm_data(cluster_sizes, G, W, m, n, noise_sd, is_torch_model)\n",
    "\n",
    "\n"
   ]
  },
  {
   "cell_type": "code",
   "execution_count": 56,
   "metadata": {},
   "outputs": [
    {
     "name": "stdout",
     "output_type": "stream",
     "text": [
      "penalty function: norm1\n",
      "algorithm 1: \n",
      " mean train MSE: 0.00013252605624761968 \n",
      " mean test MSE: 0.0003026245643542046\n",
      "linear regression: \n",
      " mean train MSE: 0.1358304344142849 \n",
      " mean test MSE: 0.14311234708160706\n",
      "decision tree: \n",
      " mean train MSE: 0.3562283686549971 \n",
      " mean test MSE: 0.39432293910417693\n"
     ]
    },
    {
     "data": {
      "image/png": "[encoded data removed]",
      "text/plain": [
       "<Figure size 432x288 with 1 Axes>"
      ]
     },
     "metadata": {
      "needs_background": "light"
     },
     "output_type": "display_data"
    },
    {
     "name": "stdout",
     "output_type": "stream",
     "text": [
      "penalty function: norm2\n",
      "algorithm 1: \n",
      " mean train MSE: 5.209558759040723e-05 \n",
      " mean test MSE: 8.993915805717437e-05\n",
      "linear regression: \n",
      " mean train MSE: 0.1358304344142849 \n",
      " mean test MSE: 0.14311234708160706\n",
      "decision tree: \n",
      " mean train MSE: 0.3562283686549971 \n",
      " mean test MSE: 0.3943229391041769\n"
     ]
    },
    {
     "data": {
      "image/png": "[encoded data removed]",
      "text/plain": [
       "<Figure size 432x288 with 1 Axes>"
      ]
     },
     "metadata": {
      "needs_background": "light"
     },
     "output_type": "display_data"
    },
    {
     "name": "stdout",
     "output_type": "stream",
     "text": [
      "penalty function: mocha\n",
      "algorithm 1: \n",
      " mean train MSE: 5.69473347335327e-06 \n",
      " mean test MSE: 0.0009549080450732394\n",
      "linear regression: \n",
      " mean train MSE: 0.1358304344142849 \n",
      " mean test MSE: 0.14311234708160706\n",
      "decision tree: \n",
      " mean train MSE: 0.35622836865499696 \n",
      " mean test MSE: 0.3943229391041769\n"
     ]
    },
    {
     "data": {
      "image/png": "[encoded data removed]",
      "text/plain": [
       "<Figure size 432x288 with 1 Axes>"
      ]
     },
     "metadata": {
      "needs_background": "light"
     },
     "output_type": "display_data"
    }
   ],
   "source": [
    "import random \n",
    "\n",
    "    \n",
    "PENALTY_FUNCS = ['norm1', 'norm2', 'mocha']\n",
    "\n",
    "lambda_lasso = 0.05\n",
    "\n",
    "K = 1000\n",
    "\n",
    "B, weight_vec, true_labels, datapoints = get_sbm_5blocks_data(pin=0.5, pout=0.001, is_torch_model=False)\n",
    "E, N = B.shape\n",
    "\n",
    "alg1_scores = defaultdict(list)\n",
    "linear_regression_scores = defaultdict(list)\n",
    "decision_tree_scores = defaultdict(list)\n",
    "\n",
    "num_tries = 5\n",
    "for i in range(num_tries):\n",
    "    samplingset = random.sample([i for i in range(N)], k=int(0.2* N))\n",
    "\n",
    "    for penalty_func in PENALTY_FUNCS:\n",
    "\n",
    "        _, predicted_w = algorithm_1(K, B, weight_vec, datapoints, true_labels, samplingset, lambda_lasso, penalty_func)\n",
    "\n",
    "        alg1_score, linear_regression_score, decision_tree_score = get_scores(datapoints, predicted_w, samplingset)\n",
    "        \n",
    "        alg1_scores[penalty_func].append(alg1_score)\n",
    "        linear_regression_scores[penalty_func].append(linear_regression_score)\n",
    "        decision_tree_scores[penalty_func].append(decision_tree_score)\n",
    "        \n",
    "        \n",
    "        \n",
    "colors = ['steelblue', 'darkorange', 'green']\n",
    "x = [i for i in range(num_tries)]\n",
    "for penalty_func in PENALTY_FUNCS:\n",
    "    \n",
    "    print('penalty function:', penalty_func)\n",
    "    \n",
    "    print('algorithm 1:', \n",
    "          '\\n mean train MSE:', np.mean([item['train'] for item in alg1_scores[penalty_func]]),\n",
    "          '\\n mean test MSE:', np.mean([item['test'] for item in alg1_scores[penalty_func]]))\n",
    "    \n",
    "    print('linear regression:', \n",
    "          '\\n mean train MSE:', np.mean([item['train'] for item in linear_regression_scores[penalty_func]]),\n",
    "          '\\n mean test MSE:', np.mean([item['test'] for item in linear_regression_scores[penalty_func]]))\n",
    "    \n",
    "    print('decision tree:', \n",
    "          '\\n mean train MSE:', np.mean([item['train'] for item in decision_tree_scores[penalty_func]]),\n",
    "          '\\n mean test MSE:', np.mean([item['test'] for item in decision_tree_scores[penalty_func]]))\n",
    "\n",
    "    plt.plot(x, [item['total'] for item in alg1_scores[penalty_func]], label='alg1', c=colors[0])\n",
    "    plt.plot(x, [item['total'] for item in linear_regression_scores[penalty_func]], label='linear reg', c=colors[1])\n",
    "    plt.plot(x, [item['total'] for item in decision_tree_scores[penalty_func]], label='decision tree', c=colors[2])\n",
    "    \n",
    "    \n",
    "    plt.xlabel('counter')\n",
    "    plt.ylabel('MSE')\n",
    "    plt.legend(loc='best')\n",
    "    plt.yscale(\"log\") \n",
    "    plt.title('Penalty function : %s' % penalty_func)\n",
    "    plt.show()\n",
    "    plt.close()\n",
    "    "
   ]
  },
  {
   "cell_type": "code",
   "execution_count": null,
   "metadata": {},
   "outputs": [],
   "source": []
  }
 ],
 "metadata": {
  "kernelspec": {
   "display_name": "Python 3",
   "language": "python",
   "name": "python3"
  },
  "language_info": {
   "codemirror_mode": {
    "name": "ipython",
    "version": 3
   },
   "file_extension": ".py",
   "mimetype": "text/x-python",
   "name": "python",
   "nbconvert_exporter": "python",
   "pygments_lexer": "ipython3",
   "version": "3.7.7"
  }
 },
 "nbformat": 4,
 "nbformat_minor": 4
}
