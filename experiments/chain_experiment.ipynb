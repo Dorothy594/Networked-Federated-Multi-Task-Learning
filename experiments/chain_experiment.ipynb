{
 "cells": [
  {
   "cell_type": "code",
   "execution_count": 1,
   "metadata": {},
   "outputs": [
    {
     "name": "stdout",
     "output_type": "stream",
     "text": [
      "/Users/sarchey1/paper/FederatedLearning\n"
     ]
    }
   ],
   "source": [
    "%cd ../"
   ]
  },
  {
   "cell_type": "code",
   "execution_count": 2,
   "metadata": {},
   "outputs": [],
   "source": [
    "import warnings\n",
    "warnings.simplefilter('ignore')"
   ]
  },
  {
   "cell_type": "markdown",
   "metadata": {},
   "source": [
    "## Stochastic Block Model Experiment"
   ]
  },
  {
   "cell_type": "markdown",
   "metadata": {},
   "source": [
    "Before geting into the experiment details, let's review algorithm 1 and the primal and dual updates."
   ]
  },
  {
   "cell_type": "markdown",
   "metadata": {},
   "source": [
    "### Algorithm 1"
   ]
  },
  {
   "cell_type": "markdown",
   "metadata": {},
   "source": [
    "![title](../algorithm1.png)"
   ]
  },
  {
   "cell_type": "code",
   "execution_count": 3,
   "metadata": {},
   "outputs": [],
   "source": [
    "# %load algorithm/main.py\n",
    "from sklearn.metrics import mean_squared_error\n",
    "\n",
    "# from algorithm.penalty import *\n",
    "\n",
    "\n",
    "def algorithm_1(K, D, weight_vec, datapoints, true_labels, samplingset, lambda_lasso, penalty_func_name='norm1', calculate_score=False):\n",
    "    '''\n",
    "    :param K: the number of iterations\n",
    "    :param D: the block incidence matrix\n",
    "    :param weight_vec: a list containing the edges's weights of the graph\n",
    "    :param datapoints: a dictionary containing the data of each node in the graph needed for the algorithm 1\n",
    "    :param true_labels: a list containing the true labels of the nodes\n",
    "    :param samplingset: the sampling set\n",
    "    :param lambda_lasso: the parameter lambda\n",
    "    :param penalty_func_name: the name of the penalty function used in the algorithm\n",
    "\n",
    "    :return iteration_scores: the mean squared error of the predicted weight vectors in each iteration\n",
    "    :return new_w: the predicted weigh vectors for each node\n",
    "    '''\n",
    "\n",
    "    Sigma = np.diag(np.full(weight_vec.shape, 0.9 / 2))\n",
    "    '''\n",
    "    Sigma: the block diagonal matrix Sigma\n",
    "    '''\n",
    "    T_matrix = np.diag(np.array((1.0 / (np.sum(abs(D), 0)))).ravel())\n",
    "    '''\n",
    "    T_matrix: the block diagonal matrix T\n",
    "    '''\n",
    "\n",
    "    if np.linalg.norm(np.dot(Sigma ** 0.5, D).dot(T_matrix ** 0.5), 2) > 1:\n",
    "        print ('product norm', np.linalg.norm(np.dot(Sigma ** 0.5, D).dot(T_matrix ** 0.5), 2))\n",
    "\n",
    "    E, N = D.shape\n",
    "    m, n = datapoints[0]['features'].shape\n",
    "\n",
    "    # define the penalty function\n",
    "    if penalty_func_name == 'norm1':\n",
    "        penalty_func = Norm1Pelanty(lambda_lasso, weight_vec, Sigma, n)\n",
    "\n",
    "    elif penalty_func_name == 'norm2':\n",
    "        penalty_func = Norm2Pelanty(lambda_lasso, weight_vec, Sigma, n)\n",
    "\n",
    "    elif penalty_func_name == 'mocha':\n",
    "        penalty_func = MOCHAPelanty(lambda_lasso, weight_vec, Sigma, n)\n",
    "    elif penalty_func_name == 'sq_norm2':\n",
    "        penalty_func = SquaredNorm2Pelanty(lambda_lasso, weight_vec, Sigma, n)\n",
    "\n",
    "    else:\n",
    "        raise Exception('Invalid penalty name')\n",
    "\n",
    "    # starting algorithm 1\n",
    "\n",
    "    new_w = np.array([np.zeros(n) for i in range(N)])\n",
    "    '''\n",
    "    new_w: the primal variable of the algorithm 1\n",
    "    '''\n",
    "    new_u = np.array([np.zeros(n) for i in range(E)])\n",
    "    '''\n",
    "    new_u: the dual variable of the algorithm 1\n",
    "    '''\n",
    "\n",
    "    iteration_scores = []\n",
    "    for iterk in range(K):\n",
    "        # if iterk % 100 == 0:\n",
    "        #     print ('iter:', iterk)\n",
    "        prev_w = np.copy(new_w)\n",
    "\n",
    "        # algorithm 1, line 2\n",
    "        hat_w = new_w - np.dot(T_matrix, np.dot(D.T, new_u))\n",
    "\n",
    "        for i in range(N):\n",
    "            if i in samplingset:  # algorithm 1, line 6\n",
    "\n",
    "                optimizer = datapoints[i]['optimizer']\n",
    "                new_w[i] = optimizer.optimize(datapoints[i]['features'], datapoints[i]['label'], hat_w[i], datapoints[i]['degree'])\n",
    "\n",
    "            else:\n",
    "                new_w[i] = hat_w[i]\n",
    "\n",
    "        # algorithm 1, line 9\n",
    "        tilde_w = 2 * new_w - prev_w\n",
    "        new_u = new_u + np.dot(Sigma, np.dot(D, tilde_w))\n",
    "\n",
    "        # algorithm 1, line 10\n",
    "        new_u = penalty_func.update(new_u)\n",
    "\n",
    "        # calculate the MSE of the predicted weight vectors\n",
    "        if calculate_score:\n",
    "            Y_pred = []\n",
    "            for i in range(N):\n",
    "                Y_pred.append(np.dot(datapoints[i]['features'], new_w[i]))\n",
    "\n",
    "            iteration_scores.append(mean_squared_error(true_labels.reshape(N, m), Y_pred))\n",
    "\n",
    "    # print (np.max(abs(new_w - prev_w)))\n",
    "\n",
    "    return iteration_scores, new_w\n"
   ]
  },
  {
   "cell_type": "markdown",
   "metadata": {},
   "source": [
    "### FedAvg"
   ]
  },
  {
   "cell_type": "code",
   "execution_count": 4,
   "metadata": {},
   "outputs": [],
   "source": [
    "from sklearn.metrics import mean_squared_error\n",
    "\n",
    "# from algorithm.penalty import *\n",
    "\n",
    "\n",
    "def fedAvg(K, datapoints, true_labels, samplingset, calculate_score=False):\n",
    "    '''\n",
    "    :param K: the number of iterations\n",
    "    :param datapoints: a dictionary containing the data of each node in the graph needed for the algorithm 1\n",
    "    :param true_labels: a list containing the true labels of the nodes\n",
    "    :param penalty_func_name: the name of the penalty function used in the algorithm\n",
    "\n",
    "    :return iteration_scores: the mean squared error of the predicted weight vectors in each iteration\n",
    "    :return new_w: the predicted weigh vectors for each node\n",
    "    '''\n",
    "\n",
    "    N = len(datapoints)\n",
    "    m, n = datapoints[0]['features'].shape\n",
    "\n",
    "    new_w = np.array([np.zeros(n) for i in range(N)])\n",
    "    '''\n",
    "    new_w: the weights\n",
    "    '''\n",
    "\n",
    "    iteration_scores = []\n",
    "    for iterk in range(K):\n",
    "        for i in samplingset:\n",
    "            optimizer = datapoints[i]['optimizer']\n",
    "            new_w[i] = optimizer.optimize(\n",
    "                datapoints[i]['features'], \n",
    "                datapoints[i]['label'], \n",
    "                new_w[i], \n",
    "                datapoints[i]['degree']\n",
    "            )\n",
    "        new_w[:, :] = np.mean(new_w[samplingset], axis=0)\n",
    "\n",
    "        # calculate the MSE of the predicted weight vectors\n",
    "        if calculate_score:\n",
    "            Y_pred = []\n",
    "            for i in range(N):\n",
    "                Y_pred.append(np.dot(datapoints[i]['features'], new_w[i]))\n",
    "\n",
    "            iteration_scores.append(mean_squared_error(true_labels.reshape(N, m), Y_pred))\n",
    "\n",
    "    # print (np.max(abs(new_w - prev_w)))\n",
    "\n",
    "    return iteration_scores, new_w\n",
    "\n"
   ]
  },
  {
   "cell_type": "markdown",
   "metadata": {},
   "source": [
    "### Primal Update "
   ]
  },
  {
   "cell_type": "markdown",
   "metadata": {},
   "source": [
    "As you see in the algorithm picture, the primal update needs a optimizer operator for the sampling set (line 6). We have implemented the optimizers discussed in the paper, both the logistic loss and squared error loss optimizers implementations with pytorch is available, also we have implemented the squared error loss optimizer using the fixed point equation in the `Networked Linear Regression` section of the paper.  "
   ]
  },
  {
   "cell_type": "code",
   "execution_count": 5,
   "metadata": {},
   "outputs": [],
   "source": [
    "# %load algorithm/optimizer.py \n",
    "import torch\n",
    "import abc\n",
    "import numpy as np\n",
    "\n",
    "from abc import ABC\n",
    "\n",
    "\n",
    "# The linear model which is implemented by pytorch\n",
    "class TorchLinearModel(torch.nn.Module):\n",
    "    def __init__(self, n):\n",
    "        super(TorchLinearModel, self).__init__()\n",
    "        self.linear = torch.nn.Linear(n, 1, bias=False)\n",
    "\n",
    "    def forward(self, x):\n",
    "        y_pred = self.linear(x)\n",
    "        return y_pred\n",
    "\n",
    "\n",
    "# The abstract optimizer model which should have model, optimizer, and criterion as the input\n",
    "class Optimizer(ABC):\n",
    "    def __init__(self, model, optimizer, criterion):\n",
    "        self.model = model\n",
    "        self.optimizer = optimizer\n",
    "        self.criterion = criterion\n",
    "\n",
    "    @abc.abstractmethod\n",
    "    def optimize(self, x_data, y_data, old_weight, regularizer_term):\n",
    "        torch_old_weight = torch.from_numpy(np.array(old_weight, dtype=np.float32))\n",
    "        self.model.linear.weight.data = torch_old_weight\n",
    "        for iterinner in range(40):\n",
    "            self.optimizer.zero_grad()\n",
    "            y_pred = self.model(x_data)\n",
    "            loss1 = self.criterion(y_pred, y_data)\n",
    "            loss2 = 1 / (2 * regularizer_term) * torch.mean((self.model.linear.weight - torch_old_weight) ** 2)  # + 10000*torch.mean((model.linear.bias+0.5)**2)#model.linear.weight.norm(2)\n",
    "            loss = loss1 + loss2\n",
    "            loss.backward()\n",
    "            self.optimizer.step()\n",
    "\n",
    "        return self.model.linear.weight.data.numpy()\n",
    "\n",
    "\n",
    "# The linear model in Networked Linear Regression section of the paper\n",
    "class LinearModel:\n",
    "    def __init__(self, degree, features, label):\n",
    "        mtx1 = 2 * degree * np.dot(features.T, features).astype('float64')\n",
    "        mtx1 += 1 * np.eye(mtx1.shape[0])\n",
    "        mtx1_inv = np.linalg.inv(mtx1)\n",
    "\n",
    "        mtx2 = 2 * degree * np.dot(features.T, label).T\n",
    "\n",
    "        self.mtx1_inv = mtx1_inv\n",
    "        self.mtx2 = mtx2\n",
    "\n",
    "    def forward(self, x):\n",
    "        mtx2 = x + self.mtx2\n",
    "        mtx_inv = self.mtx1_inv\n",
    "\n",
    "        return np.dot(mtx_inv, mtx2)\n",
    "\n",
    "\n",
    "# The Linear optimizer in Networked Linear Regression section of the paper\n",
    "class LinearOptimizer(Optimizer):\n",
    "\n",
    "    def __init__(self, model):\n",
    "        super(LinearOptimizer, self).__init__(model, None, None)\n",
    "\n",
    "    def optimize(self, x_data, y_data, old_weight, regularizer_term):\n",
    "        return self.model.forward(old_weight)\n",
    "\n",
    "\n",
    "# The Linear optimizer model which is implemented by pytorch\n",
    "class TorchLinearOptimizer(Optimizer):\n",
    "    def __init__(self, model):\n",
    "        criterion = torch.nn.MSELoss(reduction='mean')\n",
    "        optimizer = torch.optim.RMSprop(model.parameters())\n",
    "        super(TorchLinearOptimizer, self).__init__(model, optimizer, criterion)\n",
    "\n",
    "    def optimize(self, x_data, y_data, old_weight, regularizer_term):\n",
    "        return super(TorchLinearOptimizer, self).optimize(x_data, y_data, old_weight, regularizer_term)\n",
    "\n",
    "\n",
    "# The Logistic optimizer model which is implemented by pytorch\n",
    "class TorchLogisticOptimizer(Optimizer):\n",
    "    def __init__(self, model):\n",
    "        criterion = torch.nn.BCELoss(reduction='mean')\n",
    "        optimizer = torch.optim.RMSprop(model.parameters())\n",
    "        super(TorchLogisticOptimizer, self).__init__(model, optimizer, criterion)\n",
    "\n",
    "    def optimize(self, x_data, y_data, old_weight, regularizer_term):\n",
    "        return super(TorchLogisticOptimizer, self).optimize(x_data, y_data, old_weight, regularizer_term)\n"
   ]
  },
  {
   "cell_type": "markdown",
   "metadata": {},
   "source": [
    "### Dual Update "
   ]
  },
  {
   "cell_type": "markdown",
   "metadata": {},
   "source": [
    "As mentioned in the paper, the dual update has a penalty function(line 10) which is either norm1, norm2, or mocha."
   ]
  },
  {
   "cell_type": "code",
   "execution_count": 6,
   "metadata": {},
   "outputs": [],
   "source": [
    "# %load algorithm/penalty.py\n",
    "import abc\n",
    "import numpy as np\n",
    "\n",
    "from abc import ABC\n",
    "\n",
    "\n",
    "# The abstract penalty function which has a function update\n",
    "class Penalty(ABC):\n",
    "    def __init__(self, lambda_lasso, weight_vec, Sigma, n):\n",
    "        self.lambda_lasso = lambda_lasso\n",
    "        self.weight_vec = weight_vec\n",
    "        self.Sigma = Sigma\n",
    "\n",
    "    @abc.abstractmethod\n",
    "    def update(self, new_u):\n",
    "        pass\n",
    "\n",
    "\n",
    "# The norm2 penalty function\n",
    "class Norm2Pelanty(Penalty):\n",
    "    def __init__(self, lambda_lasso, weight_vec, Sigma, n):\n",
    "        super(Norm2Pelanty, self).__init__(lambda_lasso, weight_vec, Sigma, n)\n",
    "        self.limit = np.array(lambda_lasso * weight_vec)\n",
    "\n",
    "    def update(self, new_u):\n",
    "        normalized_u = np.where(np.linalg.norm(new_u, axis=1) >= self.limit)\n",
    "        new_u[normalized_u] = (new_u[normalized_u].T * self.limit[normalized_u] / np.linalg.norm(new_u[normalized_u], axis=1)).T\n",
    "        return new_u\n",
    "\n",
    "\n",
    "# The squared norm2 penalty function\n",
    "class SquaredNorm2Pelanty(Penalty):\n",
    "    def __init__(self, lambda_lasso, weight_vec, Sigma, n):\n",
    "        super(SquaredNorm2Pelanty, self).__init__(lambda_lasso, weight_vec, Sigma, n)\n",
    "        self.normalize_factor = 1 + np.dot(2 * self.Sigma, 1/(self.lambda_lasso * self.weight_vec))\n",
    "\n",
    "    def update(self, new_u):\n",
    "        for i in range(new_u.shape[1]):\n",
    "            new_u[:, i] /= self.normalize_factor\n",
    "\n",
    "        return new_u\n",
    "    \n",
    "    \n",
    "\n",
    "# The MOCHA penalty function\n",
    "class MOCHAPelanty(Penalty):\n",
    "    def __init__(self, lambda_lasso, weight_vec, Sigma, n):\n",
    "        super(MOCHAPelanty, self).__init__(lambda_lasso, weight_vec, Sigma, n)\n",
    "        self.normalize_factor = 1 + np.dot(self.Sigma, 1/(self.lambda_lasso * self.weight_vec))\n",
    "\n",
    "    def update(self, new_u):\n",
    "        for i in range(new_u.shape[1]):\n",
    "            new_u[:, i] /= self.normalize_factor\n",
    "\n",
    "        return new_u\n",
    "\n",
    "\n",
    "# The norm1 penalty function\n",
    "class Norm1Pelanty(Penalty):\n",
    "    def __init__(self, lambda_lasso, weight_vec, Sigma, n):\n",
    "        super(Norm1Pelanty, self).__init__(lambda_lasso, weight_vec, Sigma, n)\n",
    "        self.limit = np.array([np.zeros(n) for i in range(len(weight_vec))])\n",
    "        for i in range(n):\n",
    "            self.limit[:, i] = lambda_lasso * weight_vec\n",
    "\n",
    "    def update(self, new_u):\n",
    "        normalized_u = np.where(abs(new_u) >= self.limit)\n",
    "        new_u[normalized_u] = self.limit[normalized_u] * new_u[normalized_u] / abs(new_u[normalized_u])\n",
    "        return new_u\n"
   ]
  },
  {
   "cell_type": "markdown",
   "metadata": {},
   "source": [
    "## Create Chain Graph"
   ]
  },
  {
   "cell_type": "markdown",
   "metadata": {},
   "source": [
    "Each node $i \\in V$ represents a local dataset consisting of $m$ feature vectors $x^{(i,1)}, ... , x^{(i,m)} \\in R^n$. The feature vectors are i.i.d. realizations of a standard Gaussian random vector x ∼ N(0,I). The labels $y_1^{(i)}, . . . , y_m^{(i)} \\in R$ of the nodes $i \\in V$ are generated according to the linear model $y_r^{(i)} = (x^{(i, r)})^T w^{(i)} + \\epsilon$, with $\\epsilon ∼ N(0,\\sigma)$. To learn the weight $w^{(i)}$ ,we apply Algorithm 1 to a training set M obtained by randomly selecting 40% of the nodes."
   ]
  },
  {
   "cell_type": "code",
   "execution_count": 7,
   "metadata": {},
   "outputs": [],
   "source": [
    "# from algorithm.optimizer import *\n",
    "from torch.autograd import Variable\n",
    "\n",
    "\n",
    "def get_chain_data(cluster_sizes, eps, W, m=5, n=2, noise_sd=0, is_torch_model=True):\n",
    "    '''\n",
    "    :param W: a list containing the weight vectors for each cluster\n",
    "    :param m, n: shape of features vector for each node\n",
    "    :param pin: the probability of edges inside each cluster\n",
    "    :param pout: the probability of edges between the clusters\n",
    "    :param noise_sd: the standard deviation of the noise for calculating the labels\n",
    "    \n",
    "    :return B: adjacency matrix of the graph\n",
    "    :return weight_vec: a list containing the edges's weights of the graph\n",
    "    :return true_labels: a list containing the true labels of the nodes\n",
    "    :return datapoints: a dictionary containing the data of each node in the graph needed for the algorithm 1 \n",
    "    '''\n",
    "\n",
    "    N = np.sum(cluster_sizes)\n",
    "    E = N-1\n",
    "    '''\n",
    "    N: total number of nodes\n",
    "    E: total number of edges\n",
    "    '''\n",
    "    \n",
    "    \n",
    "    # create B(adjacency matrix) and edges's weights vector(weight_vec) based on the graph G\n",
    "    B = np.zeros((E, N))\n",
    "    '''\n",
    "    B: adjacency matrix of the graph with the shape of E*N\n",
    "    '''\n",
    "    weight_vec = np.zeros(E)\n",
    "    '''\n",
    "    weight_vec: a list containing the edges's weights of the graph with the shape of E\n",
    "    '''\n",
    "    \n",
    "    cnt = 0\n",
    "    for i in range(E):\n",
    "        B[cnt, i] = 1\n",
    "        B[cnt, i+1] = -1\n",
    "\n",
    "        weight_vec[cnt] = 1\n",
    "        if i == cluster_sizes[0] - 1:\n",
    "            weight_vec[cnt] = eps\n",
    "        cnt += 1\n",
    "    \n",
    "    weight_vec = weight_vec[:cnt]\n",
    "    B = B[:cnt, :]\n",
    "    \n",
    "    # create the data of each node needed for the algorithm 1 \n",
    "    \n",
    "    node_degrees = np.array((1.0 / (np.sum(abs(B), 0)))).ravel()\n",
    "    '''\n",
    "    node_degrees: a list containing the nodes degree for the alg1 (1/N_i)\n",
    "    '''\n",
    "    \n",
    "    datapoints = {}\n",
    "    '''\n",
    "    datapoints: a dictionary containing the data of each node in the graph needed for the algorithm 1,\n",
    "    which are features, label, degree, and also the optimizer model for each node\n",
    "    '''\n",
    "    true_labels = []\n",
    "    '''\n",
    "    true_labels: the true labels for the nodes of the graph\n",
    "    '''\n",
    "    \n",
    "    cnt = 0\n",
    "    for i, cluster_size in enumerate(cluster_sizes):\n",
    "        for j in range(cluster_size):\n",
    "            features = np.random.normal(loc=0.0, scale=1.0, size=(m, n))\n",
    "            '''\n",
    "            features: the feature vector of node i which are i.i.d. realizations of a standard Gaussian random vector x~N(0,I)\n",
    "            '''\n",
    "            label = np.dot(features, W[i]) + np.random.normal(0,noise_sd)\n",
    "            '''\n",
    "            label: the label of the node i that is generated according to the linear model y = x^T w + e\n",
    "            '''\n",
    "            \n",
    "            true_labels.append(label)\n",
    "\n",
    "            if is_torch_model:\n",
    "                model = TorchLinearModel(n)\n",
    "                optimizer = TorchLinearOptimizer(model)\n",
    "                features = Variable(torch.from_numpy(features)).to(torch.float32)\n",
    "                label = Variable(torch.from_numpy(label)).to(torch.float32) \n",
    "\n",
    "            else:\n",
    "\n",
    "                model = LinearModel(node_degrees[i], features, label)\n",
    "                optimizer = LinearOptimizer(model)            \n",
    "            '''\n",
    "            model : the linear model for the node i \n",
    "            optimizer : the optimizer model for the node i \n",
    "            ''' \n",
    "            \n",
    "            datapoints[cnt] = {\n",
    "                'features': features,\n",
    "                'degree': node_degrees[cnt],\n",
    "                'w': W[i],\n",
    "                'label': label,\n",
    "                'optimizer': optimizer\n",
    "            }\n",
    "            cnt += 1\n",
    "\n",
    "    return B, weight_vec, np.array(true_labels), datapoints\n",
    "\n",
    "\n"
   ]
  },
  {
   "cell_type": "markdown",
   "metadata": {},
   "source": [
    "### Compare Results"
   ]
  },
  {
   "cell_type": "markdown",
   "metadata": {},
   "source": [
    "As the result we compare the MSE of Algorithm 1 with plain linear regression \n",
    "and decision tree regression"
   ]
  },
  {
   "cell_type": "code",
   "execution_count": 8,
   "metadata": {},
   "outputs": [],
   "source": [
    "# %load results/compare_results.py\n",
    "import numpy as np\n",
    "from sklearn.linear_model import LinearRegression\n",
    "from sklearn.tree import DecisionTreeRegressor\n",
    "from sklearn.metrics import mean_squared_error\n",
    "\n",
    "\n",
    "\n",
    "def get_algorithm1_w_MSE(datapoints, predicted_w, samplingset):\n",
    "    '''\n",
    "    :param datapoints:  a dictionary containing the data of each node in the graph needed for the algorithm 1\n",
    "    :param predicted_w: the predicted weigh vectors for each node\n",
    "    :param samplingset: the sampling set for the algorithm 1\n",
    "\n",
    "    :return alg1_MSE: the MSE of the algorithm 1 for all the nodes, the samplingset and other nodes (test set)\n",
    "    '''\n",
    "    not_samplingset = [i for i in range(len(datapoints)) if i not in samplingset]\n",
    "\n",
    "    true_w = []\n",
    "    for i in range(len(datapoints)):\n",
    "        true_w.append(datapoints[i]['w'])\n",
    "\n",
    "    true_w = np.array(true_w)\n",
    "\n",
    "    alg1_MSE = {'total': mean_squared_error(true_w, predicted_w),\n",
    "                'train': mean_squared_error(true_w[samplingset], predicted_w[samplingset]),\n",
    "                'test': mean_squared_error(true_w[not_samplingset], predicted_w[not_samplingset])}\n",
    "\n",
    "    return alg1_MSE\n",
    "\n",
    "\n",
    "def get_linear_regression_MSE(x, y, samplingset, not_samplingset):\n",
    "    '''\n",
    "    :param x: a list containing the features of the nodes\n",
    "    :param y: a list containing the labels of the nodes\n",
    "    :param samplingset: the training dataset\n",
    "    :param not_samplingset: the test dataset\n",
    "    :return linear_regression_MSE : the MSE of linear regression for all the nodes, the samplingset and other nodes (test set)\n",
    "    '''\n",
    "\n",
    "    model = LinearRegression().fit(x[samplingset], y[samplingset])\n",
    "    pred_y = model.predict(x)\n",
    "\n",
    "    linear_regression_MSE = {'total': mean_squared_error(y, pred_y),\n",
    "                             'train': mean_squared_error(y[samplingset],\n",
    "                                                         pred_y[samplingset]),\n",
    "                             'test': mean_squared_error(y[not_samplingset],\n",
    "                                                        pred_y[not_samplingset])}\n",
    "\n",
    "    return linear_regression_MSE\n",
    "\n",
    "\n",
    "def get_decision_tree_MSE(x, y, samplingset, not_samplingset):\n",
    "    '''\n",
    "    :param x: a list containing the features of the nodes\n",
    "    :param y: a list containing the labels of the nodes\n",
    "    :param samplingset: the training dataset\n",
    "    :param not_samplingset: the test dataset\n",
    "    :return decision_tree_MSE : the MSE of decision tree for all the nodes, the samplingset and other nodes (test set)\n",
    "    '''\n",
    "\n",
    "    max_depth = 2\n",
    "\n",
    "    regressor = DecisionTreeRegressor(max_depth=max_depth)\n",
    "    regressor.fit(x[samplingset], y[samplingset])\n",
    "    pred_y = regressor.predict(x)\n",
    "\n",
    "    decision_tree_MSE = {'total': mean_squared_error(y, pred_y),\n",
    "                         'train': mean_squared_error(y[samplingset],\n",
    "                                                     pred_y[samplingset]),\n",
    "                         'test': mean_squared_error(y[not_samplingset],\n",
    "                                                    pred_y[not_samplingset])}\n",
    "    return decision_tree_MSE\n",
    "\n",
    "\n",
    "def get_scores(datapoints, predicted_w, fl_w, samplingset, others=True):\n",
    "    N = len(datapoints)\n",
    "    '''\n",
    "    N : the total number of nodes\n",
    "    '''\n",
    "\n",
    "    # calculate algorithm1 MSE\n",
    "    alg_1_score = get_algorithm1_MSE(datapoints, predicted_w, samplingset)\n",
    "    fl_score = get_algorithm1_MSE(datapoints, fl_w, samplingset)\n",
    "    \n",
    "    linear_regression_score = None\n",
    "    decision_tree_score = None\n",
    "\n",
    "    if others:\n",
    "        # prepare the data for calculating the linear regression and decision tree regression MSEs\n",
    "        X = []\n",
    "        '''\n",
    "        X: an array containing the features of all the nodes\n",
    "        '''\n",
    "        true_labels = []\n",
    "        '''\n",
    "        true_labels: an array containing the labels of all the nodes\n",
    "        '''\n",
    "        for i in range(len(datapoints)):\n",
    "            X.append(np.array(datapoints[i]['features']))\n",
    "            true_labels.append(np.array(datapoints[i]['label']))\n",
    "\n",
    "        X = np.array(X)\n",
    "        true_labels = np.array(true_labels)\n",
    "        m, n = X[0].shape\n",
    "\n",
    "        x = X.reshape(-1, n)\n",
    "        y = true_labels.reshape(-1, 1)\n",
    "\n",
    "        reformated_samplingset = []\n",
    "        for item in samplingset:\n",
    "            for i in range(m):\n",
    "                reformated_samplingset.append(m * item + i)\n",
    "        reformated_not_samplingset = [i for i in range(m * N) if i not in reformated_samplingset]\n",
    "        \n",
    "        # calculate linear regression MSE\n",
    "        linear_regression_score = get_linear_regression_MSE(x, y, reformated_samplingset, reformated_not_samplingset)\n",
    "\n",
    "        # calculate decision tree MSE\n",
    "        decision_tree_score = get_decision_tree_MSE(x, y, reformated_samplingset, reformated_not_samplingset)\n",
    "\n",
    "    return alg_1_score, fl_score, linear_regression_score, decision_tree_score\n"
   ]
  },
  {
   "cell_type": "markdown",
   "metadata": {},
   "source": [
    "### Chain graph with Two Clusters"
   ]
  },
  {
   "cell_type": "markdown",
   "metadata": {},
   "source": [
    "This chain graph has two clusters $|C_1| = |C_2| = 100$.\n",
    "Each node $i \\in V$ represents a local dataset consisting of feature vectors $x^{(i,1)}, ... , x^{(i,5)} \\in R^2$.\n",
    "The feature vectors are i.i.d. realizations of a standard Gaussian random vector x ~ N(0,I).\n",
    "The labels $y_1^{(i)}, . . . , y_5^{(i)} \\in R$ for each node $i \\in V$\n",
    "are generated according to the linear model $y_r^{(i)} = (x^{(i, r)})^T w^{(i)} + \\epsilon$, with $\\epsilon = 0$. \n",
    "The tuning parameter $\\lambda$ in algorithm1 \n",
    "is manually chosen, guided by the resulting MSE, as $\\lambda=0.01$ for norm1 and norm2 and also $\\lambda=0.05$ for mocha penalty function. \n",
    "To learn the weight $w^{(i)}$ ,we apply Algorithm 1 to a training set M obtained by randomly selecting 40% of the nodes and use the rest as test set. As the result we compare the mean MSE of Algorithm 1 with plain linear regression and decision tree regression with respect to the different random sampling sets."
   ]
  },
  {
   "cell_type": "code",
   "execution_count": 9,
   "metadata": {},
   "outputs": [],
   "source": [
    "%%capture\n",
    "# from sparsebm import generate_SBM_dataset\n",
    "import networkx as nx\n",
    "\n",
    "\n",
    "def get_chain_graph_data(eps=0.1, m=5, n=2, pin=0.5, pout=0.01, noise_sd=0, is_torch_model=True):\n",
    "    '''\n",
    "    :param m, n: shape of features vector for each node\n",
    "    :param pin: the probability of edges inside each cluster\n",
    "    :param pout: the probability of edges between the clusters\n",
    "    :param noise_sd: the standard deviation of the noise for calculating the labels\n",
    "    \n",
    "    :return B: adjacency matrix of the graph\n",
    "    :return weight_vec: a list containing the edges's weights of the graph\n",
    "    :return true_labels: a list containing the true labels of the nodes\n",
    "    :return datapoints: a dictionary containing the data of each node in the graph needed for the algorithm 1 \n",
    "    '''\n",
    "    cluster_sizes = [100, 100]\n",
    "    probs = np.array([[pin, pout],[pout, pin]])\n",
    "\n",
    "    '''\n",
    "    G: generated SBM graph with 2 clusters\n",
    "    ''' \n",
    "    \n",
    "    # define weight vectors for each cluster of the graph\n",
    "    \n",
    "    W1 = np.array([2, 2])\n",
    "    '''\n",
    "    W1: the weigh vector for the first cluster\n",
    "    '''\n",
    "    W2 = np.array([-2, 2])\n",
    "    '''\n",
    "    W2: the weigh vector for the second cluster\n",
    "    '''\n",
    "    \n",
    "    W = [W1, W2]\n",
    "    \n",
    "    \n",
    "    return get_chain_data(cluster_sizes, eps, W, m, n, noise_sd, is_torch_model)\n",
    "\n"
   ]
  },
  {
   "cell_type": "markdown",
   "metadata": {},
   "source": [
    "Plot the MSE with respect to the different epsilons (0.1, 0.5, 0.8) for each penalty function."
   ]
  },
  {
   "cell_type": "code",
   "execution_count": 10,
   "metadata": {},
   "outputs": [
    {
     "name": "stdout",
     "output_type": "stream",
     "text": [
      "eps norm1\n",
      " MSEs_mean: {0.1: 1.1594532484310633e-09, 0.2: 1.6868663942953736e-09, 0.3: 3.2572463227454003e-09, 0.4: 6.9061653991272175e-09, 0.5: 8.782124258814036e-09, 0.6: 1.2766023393460579e-08, 0.7: 1.8402388249948894e-08, 0.8: 2.0825884645883993e-08, 0.9: 2.8171049394452404e-08}\n",
      " MSEs_std: {0.1: 3.246411197543546e-10, 0.2: 3.301645937853201e-10, 0.3: 6.666860752054638e-10, 0.4: 1.5723057498220185e-09, 0.5: 2.477627651543711e-09, 0.6: 2.9350402532258935e-09, 0.7: 5.467262717717487e-09, 0.8: 4.01090358303869e-09, 0.9: 4.841440885917954e-09}\n"
     ]
    },
    {
     "data": {
      "image/png": "[encoded data removed]",
      "text/plain": [
       "<Figure size 432x288 with 1 Axes>"
      ]
     },
     "metadata": {
      "needs_background": "light"
     },
     "output_type": "display_data"
    },
    {
     "name": "stdout",
     "output_type": "stream",
     "text": [
      "eps norm2\n",
      " MSEs_mean: {0.1: 9.48621033747879e-10, 0.2: 1.6655108106874554e-09, 0.3: 3.313174805661808e-09, 0.4: 6.554177829370778e-09, 0.5: 9.37072992133829e-09, 0.6: 1.2979792637759509e-08, 0.7: 1.4184334781141573e-08, 0.8: 1.9511974976734376e-08, 0.9: 2.7866512357524885e-08}\n",
      " MSEs_std: {0.1: 3.7711429987025106e-10, 0.2: 3.2920269657579444e-10, 0.3: 5.396438810344838e-10, 0.4: 2.0577745045518577e-09, 0.5: 3.3123941414045e-09, 0.6: 4.619675239343689e-09, 0.7: 3.527473042087031e-09, 0.8: 5.5129090780293445e-09, 0.9: 7.022551280418624e-09}\n"
     ]
    },
    {
     "data": {
      "image/png": "[encoded data removed]",
      "text/plain": [
       "<Figure size 432x288 with 1 Axes>"
      ]
     },
     "metadata": {
      "needs_background": "light"
     },
     "output_type": "display_data"
    },
    {
     "name": "stdout",
     "output_type": "stream",
     "text": [
      "eps mocha\n",
      " MSEs_mean: {0.1: 0.0017572493376699096, 0.2: 0.002470344623217021, 0.3: 0.003041518180444044, 0.4: 0.004863057437434009, 0.5: 0.004296593639363011, 0.6: 0.012370201298779271, 0.7: 0.002715364316122152, 0.8: 0.00266025759081966, 0.9: 0.013506234263669004}\n",
      " MSEs_std: {0.1: 0.0013669765323373031, 0.2: 0.002017121978074262, 0.3: 0.0029754293076247945, 0.4: 0.003543497448367122, 0.5: 0.004592212822578225, 0.6: 0.009024557015169464, 0.7: 0.0033140337338864374, 0.8: 0.005314170001779375, 0.9: 0.02276917595361685}\n"
     ]
    },
    {
     "data": {
      "image/png": "[encoded data removed]",
      "text/plain": [
       "<Figure size 432x288 with 1 Axes>"
      ]
     },
     "metadata": {
      "needs_background": "light"
     },
     "output_type": "display_data"
    },
    {
     "name": "stdout",
     "output_type": "stream",
     "text": [
      "eps sq_norm2\n",
      " MSEs_mean: {0.1: 0.0010608348929003028, 0.2: 0.0027512852601056887, 0.3: 0.007211688648978294, 0.4: 0.0038634308984157387, 0.5: 0.00537448929377801, 0.6: 0.013480375967237525, 0.7: 0.01067865168824692, 0.8: 0.01599856966891894, 0.9: 0.01037009661384451}\n",
      " MSEs_std: {0.1: 0.001248026155600936, 0.2: 0.00330345467143747, 0.3: 0.010914319975257904, 0.4: 0.003289257368654464, 0.5: 0.00868587985622643, 0.6: 0.007398066812501163, 0.7: 0.0038139043921207668, 0.8: 0.020366971407085318, 0.9: 0.013117427513600267}\n"
     ]
    },
    {
     "data": {
      "image/png": "[encoded data removed]",
      "text/plain": [
       "<Figure size 432x288 with 1 Axes>"
      ]
     },
     "metadata": {
      "needs_background": "light"
     },
     "output_type": "display_data"
    }
   ],
   "source": [
    "import random\n",
    "import matplotlib.pyplot as plt\n",
    "from collections import defaultdict\n",
    "\n",
    "\n",
    "PENALTY_FUNCS = ['norm1', 'norm2', 'mocha', 'sq_norm2']\n",
    "LAMBDA_LASSO = {'norm1':0.1, 'norm2':0.1, 'mocha':0.05, 'sq_norm2':0.05}\n",
    "\n",
    "K = 2000\n",
    "# K = 1000\n",
    "sampling_ratio = 0.6\n",
    "epses = [0.1, 0.2, 0.3, 0.4, 0.5, 0.6, 0.7, 0.8, 0.9]\n",
    "colors = ['steelblue', 'darkorange', 'green', 'brown']\n",
    "\n",
    "pout_mses = defaultdict(list)\n",
    "\n",
    "for penalty_func in PENALTY_FUNCS:    \n",
    "    num_tries = 5\n",
    "    \n",
    "    lambda_lasso = LAMBDA_LASSO[penalty_func]\n",
    "\n",
    "    from joblib import Parallel, delayed\n",
    "    import multiprocessing\n",
    "    def fun(penalty_func, eps):\n",
    "        B, weight_vec, true_labels, datapoints = get_chain_graph_data(eps, pin=0.5, pout=0.01, is_torch_model=False)\n",
    "        E, N = B.shape\n",
    "\n",
    "        samplingset = random.sample([i for i in range(N)], k=int(sampling_ratio * N))\n",
    "\n",
    "        _, predicted_w = algorithm_1(K, B, weight_vec, datapoints, true_labels, samplingset, \n",
    "                                     lambda_lasso, penalty_func)\n",
    "        _, fl_w = fedAvg(K, datapoints, true_labels, samplingset)\n",
    "\n",
    "        alg1_score = get_algorithm1_w_MSE(datapoints, predicted_w, samplingset)\n",
    "        return eps, alg1_score\n",
    "    \n",
    "    num_cores = multiprocessing.cpu_count()\n",
    "    \n",
    "    results = Parallel(n_jobs=num_cores)(delayed(fun)(penalty_func, eps)\n",
    "                                             for eps in epses\n",
    "                                             for i in range(num_tries))\n",
    "\n",
    "    for eps, alg1_score in results:\n",
    "        pout_mses[(penalty_func, eps)].append(alg1_score['total'])\n",
    "\n",
    "\n",
    "for i, penalty_func in enumerate(PENALTY_FUNCS):\n",
    "    MSEs_mean = {}\n",
    "    MSEs_std = {}\n",
    "    for eps in epses:\n",
    "        MSEs_mean[eps] = np.mean(pout_mses[(penalty_func, eps)])\n",
    "        MSEs_std[eps] = np.std(pout_mses[(penalty_func, eps)])\n",
    "\n",
    "    plt.errorbar(list(MSEs_mean.keys()), list(MSEs_mean.values()), yerr=list(MSEs_std.values()), \n",
    "             ecolor=colors[i], capsize=3,\n",
    "             label='penalty_func=' + str(penalty_func), c=colors[i])\n",
    "\n",
    "    print('eps', penalty_func)\n",
    "    print(' MSEs_mean:', MSEs_mean)\n",
    "    print(' MSEs_std:', MSEs_std)\n",
    "\n",
    "    plt.xlabel('epsilon')\n",
    "    plt.ylabel('MSE')\n",
    "    plt.legend(loc='best')\n",
    "    plt.title('MSE of w as a function of epsilon, %s\\n' % penalty_func)\n",
    "    plt.show()\n",
    "    plt.close()"
   ]
  },
  {
   "cell_type": "code",
   "execution_count": 13,
   "metadata": {},
   "outputs": [
    {
     "name": "stdout",
     "output_type": "stream",
     "text": [
      "penalty_func: norm1\n",
      "M: 0.2\n",
      " MSEs_mean: {0.1: 6.450528033788852e-09, 0.2: 9.207100860431711e-09, 0.3: 2.397148200427708e-08, 0.4: 8.063979631273916e-08, 0.5: 3.8092734499650698e-06, 0.6: 1.029623973613559e-06, 0.7: 1.3789537239640187e-07, 0.8: 0.0012575534898371275, 0.9: 0.046778413015580944}\n",
      " MSEs_std: {0.1: 2.9095087944238872e-09, 0.2: 2.5092052067594424e-09, 0.3: 9.637124652516306e-09, 0.4: 6.250840675000009e-08, 0.5: 7.504150005384733e-06, 0.6: 1.9208182461496883e-06, 0.7: 6.115551943984723e-08, 0.8: 0.002514765694867599, 0.9: 0.09355646098837328}\n",
      "M: 0.4\n",
      " MSEs_mean: {0.1: 1.6522309562517532e-09, 0.2: 3.0576422836665587e-09, 0.3: 7.205894633711722e-09, 0.4: 7.818914323975469e-09, 0.5: 1.7140250832306228e-08, 0.6: 3.0760051768057586e-08, 0.7: 2.986083957287133e-08, 0.8: 6.095102512616233e-08, 0.9: 5.83119787666706e-08}\n",
      " MSEs_std: {0.1: 1.3101367075665044e-10, 0.2: 1.2179952790839212e-09, 0.3: 2.6829239559174136e-09, 0.4: 2.4925941090059103e-09, 0.5: 4.2288256002068605e-09, 0.6: 9.082687581937187e-09, 0.7: 8.582562389996807e-09, 0.8: 3.0310456301711175e-08, 0.9: 2.2195565048340517e-08}\n",
      "M: 0.6\n",
      " MSEs_mean: {0.1: 1.1855389060545945e-09, 0.2: 2.4127057443523097e-09, 0.3: 3.42923281183665e-09, 0.4: 5.219331484964916e-09, 0.5: 9.149267671503905e-09, 0.6: 1.266529140169595e-08, 0.7: 1.523733166479136e-08, 0.8: 2.0994028452593353e-08, 0.9: 2.3420625709755464e-08}\n",
      " MSEs_std: {0.1: 1.946574329711765e-10, 0.2: 8.485878422492927e-10, 0.3: 7.705449580560471e-10, 0.4: 1.3703485208886256e-09, 0.5: 3.2176460597804156e-09, 0.6: 3.037048687777924e-09, 0.7: 3.691200374350334e-09, 0.8: 4.727895139168893e-09, 0.9: 3.0567880614031363e-09}\n"
     ]
    },
    {
     "data": {
      "image/png": "[encoded data removed]",
      "text/plain": [
       "<Figure size 432x288 with 1 Axes>"
      ]
     },
     "metadata": {
      "needs_background": "light"
     },
     "output_type": "display_data"
    },
    {
     "name": "stdout",
     "output_type": "stream",
     "text": [
      "penalty_func: norm2\n",
      "M: 0.2\n",
      " MSEs_mean: {0.1: 8.883467392780296e-07, 0.2: 6.028932801551266e-07, 0.3: 4.7293671384366785e-05, 0.4: 1.8880507223824932e-07, 0.5: 3.000910077536059e-07, 0.6: 2.7914411894895083e-06, 0.7: 0.001410931558401716, 0.8: 1.198064598214853e-07, 0.9: 0.003954297127419375}\n",
      " MSEs_std: {0.1: 1.7482294464353967e-06, 0.2: 1.0948060524852413e-06, 0.3: 9.222352460365227e-05, 0.4: 3.063462960417362e-07, 0.5: 4.949436092021346e-07, 0.6: 5.444448255378726e-06, 0.7: 0.0024138773893786934, 0.8: 2.0283129993830856e-08, 0.9: 0.007908227943112689}\n",
      "M: 0.4\n",
      " MSEs_mean: {0.1: 1.4372441294330751e-09, 0.2: 1.833806788906473e-08, 0.3: 5.207693747229135e-09, 0.4: 9.240306094983327e-09, 0.5: 1.4777394130499844e-08, 0.6: 1.988584764046334e-08, 0.7: 2.9580831872653144e-08, 0.8: 3.9168675786395305e-08, 0.9: 5.1560299413515654e-08}\n",
      " MSEs_std: {0.1: 9.09477031190384e-11, 0.2: 2.9140112189541563e-08, 0.3: 1.3809464979920457e-09, 0.4: 2.298952763558259e-09, 0.5: 2.4171792008754473e-09, 0.6: 6.052343950089054e-09, 0.7: 6.446062735010698e-09, 0.8: 1.1588313330138157e-08, 0.9: 1.0318179155891988e-08}\n",
      "M: 0.6\n",
      " MSEs_mean: {0.1: 6.53363688339517e-10, 0.2: 1.6935975686874488e-09, 0.3: 3.13981625897317e-09, 0.4: 5.328792782787369e-09, 0.5: 6.691905443570497e-09, 0.6: 1.5029566039333527e-08, 0.7: 1.2203841820553516e-08, 0.8: 2.0803790761139444e-08, 0.9: 3.184792790442821e-08}\n",
      " MSEs_std: {0.1: 1.3578813585427878e-10, 0.2: 6.198288774554091e-10, 0.3: 6.809578805612098e-10, 0.4: 1.2901854773772512e-09, 0.5: 8.556988670264716e-10, 0.6: 5.53118470543878e-09, 0.7: 1.8585506712510567e-09, 0.8: 4.5210585516928905e-09, 0.9: 4.924095983955191e-09}\n"
     ]
    },
    {
     "data": {
      "image/png": "[encoded data removed]",
      "text/plain": [
       "<Figure size 432x288 with 1 Axes>"
      ]
     },
     "metadata": {
      "needs_background": "light"
     },
     "output_type": "display_data"
    },
    {
     "name": "stdout",
     "output_type": "stream",
     "text": [
      "penalty_func: mocha\n",
      "M: 0.2\n",
      " MSEs_mean: {0.1: 0.10086497872482511, 0.2: 0.0972695671139214, 0.3: 0.1043934787606311, 0.4: 0.08431494388198316, 0.5: 0.09008530950105159, 0.6: 0.10408164163298153, 0.7: 0.13907629168345634, 0.8: 0.09679111431717431, 0.9: 0.10218757736104703}\n",
      " MSEs_std: {0.1: 0.057822216723463514, 0.2: 0.07123219563705889, 0.3: 0.0634023711065621, 0.4: 0.04243788762584568, 0.5: 0.09601333698575515, 0.6: 0.11303726987246654, 0.7: 0.09377188513687773, 0.8: 0.06784590659487684, 0.9: 0.06790629789510619}\n",
      "M: 0.4\n",
      " MSEs_mean: {0.1: 0.0015046310189728523, 0.2: 0.002154283947043633, 0.3: 0.015897939954329587, 0.4: 0.008176287212950545, 0.5: 0.009822469213546913, 0.6: 0.01131128875762316, 0.7: 0.013953942712648132, 0.8: 0.010250505273260335, 0.9: 0.03998335561905697}\n",
      " MSEs_std: {0.1: 0.0012227607546495497, 0.2: 0.0015567477319964247, 0.3: 0.006039845712072159, 0.4: 0.004740705896832237, 0.5: 0.012634314665570866, 0.6: 0.004453454748172671, 0.7: 0.010454921712610839, 0.8: 0.007174850889052033, 0.9: 0.01812305325540351}\n",
      "M: 0.6\n",
      " MSEs_mean: {0.1: 0.00018251462082436695, 0.2: 0.0012687008383427622, 0.3: 0.0017094999952203486, 0.4: 0.0022489859973620014, 0.5: 0.003378796408803697, 0.6: 0.005945476044007068, 0.7: 0.0047658598130170685, 0.8: 0.0169850796217068, 0.9: 0.007037100876988613}\n",
      " MSEs_std: {0.1: 0.0002313553792845802, 0.2: 0.0015027964852383543, 0.3: 0.0008543256434140607, 0.4: 0.0031218940883211803, 0.5: 0.004828855908517443, 0.6: 0.007275585517390452, 0.7: 0.006664302742956666, 0.8: 0.011592380645783365, 0.9: 0.0035272808571140527}\n"
     ]
    },
    {
     "data": {
      "image/png": "[encoded data removed]",
      "text/plain": [
       "<Figure size 432x288 with 1 Axes>"
      ]
     },
     "metadata": {
      "needs_background": "light"
     },
     "output_type": "display_data"
    }
   ],
   "source": [
    "import random\n",
    "import matplotlib.pyplot as plt\n",
    "\n",
    "from collections import defaultdict\n",
    "from joblib import Parallel, delayed\n",
    "import multiprocessing\n",
    "\n",
    "\n",
    "num_cores = multiprocessing.cpu_count()\n",
    "num_tries = 5\n",
    "\n",
    "\n",
    "PENALTY_FUNCS = ['norm1', 'norm2', 'mocha']\n",
    "\n",
    "lambda_lasso = 0.01\n",
    "\n",
    "K = 3000\n",
    "K = 2000\n",
    "# sampling_ratio = 0.6\n",
    "\n",
    "# pouts = [0.01, 0.1, 0.2, 0.3, 0.4, 0.5, 0.6]\n",
    "epses = [0.1, 0.2, 0.3, 0.4, 0.5, 0.6, 0.7, 0.8, 0.9]\n",
    "sampling_ratios = [0.2, 0.4, 0.6]\n",
    "colors = ['steelblue', 'darkorange', 'green']\n",
    "\n",
    "\n",
    "\n",
    "def fun(penalty_func, sampling_ratio, eps):\n",
    "    lambda_lasso = LAMBDA_LASSO[penalty_func]\n",
    "    B, weight_vec, true_labels, datapoints = get_chain_graph_data(eps, pin=0.5, pout=0.01, \n",
    "                                                                  is_torch_model=False)\n",
    "    E, N = B.shape\n",
    "\n",
    "    samplingset = random.sample([i for i in range(N)], k=int(sampling_ratio * N))\n",
    "\n",
    "    _, predicted_w = algorithm_1(K, B, weight_vec, datapoints, true_labels, samplingset, \n",
    "                                 lambda_lasso, penalty_func)\n",
    "\n",
    "    alg1_score = get_algorithm1_w_MSE(datapoints, predicted_w, samplingset)\n",
    "    return sampling_ratio, eps, alg1_score\n",
    "\n",
    "\n",
    "\n",
    "for penalty_func in PENALTY_FUNCS:\n",
    "    print('penalty_func:', penalty_func)\n",
    "    \n",
    "    results = Parallel(n_jobs=num_cores)(delayed(fun)(penalty_func, sampling_ratio, eps) \n",
    "                                         for sampling_ratio in sampling_ratios \n",
    "                                         for eps in epses for i in range(num_tries))\n",
    "    \n",
    "    pout_mses = defaultdict(list)\n",
    "\n",
    "    for sr, pout, alg1_score in results:\n",
    "        pout_mses[(sr, pout)].append(alg1_score['total'])\n",
    "        \n",
    "    for i, sr in enumerate(sampling_ratios):\n",
    "        MSEs_mean = {}\n",
    "        MSEs_std = {}\n",
    "        for pout in epses:\n",
    "            MSEs_mean[pout] = np.mean(pout_mses[(sr, pout)])\n",
    "            MSEs_std[pout] = np.std(pout_mses[(sr, pout)])\n",
    "\n",
    "        plt.errorbar(list(MSEs_mean.keys()), list(MSEs_mean.values()), yerr=list(MSEs_std.values()), \n",
    "                     ecolor=colors[i], capsize=3,\n",
    "                     label='M=' + str(sr), c=colors[i])\n",
    "        \n",
    "        print('M:', sr)\n",
    "        print(' MSEs_mean:', MSEs_mean)\n",
    "        print(' MSEs_std:', MSEs_std)\n",
    "    \n",
    "    plt.xlabel('epsilon')\n",
    "    plt.ylabel('MSE')\n",
    "    plt.legend(loc='best')\n",
    "    plt.title('Penalty function : %s' % penalty_func)\n",
    "    plt.show()\n",
    "    plt.close()\n",
    "    "
   ]
  },
  {
   "cell_type": "code",
   "execution_count": 16,
   "metadata": {},
   "outputs": [
    {
     "name": "stdout",
     "output_type": "stream",
     "text": [
      "penalty_func: norm1\n",
      "noise 0.01\n",
      " MSEs_mean: {0.1: 2.1264838717756657e-06, 0.2: 2.0068224881295866e-06, 0.3: 1.5172732851461801e-06, 0.4: 2.6215562916298854e-06, 0.5: 1.8070982572662374e-06, 0.6: 2.7521255465244388e-06, 0.7: 2.824381880049093e-06, 0.8: 2.7579182583775017e-06, 0.9: 1.8776442663924866e-06}\n",
      " MSEs_std: {0.1: 5.867980754843677e-07, 0.2: 6.043333264003115e-07, 0.3: 5.925299994326349e-07, 0.4: 1.014730542120129e-06, 0.5: 9.31408654835746e-07, 0.6: 7.90149508675507e-07, 0.7: 1.5410856565894945e-06, 0.8: 7.730045497925711e-07, 0.9: 2.1196393334300747e-07}\n",
      "noise 0.1\n",
      " MSEs_mean: {0.1: 0.0020052803229923654, 0.2: 0.0019739889178190186, 0.3: 0.0028776060998475655, 0.4: 0.0019815450554676317, 0.5: 0.00176740071442194, 0.6: 0.0018445668670379399, 0.7: 0.002040482420106784, 0.8: 0.0017982539617952425, 0.9: 0.002187538804401034}\n",
      " MSEs_std: {0.1: 0.00047718078089378996, 0.2: 0.00027764609669041104, 0.3: 0.0021411018176935672, 0.4: 0.0006479373282755458, 0.5: 0.00025316886689964204, 0.6: 0.0004228855953313878, 0.7: 0.0008207332083295636, 0.8: 0.0004824835804943718, 0.9: 0.0004915653149386246}\n",
      "noise 1.0\n",
      " MSEs_mean: {0.1: 0.34926353465333754, 0.2: 0.3491298005125604, 0.3: 0.4757556889625073, 0.4: 0.3803204259977865, 0.5: 0.4509593775675979, 0.6: 0.42961690501984523, 0.7: 0.3680228023675683, 0.8: 0.38778765514718794, 0.9: 0.37093396785173743}\n",
      " MSEs_std: {0.1: 0.06027147852735726, 0.2: 0.04746273379534965, 0.3: 0.1154106950242499, 0.4: 0.0891973410586582, 0.5: 0.08629257649976949, 0.6: 0.1316341346963547, 0.7: 0.06535929119263495, 0.8: 0.04409810618507953, 0.9: 0.1105051743379137}\n"
     ]
    },
    {
     "data": {
      "image/png": "[encoded data removed]",
      "text/plain": [
       "<Figure size 432x288 with 1 Axes>"
      ]
     },
     "metadata": {
      "needs_background": "light"
     },
     "output_type": "display_data"
    },
    {
     "name": "stdout",
     "output_type": "stream",
     "text": [
      "penalty_func: norm2\n",
      "noise 0.01\n",
      " MSEs_mean: {0.1: 2.5962032665196564e-06, 0.2: 1.9152620292483614e-06, 0.3: 3.051871803648671e-06, 0.4: 2.8545079899871725e-06, 0.5: 2.563000936345994e-06, 0.6: 2.4604453790442928e-06, 0.7: 2.9582207772665183e-06, 0.8: 3.645983320971813e-06, 0.9: 2.8343628600309797e-06}\n",
      " MSEs_std: {0.1: 1.2327027788405038e-06, 0.2: 4.5636432615931844e-07, 0.3: 3.478618891721412e-07, 0.4: 7.830722739195015e-07, 0.5: 1.1234913270324658e-06, 0.6: 8.092763964331557e-07, 0.7: 7.189657682004413e-07, 0.8: 1.5946211971164563e-06, 0.9: 1.2935828815965217e-06}\n",
      "noise 0.1\n",
      " MSEs_mean: {0.1: 0.0025730095917324046, 0.2: 0.002185809999349415, 0.3: 0.0023246772221131363, 0.4: 0.002711539868754755, 0.5: 0.002539037258482037, 0.6: 0.0024056413796052544, 0.7: 0.0025880667632155, 0.8: 0.0026913765492709396, 0.9: 0.002257648339811844}\n",
      " MSEs_std: {0.1: 0.0005751854406482438, 0.2: 0.0003859080207299395, 0.3: 0.0005930123565394478, 0.4: 0.0012711610243078153, 0.5: 0.0005978133539150019, 0.6: 0.0008624982966711635, 0.7: 0.0018806153823120288, 0.8: 0.0016416350372894318, 0.9: 0.0005482683765363676}\n",
      "noise 1.0\n",
      " MSEs_mean: {0.1: 0.3737425215495669, 0.2: 0.371674776026255, 0.3: 0.3752270021873732, 0.4: 0.35313838473429343, 0.5: 0.3439549456132718, 0.6: 0.5301239051309276, 0.7: 0.4242125474528244, 0.8: 0.34320026611915394, 0.9: 0.42863636254833626}\n",
      " MSEs_std: {0.1: 0.1167798554636272, 0.2: 0.088224713676685, 0.3: 0.08629278010591966, 0.4: 0.07470414107340298, 0.5: 0.11016714248929309, 0.6: 0.2442779691536109, 0.7: 0.09275504860624485, 0.8: 0.0453620283648993, 0.9: 0.12898810099218766}\n"
     ]
    },
    {
     "data": {
      "image/png": "[encoded data removed]",
      "text/plain": [
       "<Figure size 432x288 with 1 Axes>"
      ]
     },
     "metadata": {
      "needs_background": "light"
     },
     "output_type": "display_data"
    },
    {
     "name": "stdout",
     "output_type": "stream",
     "text": [
      "penalty_func: mocha\n",
      "noise 0.01\n",
      " MSEs_mean: {0.1: 0.0005953315907014781, 0.2: 0.002988552631865978, 0.3: 0.0055250971477864745, 0.4: 0.010137020547383347, 0.5: 0.0009426388800166004, 0.6: 0.002319772914365247, 0.7: 0.007555483797414697, 0.8: 0.008103897827839289, 0.9: 0.017281671479248216}\n",
      " MSEs_std: {0.1: 0.0006846282395278339, 0.2: 0.0033979385221619626, 0.3: 0.003965860601767643, 0.4: 0.009064742022028324, 0.5: 0.0017969838704563203, 0.6: 0.0027722960230868736, 0.7: 0.005445954644632793, 0.8: 0.0074605910689173206, 0.9: 0.014419201696400017}\n",
      "noise 0.1\n",
      " MSEs_mean: {0.1: 0.007489813292042016, 0.2: 0.008256800704995168, 0.3: 0.005504457960806991, 0.4: 0.010794012442521464, 0.5: 0.011208572650234234, 0.6: 0.0076154439032043286, 0.7: 0.010697966322867241, 0.8: 0.023848272788319084, 0.9: 0.022196141641211982}\n",
      " MSEs_std: {0.1: 0.0034732106289708355, 0.2: 0.007633561448192515, 0.3: 0.00036700841478433356, 0.4: 0.011108518142647628, 0.5: 0.004840233728976167, 0.6: 0.005662239236360407, 0.7: 0.00555056979913911, 0.8: 0.007064785207859429, 0.9: 0.012748104181697766}\n",
      "noise 1.0\n",
      " MSEs_mean: {0.1: 0.391128074868755, 0.2: 0.33101209734113146, 0.3: 0.3504010290636494, 0.4: 0.3259492138379152, 0.5: 0.39457536684036165, 0.6: 0.3810075631224665, 0.7: 0.34457637559477616, 0.8: 0.35516512305590286, 0.9: 0.3794216673531601}\n",
      " MSEs_std: {0.1: 0.09585831135272975, 0.2: 0.07450834100083728, 0.3: 0.1135690714399205, 0.4: 0.07932846770014497, 0.5: 0.1042680543225763, 0.6: 0.10461692373466545, 0.7: 0.04239693691070958, 0.8: 0.07550148508685416, 0.9: 0.07989727862922409}\n"
     ]
    },
    {
     "data": {
      "image/png": "[encoded data removed]",
      "text/plain": [
       "<Figure size 432x288 with 1 Axes>"
      ]
     },
     "metadata": {
      "needs_background": "light"
     },
     "output_type": "display_data"
    }
   ],
   "source": [
    "import random\n",
    "import matplotlib.pyplot as plt\n",
    "\n",
    "\n",
    "PENALTY_FUNCS = ['norm1', 'norm2', 'mocha']\n",
    "\n",
    "lambda_lasso = 0.01\n",
    "\n",
    "K = 2000\n",
    "# K = 1000\n",
    "sampling_ratio = 0.6\n",
    "epses = [0.1, 0.2, 0.3, 0.4, 0.5, 0.6, 0.7, 0.8, 0.9]\n",
    "noises = [0.01, 0.1, 1.0]\n",
    "colors = ['steelblue', 'darkorange', 'green']\n",
    "\n",
    "\n",
    "def fun(penalty_func, noise, eps):\n",
    "    lambda_lasso = LAMBDA_LASSO[penalty_func]\n",
    "    B, weight_vec, true_labels, datapoints = get_chain_graph_data(eps, pin=0.5, pout=0.01, \n",
    "                                                                  noise_sd=noise, is_torch_model=False)\n",
    "    E, N = B.shape\n",
    "\n",
    "    samplingset = random.sample([i for i in range(N)], k=int(sampling_ratio * N))\n",
    "\n",
    "    _, predicted_w = algorithm_1(K, B, weight_vec, datapoints, true_labels, samplingset, \n",
    "                                 lambda_lasso, penalty_func)\n",
    "\n",
    "    alg1_score = get_algorithm1_w_MSE(datapoints, predicted_w, samplingset)\n",
    "    return noise, eps, alg1_score\n",
    "\n",
    "\n",
    "for penalty_func in PENALTY_FUNCS:\n",
    "    print('penalty_func:', penalty_func)\n",
    "        \n",
    "    results = Parallel(n_jobs=num_cores)(delayed(fun)(penalty_func, noise, eps) \n",
    "                                         for noise in noises \n",
    "                                         for eps in epses for i in range(num_tries))\n",
    "    pout_mses = defaultdict(list)\n",
    "\n",
    "    for noise, pout, alg1_score in results:\n",
    "        pout_mses[(noise, pout)].append(alg1_score['total'])\n",
    "\n",
    "\n",
    "    for i, noise in enumerate(noises):\n",
    "        MSEs_mean = {}\n",
    "        MSEs_std = {}\n",
    "        for pout in epses:\n",
    "            MSEs_mean[pout] = np.mean(pout_mses[(noise, pout)])\n",
    "            MSEs_std[pout] = np.std(pout_mses[(noise, pout)])\n",
    "\n",
    "        plt.errorbar(list(MSEs_mean.keys()), list(MSEs_mean.values()), yerr=list(MSEs_std.values()), \n",
    "                 ecolor=colors[i], capsize=3,\n",
    "                 label='noise=' + str(noise), c=colors[i])\n",
    "\n",
    "        print('noise', noise)\n",
    "        print(' MSEs_mean:', MSEs_mean)\n",
    "        print(' MSEs_std:', MSEs_std)\n",
    "\n",
    "    plt.xlabel('epsilon')\n",
    "    plt.ylabel('MSE')\n",
    "    plt.legend(loc='best')\n",
    "    plt.title('Penalty function : %s' % penalty_func)\n",
    "    plt.show()\n",
    "    plt.close()"
   ]
  },
  {
   "cell_type": "code",
   "execution_count": null,
   "metadata": {},
   "outputs": [],
   "source": []
  }
 ],
 "metadata": {
  "kernelspec": {
   "display_name": "Python 3 (ipykernel)",
   "language": "python",
   "name": "python3"
  },
  "language_info": {
   "codemirror_mode": {
    "name": "ipython",
    "version": 3
   },
   "file_extension": ".py",
   "mimetype": "text/x-python",
   "name": "python",
   "nbconvert_exporter": "python",
   "pygments_lexer": "ipython3",
   "version": "3.7.11"
  }
 },
 "nbformat": 4,
 "nbformat_minor": 4
}
